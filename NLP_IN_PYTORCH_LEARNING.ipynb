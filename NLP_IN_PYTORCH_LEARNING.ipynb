{
  "nbformat": 4,
  "nbformat_minor": 0,
  "metadata": {
    "colab": {
      "name": "NLP IN PYTORCH LEARNING.ipynb",
      "provenance": [],
      "collapsed_sections": [
        "D286sK1Mzxhk",
        "zoFU5hwJz2Vm",
        "vw2w52fZaiqj",
        "Jz6UmHN5Y51q",
        "LNFCHrSEjjOj",
        "10sjiIohbmob",
        "BLJvnNutcDEp",
        "-eScJfk-VYpW",
        "UE5IvNcOZ2jb"
      ],
      "authorship_tag": "ABX9TyNQs1mFXNXUF8qwj8g2SKmp",
      "include_colab_link": true
    },
    "kernelspec": {
      "name": "python3",
      "display_name": "Python 3"
    },
    "language_info": {
      "name": "python"
    }
  },
  "cells": [
    {
      "cell_type": "markdown",
      "metadata": {
        "id": "view-in-github",
        "colab_type": "text"
      },
      "source": [
        "<a href=\"https://colab.research.google.com/github/SaiSuvamPatnaik/NLP-in-Pytorch/blob/main/NLP_IN_PYTORCH_LEARNING.ipynb\" target=\"_parent\"><img src=\"https://colab.research.google.com/assets/colab-badge.svg\" alt=\"Open In Colab\"/></a>"
      ]
    },
    {
      "cell_type": "markdown",
      "source": [
        "### Creating Custom Embedding layer"
      ],
      "metadata": {
        "id": "D286sK1Mzxhk"
      }
    },
    {
      "cell_type": "code",
      "execution_count": 44,
      "metadata": {
        "id": "mW62BhFHzBz5"
      },
      "outputs": [],
      "source": [
        "import torch\n",
        "from torch.autograd import Variable\n",
        "import torch.nn as nn\n",
        "import torch.nn.functional as F\n",
        "import pandas as pd"
      ]
    },
    {
      "cell_type": "code",
      "source": [
        "str1 = \"I am Sai Suvam\"\n",
        "idx = {\"I\":0,\"am\":1,\"Sai\":2,\"Suvam\":3}\n",
        "words = str1.split()\n",
        "res = [idx[i] for i in words]\n",
        "print(res)"
      ],
      "metadata": {
        "id": "dBiWjtUU08co",
        "colab": {
          "base_uri": "https://localhost:8080/"
        },
        "outputId": "5d4c9f82-92b6-4d3e-cd13-55971405dd62"
      },
      "execution_count": 57,
      "outputs": [
        {
          "output_type": "stream",
          "name": "stdout",
          "text": [
            "[0, 1, 2, 3]\n"
          ]
        }
      ]
    },
    {
      "cell_type": "code",
      "source": [
        "emb = nn.Embedding(4,5)"
      ],
      "metadata": {
        "id": "cgY7bcoZGGns"
      },
      "execution_count": 58,
      "outputs": []
    },
    {
      "cell_type": "code",
      "source": [
        "emb"
      ],
      "metadata": {
        "colab": {
          "base_uri": "https://localhost:8080/"
        },
        "id": "GGLDKn2SHlDd",
        "outputId": "20b598bc-1a88-476e-8c9b-3d9382563d34"
      },
      "execution_count": 59,
      "outputs": [
        {
          "output_type": "execute_result",
          "data": {
            "text/plain": [
              "Embedding(4, 5)"
            ]
          },
          "metadata": {},
          "execution_count": 59
        }
      ]
    },
    {
      "cell_type": "code",
      "source": [
        "res1 = torch.tensor(res,dtype=torch.int)\n",
        "print(emb(res1))"
      ],
      "metadata": {
        "colab": {
          "base_uri": "https://localhost:8080/"
        },
        "id": "eWtxvO2BGlFh",
        "outputId": "d0e8dc64-b594-47fb-e370-782e6d150891"
      },
      "execution_count": 60,
      "outputs": [
        {
          "output_type": "stream",
          "name": "stdout",
          "text": [
            "tensor([[ 0.3487,  0.3503,  0.6800,  1.2191,  0.7396],\n",
            "        [-0.2765,  0.3094,  0.0553,  0.3246,  0.7265],\n",
            "        [ 1.2239,  0.1168,  1.3115,  0.1312,  0.8654],\n",
            "        [-0.4217, -1.0807, -0.4846,  0.8160, -2.6856]],\n",
            "       grad_fn=<EmbeddingBackward0>)\n"
          ]
        }
      ]
    },
    {
      "cell_type": "code",
      "source": [
        "print(sum(emb(res1)))"
      ],
      "metadata": {
        "colab": {
          "base_uri": "https://localhost:8080/"
        },
        "id": "O-DkRp78aPSX",
        "outputId": "c0b2ecd0-e97a-4800-a3a8-575b11b482cf"
      },
      "execution_count": 5,
      "outputs": [
        {
          "output_type": "stream",
          "name": "stdout",
          "text": [
            "tensor([ 0.0508, -3.5675, -2.2428, -0.1327, -2.1687], grad_fn=<AddBackward0>)\n"
          ]
        }
      ]
    },
    {
      "cell_type": "markdown",
      "source": [
        "### Using pre trained word2vec from gensim library"
      ],
      "metadata": {
        "id": "zoFU5hwJz2Vm"
      }
    },
    {
      "cell_type": "code",
      "source": [
        "import gensim"
      ],
      "metadata": {
        "id": "Nj8k8xIzcCwG"
      },
      "execution_count": null,
      "outputs": []
    },
    {
      "cell_type": "code",
      "source": [
        "review_text = \"Other useful internals in Gensim 4.0+ include model.wv.index_to_key, a plain list of the key (word) in each index position, and model.wv.key_to_index, a plain dict mapping keys (words) to their index positions. In pre-4.0 versions, the vocabulary was in the vocab field of the Word2Vec model's wv property, as a dictionary, with the keys being each token (word). So there it was just the usual Python for getting a dictionary's length:\"\n",
        "prc = gensim.utils.simple_preprocess(review_text)\n"
      ],
      "metadata": {
        "id": "Ubk_Tv2wcCz1"
      },
      "execution_count": null,
      "outputs": []
    },
    {
      "cell_type": "code",
      "source": [
        "model = gensim.models.Word2Vec(\n",
        "    window=3,\n",
        "    min_count=2,\n",
        "    workers=4,\n",
        ")"
      ],
      "metadata": {
        "id": "O3n2Ia-bfm-Y"
      },
      "execution_count": null,
      "outputs": []
    },
    {
      "cell_type": "code",
      "source": [
        "model.build_vocab([prc])"
      ],
      "metadata": {
        "id": "5OAWYM9Ml-Ul"
      },
      "execution_count": null,
      "outputs": []
    },
    {
      "cell_type": "code",
      "source": [
        "model.wv.vocab"
      ],
      "metadata": {
        "colab": {
          "base_uri": "https://localhost:8080/"
        },
        "id": "vxeFQPOJyYXU",
        "outputId": "0645f501-019b-48a9-f7d2-1e0a9121e2c1"
      },
      "execution_count": null,
      "outputs": [
        {
          "output_type": "execute_result",
          "data": {
            "text/plain": [
              "{'dictionary': <gensim.models.keyedvectors.Vocab at 0x7feb68dab610>,\n",
              " 'each': <gensim.models.keyedvectors.Vocab at 0x7feb68dab950>,\n",
              " 'in': <gensim.models.keyedvectors.Vocab at 0x7feb68d4f9d0>,\n",
              " 'index': <gensim.models.keyedvectors.Vocab at 0x7feb68d4f0d0>,\n",
              " 'keys': <gensim.models.keyedvectors.Vocab at 0x7feb68dab550>,\n",
              " 'model': <gensim.models.keyedvectors.Vocab at 0x7feb68d4f7d0>,\n",
              " 'of': <gensim.models.keyedvectors.Vocab at 0x7feb68d4f490>,\n",
              " 'plain': <gensim.models.keyedvectors.Vocab at 0x7feb68d4f450>,\n",
              " 'the': <gensim.models.keyedvectors.Vocab at 0x7feb68dabbd0>,\n",
              " 'was': <gensim.models.keyedvectors.Vocab at 0x7feb68dab490>,\n",
              " 'word': <gensim.models.keyedvectors.Vocab at 0x7feb68dabd10>,\n",
              " 'wv': <gensim.models.keyedvectors.Vocab at 0x7feb68d4f990>}"
            ]
          },
          "metadata": {},
          "execution_count": 89
        }
      ]
    },
    {
      "cell_type": "code",
      "source": [
        "model.train([prc], total_examples=model.corpus_count, epochs=model.epochs)"
      ],
      "metadata": {
        "colab": {
          "base_uri": "https://localhost:8080/"
        },
        "id": "nQpct1-6l-YX",
        "outputId": "3a961c8f-4048-4142-e996-e34b937651fe"
      },
      "execution_count": null,
      "outputs": [
        {
          "output_type": "execute_result",
          "data": {
            "text/plain": [
              "(23, 350)"
            ]
          },
          "metadata": {},
          "execution_count": 90
        }
      ]
    },
    {
      "cell_type": "code",
      "source": [
        "model.save(\"./trial.model\")"
      ],
      "metadata": {
        "id": "VZDoGy9dl-bm"
      },
      "execution_count": null,
      "outputs": []
    },
    {
      "cell_type": "code",
      "source": [
        "model.wv.similarity(w1=\"index\", w2=\"word\")"
      ],
      "metadata": {
        "colab": {
          "base_uri": "https://localhost:8080/"
        },
        "id": "ygrEdgu-l-fO",
        "outputId": "09294a7f-59a1-4b06-d351-617b1002befc"
      },
      "execution_count": null,
      "outputs": [
        {
          "output_type": "execute_result",
          "data": {
            "text/plain": [
              "-0.08971252"
            ]
          },
          "metadata": {},
          "execution_count": 93
        }
      ]
    },
    {
      "cell_type": "code",
      "source": [
        ""
      ],
      "metadata": {
        "id": "ejzyPGXpvHZW"
      },
      "execution_count": null,
      "outputs": []
    },
    {
      "cell_type": "markdown",
      "source": [
        "### Load External Vocabulary and analyse using Gensim"
      ],
      "metadata": {
        "id": "vw2w52fZaiqj"
      }
    },
    {
      "cell_type": "code",
      "source": [
        "import gensim.downloader as api\n",
        "from gensim.model import KeyedVectors\n"
      ],
      "metadata": {
        "id": "IoFBs0JtqXWY"
      },
      "execution_count": null,
      "outputs": []
    },
    {
      "cell_type": "code",
      "source": [
        "mod = api.load(\"glove-wiki-gigaword-100\")"
      ],
      "metadata": {
        "colab": {
          "base_uri": "https://localhost:8080/"
        },
        "id": "CoW2f3w8qXaY",
        "outputId": "1c4d0e3c-f340-4364-9396-e9c46fb007c9"
      },
      "execution_count": null,
      "outputs": [
        {
          "output_type": "stream",
          "name": "stdout",
          "text": [
            "[==================================================] 100.0% 128.1/128.1MB downloaded\n"
          ]
        }
      ]
    },
    {
      "cell_type": "code",
      "source": [
        "mod.most_similar(positive=[\"king\",\"women\"],negative=[\"men\"])"
      ],
      "metadata": {
        "colab": {
          "base_uri": "https://localhost:8080/"
        },
        "id": "EYkcviFTrZg4",
        "outputId": "f61c0dbf-4aad-472e-8b8b-63d4e28b5a33"
      },
      "execution_count": null,
      "outputs": [
        {
          "output_type": "execute_result",
          "data": {
            "text/plain": [
              "[('queen', 0.74156653881073),\n",
              " ('monarch', 0.7021745443344116),\n",
              " ('prince', 0.6327081918716431),\n",
              " ('kingdom', 0.6294623613357544),\n",
              " ('elizabeth', 0.6115030646324158),\n",
              " ('throne', 0.6069279909133911),\n",
              " ('emperor', 0.5794594287872314),\n",
              " ('father', 0.567244291305542),\n",
              " ('son', 0.5642266273498535),\n",
              " ('margaret', 0.5641614198684692)]"
            ]
          },
          "metadata": {},
          "execution_count": 15
        }
      ]
    },
    {
      "cell_type": "code",
      "source": [
        "mod.vectors[0].shape"
      ],
      "metadata": {
        "colab": {
          "base_uri": "https://localhost:8080/"
        },
        "id": "ZOHMT7g7rtiS",
        "outputId": "a7a81c2c-b305-46db-8e54-f721aee6672d"
      },
      "execution_count": null,
      "outputs": [
        {
          "output_type": "execute_result",
          "data": {
            "text/plain": [
              "(100,)"
            ]
          },
          "metadata": {},
          "execution_count": 14
        }
      ]
    },
    {
      "cell_type": "code",
      "source": [
        ""
      ],
      "metadata": {
        "id": "7H5pxVT9W-Hi"
      },
      "execution_count": null,
      "outputs": []
    },
    {
      "cell_type": "markdown",
      "source": [
        "### PreProcessing in NLP (Tensorflow Trial)"
      ],
      "metadata": {
        "id": "Jz6UmHN5Y51q"
      }
    },
    {
      "cell_type": "code",
      "source": [
        "import tensorflow as tf\n",
        "from tensorflow.keras.preprocessing.text import Tokenizer\n",
        "from tensorflow.keras.preprocessing.sequence import pad_sequences\n",
        "\n",
        "sentences = [\"I want to go out.\",\n",
        "             \" I like to play.\",\n",
        "             \" No eating - \",\n",
        "             \"No play!\",\n",
        "            ]\n",
        "tokenizer = Tokenizer(num_words=100, lower= 1, oov_token=\"<OOV>\")\n",
        "\n",
        "# tokenizer = Tokenizer(num_words=100, lower= 1)\n",
        "\n",
        "tokenizer.fit_on_texts(sentences)\n",
        "word_index = tokenizer.word_index\n",
        "print(word_index)"
      ],
      "metadata": {
        "id": "hL4T_pNpXbjx",
        "colab": {
          "base_uri": "https://localhost:8080/"
        },
        "outputId": "1abeab29-9504-4e3c-8e69-106e13d40c8a"
      },
      "execution_count": null,
      "outputs": [
        {
          "output_type": "stream",
          "name": "stdout",
          "text": [
            "{'i': 1, 'to': 2, 'play': 3, 'no': 4, 'want': 5, 'go': 6, 'out': 7, 'like': 8, 'eating': 9}\n"
          ]
        }
      ]
    },
    {
      "cell_type": "code",
      "source": [
        "sequences = tokenizer.texts_to_sequences(sentences)\n",
        "print(sentences)\n",
        "print(word_index)\n",
        "print(sequences)"
      ],
      "metadata": {
        "colab": {
          "base_uri": "https://localhost:8080/"
        },
        "id": "_GLqJW6pZakJ",
        "outputId": "467aa3b4-1b6d-4407-de38-901b849a9861"
      },
      "execution_count": null,
      "outputs": [
        {
          "output_type": "stream",
          "name": "stdout",
          "text": [
            "['I want to go out.', ' I like to play.', ' No eating - ', 'No play!']\n",
            "{'i': 1, 'to': 2, 'play': 3, 'no': 4, 'want': 5, 'go': 6, 'out': 7, 'like': 8, 'eating': 9}\n",
            "[[1, 5, 2, 6, 7], [1, 8, 2, 3], [4, 9], [4, 3]]\n"
          ]
        }
      ]
    },
    {
      "cell_type": "code",
      "source": [
        "pre_pad = pad_sequences(sequences, padding='pre')\n",
        "print(\"\\nword_index = \", word_index)\n",
        "print(\"\\nsequences = \", sequences)\n",
        "print(\"\\npadded_seq = \" )\n",
        "print(pre_pad)"
      ],
      "metadata": {
        "colab": {
          "base_uri": "https://localhost:8080/"
        },
        "id": "IRbU00mqbnGc",
        "outputId": "fc6c8cc1-9ee2-475b-bbdb-19977cbce884"
      },
      "execution_count": null,
      "outputs": [
        {
          "output_type": "stream",
          "name": "stdout",
          "text": [
            "\n",
            "word_index =  {'i': 1, 'to': 2, 'play': 3, 'no': 4, 'want': 5, 'go': 6, 'out': 7, 'like': 8, 'eating': 9}\n",
            "\n",
            "sequences =  [[1, 5, 2, 6, 7], [1, 8, 2, 3], [4, 9], [4, 3]]\n",
            "\n",
            "padded_seq = \n",
            "[[1 5 2 6 7]\n",
            " [1 8 2 3 0]\n",
            " [4 9 0 0 0]\n",
            " [4 3 0 0 0]]\n"
          ]
        }
      ]
    },
    {
      "cell_type": "code",
      "source": [
        "prepad_maxlen_pretrunc = pad_sequences(sequences, padding =\"pre\", maxlen =4, truncating =\"pre\")\n",
        "print(prepad_maxlen_pretrunc)"
      ],
      "metadata": {
        "colab": {
          "base_uri": "https://localhost:8080/"
        },
        "id": "mZ-eJnykbnx_",
        "outputId": "6817a812-64fc-446a-f261-39c09c83c9f9"
      },
      "execution_count": null,
      "outputs": [
        {
          "output_type": "stream",
          "name": "stdout",
          "text": [
            "[[5 2 6 7]\n",
            " [1 8 2 3]\n",
            " [0 0 4 9]\n",
            " [0 0 4 3]]\n"
          ]
        }
      ]
    },
    {
      "cell_type": "code",
      "source": [
        ""
      ],
      "metadata": {
        "id": "_dnmU8nQb_3a"
      },
      "execution_count": null,
      "outputs": []
    },
    {
      "cell_type": "markdown",
      "source": [
        "### Creating Custom Vocabulary"
      ],
      "metadata": {
        "id": "LNFCHrSEjjOj"
      }
    },
    {
      "cell_type": "code",
      "source": [
        "class Vocabulary:\n",
        "    def __init__(self, name):\n",
        "        self.name = name\n",
        "        self.PAD_token = 0   # Used for padding short sentences\n",
        "        self.SOS_token = 1   # Start-of-sentence token\n",
        "        self.EOS_token = 2   # End-of-sentence token\n",
        "        self.word2index = {}\n",
        "        self.word2count = {}\n",
        "        self.index2word = {self.PAD_token: \"PAD\", self.SOS_token: \"SOS\", self.EOS_token: \"EOS\"}\n",
        "        self.num_words = 3\n",
        "        self.num_sentences = 0\n",
        "        self.longest_sentence = 0\n",
        "\n",
        "    def add_word(self, word):\n",
        "        if word not in self.word2index:\n",
        "            # First entry of word into vocabulary\n",
        "            self.word2index[word] = self.num_words\n",
        "            self.word2count[word] = 1\n",
        "            self.index2word[self.num_words] = word\n",
        "            self.num_words += 1\n",
        "        else:\n",
        "            # Word exists; increase word count\n",
        "            self.word2count[word] += 1\n",
        "            \n",
        "    def add_sentence(self, sentence):\n",
        "        sentence_len = 0\n",
        "        for word in sentence.split(' '):\n",
        "            sentence_len += 1\n",
        "            self.add_word(word)\n",
        "        if sentence_len > self.longest_sentence:\n",
        "            # This is the longest sentence\n",
        "            self.longest_sentence = sentence_len\n",
        "        # Count the number of sentences\n",
        "        self.num_sentences += 1\n",
        "\n",
        "    def to_word(self, index):\n",
        "        return self.index2word[index]\n",
        "\n",
        "    def to_index(self, word):\n",
        "        return self.word2index[word]"
      ],
      "metadata": {
        "id": "n0_nWF9xc5Ez"
      },
      "execution_count": null,
      "outputs": []
    },
    {
      "cell_type": "code",
      "source": [
        "voc = Vocabulary('test')\n",
        "print(voc)"
      ],
      "metadata": {
        "colab": {
          "base_uri": "https://localhost:8080/"
        },
        "id": "rnQukEXZf9st",
        "outputId": "e99a5d7f-549b-4bff-d099-630d5c5f9103"
      },
      "execution_count": null,
      "outputs": [
        {
          "output_type": "stream",
          "name": "stdout",
          "text": [
            "<__main__.Vocabulary object at 0x7f01d2bb3d10>\n"
          ]
        }
      ]
    },
    {
      "cell_type": "code",
      "source": [
        "corpus = [\"I want to go out.\",\n",
        "             \" I like to play.\",\n",
        "             \" No eating - \",\n",
        "             \"No play!\",\n",
        "            ]\n",
        "\n",
        "\n",
        "print(corpus)"
      ],
      "metadata": {
        "colab": {
          "base_uri": "https://localhost:8080/"
        },
        "id": "-H2g8cGUgEf5",
        "outputId": "07f0f362-f4f8-49d6-ae88-0929ff56b40e"
      },
      "execution_count": null,
      "outputs": [
        {
          "output_type": "stream",
          "name": "stdout",
          "text": [
            "['I want to go out.', ' I like to play.', ' No eating - ', 'No play!']\n"
          ]
        }
      ]
    },
    {
      "cell_type": "code",
      "source": [
        "for sent in corpus:\n",
        "  voc.add_sentence(sent)\n",
        "print(voc.word2index)"
      ],
      "metadata": {
        "colab": {
          "base_uri": "https://localhost:8080/"
        },
        "id": "oEZUd2vrgmWv",
        "outputId": "07303c7b-4f15-4f8b-c4bf-a983a009c06c"
      },
      "execution_count": null,
      "outputs": [
        {
          "output_type": "stream",
          "name": "stdout",
          "text": [
            "{'I': 3, 'want': 4, 'to': 5, 'go': 6, 'out.': 7, '': 8, 'like': 9, 'play.': 10, 'No': 11, 'eating': 12, '-': 13, 'play!': 14}\n"
          ]
        }
      ]
    },
    {
      "cell_type": "code",
      "source": [
        "print('Token 4 corresponds to token:', voc.to_word(4))\n",
        "print('Token \"go\" corresponds to index:', voc.to_index('go'))"
      ],
      "metadata": {
        "colab": {
          "base_uri": "https://localhost:8080/"
        },
        "id": "zw38PySMgma1",
        "outputId": "2a05ec03-0782-4941-c153-af4efaefce37"
      },
      "execution_count": null,
      "outputs": [
        {
          "output_type": "stream",
          "name": "stdout",
          "text": [
            "Token 4 corresponds to token: want\n",
            "Token \"go\" corresponds to index: 6\n"
          ]
        }
      ]
    },
    {
      "cell_type": "code",
      "source": [
        "sen = \"\"\n",
        "for word in range(voc.num_words):\n",
        "    print(voc.to_word(word),end=\", \")"
      ],
      "metadata": {
        "colab": {
          "base_uri": "https://localhost:8080/"
        },
        "id": "_ePo2jcMgmdf",
        "outputId": "2d015f59-5917-4c59-f1e0-f79a5c7b75a6"
      },
      "execution_count": null,
      "outputs": [
        {
          "output_type": "stream",
          "name": "stdout",
          "text": [
            "PAD, SOS, EOS, I, want, to, go, out., , like, play., No, eating, -, play!, "
          ]
        }
      ]
    },
    {
      "cell_type": "code",
      "source": [
        "sent_tkns = []\n",
        "sent_idxs = []\n",
        "for word in corpus[3].split(' '):\n",
        "  sent_tkns.append(word)\n",
        "  sent_idxs.append(voc.to_index(word))\n",
        "print(sent_tkns)\n",
        "print(sent_idxs)"
      ],
      "metadata": {
        "colab": {
          "base_uri": "https://localhost:8080/"
        },
        "id": "QJ41scvBgwYE",
        "outputId": "2191dae1-9629-4587-8e0b-d93bf8ccac8f"
      },
      "execution_count": null,
      "outputs": [
        {
          "output_type": "stream",
          "name": "stdout",
          "text": [
            "['No', 'play!']\n",
            "[11, 14]\n"
          ]
        }
      ]
    },
    {
      "cell_type": "code",
      "source": [
        ""
      ],
      "metadata": {
        "id": "i01My2nYDGN0"
      },
      "execution_count": null,
      "outputs": []
    },
    {
      "cell_type": "markdown",
      "source": [
        "### One Hot Encoding Using CountVectorizer Class from Scikit Learn"
      ],
      "metadata": {
        "id": "10sjiIohbmob"
      }
    },
    {
      "cell_type": "code",
      "source": [
        "documents = [\"I like this movie, it's funny.\", 'I hate this movie.', 'This was awesome! I like it.', 'Nice one. I love it.']"
      ],
      "metadata": {
        "id": "5tQOFMbGDGXS"
      },
      "execution_count": null,
      "outputs": []
    },
    {
      "cell_type": "code",
      "source": [
        "from sklearn.feature_extraction.text import CountVectorizer\n",
        "import pandas as pd\n",
        "\n",
        "# Step 2. Design the Vocabulary\n",
        "# The default token pattern removes tokens of a single character. That's why we don't have the \"I\" and \"s\" tokens in the output\n",
        "count_vectorizer = CountVectorizer()\n",
        "\n",
        "# Step 3. Create the Bag-of-Words Model\n",
        "bag_of_words = count_vectorizer.fit_transform(documents)\n",
        "\n",
        "# Show the Bag-of-Words Model as a pandas DataFrame\n",
        "feature_names = count_vectorizer.get_feature_names()\n",
        "pd.DataFrame(bag_of_words.toarray(), columns = feature_names)"
      ],
      "metadata": {
        "colab": {
          "base_uri": "https://localhost:8080/",
          "height": 230
        },
        "id": "uh7YGBLmDIT8",
        "outputId": "895dc124-db5f-48f3-c529-57c7f564f2c9"
      },
      "execution_count": null,
      "outputs": [
        {
          "output_type": "stream",
          "name": "stderr",
          "text": [
            "/usr/local/lib/python3.7/dist-packages/sklearn/utils/deprecation.py:87: FutureWarning: Function get_feature_names is deprecated; get_feature_names is deprecated in 1.0 and will be removed in 1.2. Please use get_feature_names_out instead.\n",
            "  warnings.warn(msg, category=FutureWarning)\n"
          ]
        },
        {
          "output_type": "execute_result",
          "data": {
            "text/plain": [
              "   awesome  funny  hate  like  love  movie  nice\n",
              "0        0      1     0     1     0      1     0\n",
              "1        0      0     1     0     0      1     0\n",
              "2        1      0     0     1     0      0     0\n",
              "3        0      0     0     0     1      0     1"
            ],
            "text/html": [
              "\n",
              "  <div id=\"df-b93a149d-a1af-4579-a4cf-d5de822e738f\">\n",
              "    <div class=\"colab-df-container\">\n",
              "      <div>\n",
              "<style scoped>\n",
              "    .dataframe tbody tr th:only-of-type {\n",
              "        vertical-align: middle;\n",
              "    }\n",
              "\n",
              "    .dataframe tbody tr th {\n",
              "        vertical-align: top;\n",
              "    }\n",
              "\n",
              "    .dataframe thead th {\n",
              "        text-align: right;\n",
              "    }\n",
              "</style>\n",
              "<table border=\"1\" class=\"dataframe\">\n",
              "  <thead>\n",
              "    <tr style=\"text-align: right;\">\n",
              "      <th></th>\n",
              "      <th>awesome</th>\n",
              "      <th>funny</th>\n",
              "      <th>hate</th>\n",
              "      <th>like</th>\n",
              "      <th>love</th>\n",
              "      <th>movie</th>\n",
              "      <th>nice</th>\n",
              "    </tr>\n",
              "  </thead>\n",
              "  <tbody>\n",
              "    <tr>\n",
              "      <th>0</th>\n",
              "      <td>0</td>\n",
              "      <td>1</td>\n",
              "      <td>0</td>\n",
              "      <td>1</td>\n",
              "      <td>0</td>\n",
              "      <td>1</td>\n",
              "      <td>0</td>\n",
              "    </tr>\n",
              "    <tr>\n",
              "      <th>1</th>\n",
              "      <td>0</td>\n",
              "      <td>0</td>\n",
              "      <td>1</td>\n",
              "      <td>0</td>\n",
              "      <td>0</td>\n",
              "      <td>1</td>\n",
              "      <td>0</td>\n",
              "    </tr>\n",
              "    <tr>\n",
              "      <th>2</th>\n",
              "      <td>1</td>\n",
              "      <td>0</td>\n",
              "      <td>0</td>\n",
              "      <td>1</td>\n",
              "      <td>0</td>\n",
              "      <td>0</td>\n",
              "      <td>0</td>\n",
              "    </tr>\n",
              "    <tr>\n",
              "      <th>3</th>\n",
              "      <td>0</td>\n",
              "      <td>0</td>\n",
              "      <td>0</td>\n",
              "      <td>0</td>\n",
              "      <td>1</td>\n",
              "      <td>0</td>\n",
              "      <td>1</td>\n",
              "    </tr>\n",
              "  </tbody>\n",
              "</table>\n",
              "</div>\n",
              "      <button class=\"colab-df-convert\" onclick=\"convertToInteractive('df-b93a149d-a1af-4579-a4cf-d5de822e738f')\"\n",
              "              title=\"Convert this dataframe to an interactive table.\"\n",
              "              style=\"display:none;\">\n",
              "        \n",
              "  <svg xmlns=\"http://www.w3.org/2000/svg\" height=\"24px\"viewBox=\"0 0 24 24\"\n",
              "       width=\"24px\">\n",
              "    <path d=\"M0 0h24v24H0V0z\" fill=\"none\"/>\n",
              "    <path d=\"M18.56 5.44l.94 2.06.94-2.06 2.06-.94-2.06-.94-.94-2.06-.94 2.06-2.06.94zm-11 1L8.5 8.5l.94-2.06 2.06-.94-2.06-.94L8.5 2.5l-.94 2.06-2.06.94zm10 10l.94 2.06.94-2.06 2.06-.94-2.06-.94-.94-2.06-.94 2.06-2.06.94z\"/><path d=\"M17.41 7.96l-1.37-1.37c-.4-.4-.92-.59-1.43-.59-.52 0-1.04.2-1.43.59L10.3 9.45l-7.72 7.72c-.78.78-.78 2.05 0 2.83L4 21.41c.39.39.9.59 1.41.59.51 0 1.02-.2 1.41-.59l7.78-7.78 2.81-2.81c.8-.78.8-2.07 0-2.86zM5.41 20L4 18.59l7.72-7.72 1.47 1.35L5.41 20z\"/>\n",
              "  </svg>\n",
              "      </button>\n",
              "      \n",
              "  <style>\n",
              "    .colab-df-container {\n",
              "      display:flex;\n",
              "      flex-wrap:wrap;\n",
              "      gap: 12px;\n",
              "    }\n",
              "\n",
              "    .colab-df-convert {\n",
              "      background-color: #E8F0FE;\n",
              "      border: none;\n",
              "      border-radius: 50%;\n",
              "      cursor: pointer;\n",
              "      display: none;\n",
              "      fill: #1967D2;\n",
              "      height: 32px;\n",
              "      padding: 0 0 0 0;\n",
              "      width: 32px;\n",
              "    }\n",
              "\n",
              "    .colab-df-convert:hover {\n",
              "      background-color: #E2EBFA;\n",
              "      box-shadow: 0px 1px 2px rgba(60, 64, 67, 0.3), 0px 1px 3px 1px rgba(60, 64, 67, 0.15);\n",
              "      fill: #174EA6;\n",
              "    }\n",
              "\n",
              "    [theme=dark] .colab-df-convert {\n",
              "      background-color: #3B4455;\n",
              "      fill: #D2E3FC;\n",
              "    }\n",
              "\n",
              "    [theme=dark] .colab-df-convert:hover {\n",
              "      background-color: #434B5C;\n",
              "      box-shadow: 0px 1px 3px 1px rgba(0, 0, 0, 0.15);\n",
              "      filter: drop-shadow(0px 1px 2px rgba(0, 0, 0, 0.3));\n",
              "      fill: #FFFFFF;\n",
              "    }\n",
              "  </style>\n",
              "\n",
              "      <script>\n",
              "        const buttonEl =\n",
              "          document.querySelector('#df-b93a149d-a1af-4579-a4cf-d5de822e738f button.colab-df-convert');\n",
              "        buttonEl.style.display =\n",
              "          google.colab.kernel.accessAllowed ? 'block' : 'none';\n",
              "\n",
              "        async function convertToInteractive(key) {\n",
              "          const element = document.querySelector('#df-b93a149d-a1af-4579-a4cf-d5de822e738f');\n",
              "          const dataTable =\n",
              "            await google.colab.kernel.invokeFunction('convertToInteractive',\n",
              "                                                     [key], {});\n",
              "          if (!dataTable) return;\n",
              "\n",
              "          const docLinkHtml = 'Like what you see? Visit the ' +\n",
              "            '<a target=\"_blank\" href=https://colab.research.google.com/notebooks/data_table.ipynb>data table notebook</a>'\n",
              "            + ' to learn more about interactive tables.';\n",
              "          element.innerHTML = '';\n",
              "          dataTable['output_type'] = 'display_data';\n",
              "          await google.colab.output.renderOutput(dataTable, element);\n",
              "          const docLink = document.createElement('div');\n",
              "          docLink.innerHTML = docLinkHtml;\n",
              "          element.appendChild(docLink);\n",
              "        }\n",
              "      </script>\n",
              "    </div>\n",
              "  </div>\n",
              "  "
            ]
          },
          "metadata": {},
          "execution_count": 15
        }
      ]
    },
    {
      "cell_type": "code",
      "source": [
        ""
      ],
      "metadata": {
        "id": "DFfWlaRKcChD"
      },
      "execution_count": null,
      "outputs": []
    },
    {
      "cell_type": "markdown",
      "source": [
        "### Using TF-IDF from Scikit Learn"
      ],
      "metadata": {
        "id": "BLJvnNutcDEp"
      }
    },
    {
      "cell_type": "code",
      "source": [
        "from sklearn.feature_extraction.text import TfidfVectorizer\n",
        "import pandas as pd\n",
        "\n",
        "tfidf_vectorizer = TfidfVectorizer()\n",
        "values = tfidf_vectorizer.fit_transform(documents)\n",
        "\n",
        "# Show the Model as a pandas DataFrame\n",
        "feature_names = tfidf_vectorizer.get_feature_names()\n",
        "pd.DataFrame(values.toarray(), columns = feature_names)"
      ],
      "metadata": {
        "colab": {
          "base_uri": "https://localhost:8080/",
          "height": 230
        },
        "id": "yhc0wMiRJsNs",
        "outputId": "6ce4e4ae-aae5-45c4-8719-027edb06ebde"
      },
      "execution_count": null,
      "outputs": [
        {
          "output_type": "stream",
          "name": "stderr",
          "text": [
            "/usr/local/lib/python3.7/dist-packages/sklearn/utils/deprecation.py:87: FutureWarning: Function get_feature_names is deprecated; get_feature_names is deprecated in 1.0 and will be removed in 1.2. Please use get_feature_names_out instead.\n",
            "  warnings.warn(msg, category=FutureWarning)\n"
          ]
        },
        {
          "output_type": "execute_result",
          "data": {
            "text/plain": [
              "    awesome     funny      hate        it      like      love     movie  \\\n",
              "0  0.000000  0.571848  0.000000  0.365003  0.450852  0.000000  0.450852   \n",
              "1  0.000000  0.000000  0.702035  0.000000  0.000000  0.000000  0.553492   \n",
              "2  0.539445  0.000000  0.000000  0.344321  0.425305  0.000000  0.000000   \n",
              "3  0.000000  0.000000  0.000000  0.345783  0.000000  0.541736  0.000000   \n",
              "\n",
              "       nice       one      this       was  \n",
              "0  0.000000  0.000000  0.365003  0.000000  \n",
              "1  0.000000  0.000000  0.448100  0.000000  \n",
              "2  0.000000  0.000000  0.344321  0.539445  \n",
              "3  0.541736  0.541736  0.000000  0.000000  "
            ],
            "text/html": [
              "\n",
              "  <div id=\"df-72531e17-6a1b-4b87-b35c-3c10a0bd67ed\">\n",
              "    <div class=\"colab-df-container\">\n",
              "      <div>\n",
              "<style scoped>\n",
              "    .dataframe tbody tr th:only-of-type {\n",
              "        vertical-align: middle;\n",
              "    }\n",
              "\n",
              "    .dataframe tbody tr th {\n",
              "        vertical-align: top;\n",
              "    }\n",
              "\n",
              "    .dataframe thead th {\n",
              "        text-align: right;\n",
              "    }\n",
              "</style>\n",
              "<table border=\"1\" class=\"dataframe\">\n",
              "  <thead>\n",
              "    <tr style=\"text-align: right;\">\n",
              "      <th></th>\n",
              "      <th>awesome</th>\n",
              "      <th>funny</th>\n",
              "      <th>hate</th>\n",
              "      <th>it</th>\n",
              "      <th>like</th>\n",
              "      <th>love</th>\n",
              "      <th>movie</th>\n",
              "      <th>nice</th>\n",
              "      <th>one</th>\n",
              "      <th>this</th>\n",
              "      <th>was</th>\n",
              "    </tr>\n",
              "  </thead>\n",
              "  <tbody>\n",
              "    <tr>\n",
              "      <th>0</th>\n",
              "      <td>0.000000</td>\n",
              "      <td>0.571848</td>\n",
              "      <td>0.000000</td>\n",
              "      <td>0.365003</td>\n",
              "      <td>0.450852</td>\n",
              "      <td>0.000000</td>\n",
              "      <td>0.450852</td>\n",
              "      <td>0.000000</td>\n",
              "      <td>0.000000</td>\n",
              "      <td>0.365003</td>\n",
              "      <td>0.000000</td>\n",
              "    </tr>\n",
              "    <tr>\n",
              "      <th>1</th>\n",
              "      <td>0.000000</td>\n",
              "      <td>0.000000</td>\n",
              "      <td>0.702035</td>\n",
              "      <td>0.000000</td>\n",
              "      <td>0.000000</td>\n",
              "      <td>0.000000</td>\n",
              "      <td>0.553492</td>\n",
              "      <td>0.000000</td>\n",
              "      <td>0.000000</td>\n",
              "      <td>0.448100</td>\n",
              "      <td>0.000000</td>\n",
              "    </tr>\n",
              "    <tr>\n",
              "      <th>2</th>\n",
              "      <td>0.539445</td>\n",
              "      <td>0.000000</td>\n",
              "      <td>0.000000</td>\n",
              "      <td>0.344321</td>\n",
              "      <td>0.425305</td>\n",
              "      <td>0.000000</td>\n",
              "      <td>0.000000</td>\n",
              "      <td>0.000000</td>\n",
              "      <td>0.000000</td>\n",
              "      <td>0.344321</td>\n",
              "      <td>0.539445</td>\n",
              "    </tr>\n",
              "    <tr>\n",
              "      <th>3</th>\n",
              "      <td>0.000000</td>\n",
              "      <td>0.000000</td>\n",
              "      <td>0.000000</td>\n",
              "      <td>0.345783</td>\n",
              "      <td>0.000000</td>\n",
              "      <td>0.541736</td>\n",
              "      <td>0.000000</td>\n",
              "      <td>0.541736</td>\n",
              "      <td>0.541736</td>\n",
              "      <td>0.000000</td>\n",
              "      <td>0.000000</td>\n",
              "    </tr>\n",
              "  </tbody>\n",
              "</table>\n",
              "</div>\n",
              "      <button class=\"colab-df-convert\" onclick=\"convertToInteractive('df-72531e17-6a1b-4b87-b35c-3c10a0bd67ed')\"\n",
              "              title=\"Convert this dataframe to an interactive table.\"\n",
              "              style=\"display:none;\">\n",
              "        \n",
              "  <svg xmlns=\"http://www.w3.org/2000/svg\" height=\"24px\"viewBox=\"0 0 24 24\"\n",
              "       width=\"24px\">\n",
              "    <path d=\"M0 0h24v24H0V0z\" fill=\"none\"/>\n",
              "    <path d=\"M18.56 5.44l.94 2.06.94-2.06 2.06-.94-2.06-.94-.94-2.06-.94 2.06-2.06.94zm-11 1L8.5 8.5l.94-2.06 2.06-.94-2.06-.94L8.5 2.5l-.94 2.06-2.06.94zm10 10l.94 2.06.94-2.06 2.06-.94-2.06-.94-.94-2.06-.94 2.06-2.06.94z\"/><path d=\"M17.41 7.96l-1.37-1.37c-.4-.4-.92-.59-1.43-.59-.52 0-1.04.2-1.43.59L10.3 9.45l-7.72 7.72c-.78.78-.78 2.05 0 2.83L4 21.41c.39.39.9.59 1.41.59.51 0 1.02-.2 1.41-.59l7.78-7.78 2.81-2.81c.8-.78.8-2.07 0-2.86zM5.41 20L4 18.59l7.72-7.72 1.47 1.35L5.41 20z\"/>\n",
              "  </svg>\n",
              "      </button>\n",
              "      \n",
              "  <style>\n",
              "    .colab-df-container {\n",
              "      display:flex;\n",
              "      flex-wrap:wrap;\n",
              "      gap: 12px;\n",
              "    }\n",
              "\n",
              "    .colab-df-convert {\n",
              "      background-color: #E8F0FE;\n",
              "      border: none;\n",
              "      border-radius: 50%;\n",
              "      cursor: pointer;\n",
              "      display: none;\n",
              "      fill: #1967D2;\n",
              "      height: 32px;\n",
              "      padding: 0 0 0 0;\n",
              "      width: 32px;\n",
              "    }\n",
              "\n",
              "    .colab-df-convert:hover {\n",
              "      background-color: #E2EBFA;\n",
              "      box-shadow: 0px 1px 2px rgba(60, 64, 67, 0.3), 0px 1px 3px 1px rgba(60, 64, 67, 0.15);\n",
              "      fill: #174EA6;\n",
              "    }\n",
              "\n",
              "    [theme=dark] .colab-df-convert {\n",
              "      background-color: #3B4455;\n",
              "      fill: #D2E3FC;\n",
              "    }\n",
              "\n",
              "    [theme=dark] .colab-df-convert:hover {\n",
              "      background-color: #434B5C;\n",
              "      box-shadow: 0px 1px 3px 1px rgba(0, 0, 0, 0.15);\n",
              "      filter: drop-shadow(0px 1px 2px rgba(0, 0, 0, 0.3));\n",
              "      fill: #FFFFFF;\n",
              "    }\n",
              "  </style>\n",
              "\n",
              "      <script>\n",
              "        const buttonEl =\n",
              "          document.querySelector('#df-72531e17-6a1b-4b87-b35c-3c10a0bd67ed button.colab-df-convert');\n",
              "        buttonEl.style.display =\n",
              "          google.colab.kernel.accessAllowed ? 'block' : 'none';\n",
              "\n",
              "        async function convertToInteractive(key) {\n",
              "          const element = document.querySelector('#df-72531e17-6a1b-4b87-b35c-3c10a0bd67ed');\n",
              "          const dataTable =\n",
              "            await google.colab.kernel.invokeFunction('convertToInteractive',\n",
              "                                                     [key], {});\n",
              "          if (!dataTable) return;\n",
              "\n",
              "          const docLinkHtml = 'Like what you see? Visit the ' +\n",
              "            '<a target=\"_blank\" href=https://colab.research.google.com/notebooks/data_table.ipynb>data table notebook</a>'\n",
              "            + ' to learn more about interactive tables.';\n",
              "          element.innerHTML = '';\n",
              "          dataTable['output_type'] = 'display_data';\n",
              "          await google.colab.output.renderOutput(dataTable, element);\n",
              "          const docLink = document.createElement('div');\n",
              "          docLink.innerHTML = docLinkHtml;\n",
              "          element.appendChild(docLink);\n",
              "        }\n",
              "      </script>\n",
              "    </div>\n",
              "  </div>\n",
              "  "
            ]
          },
          "metadata": {},
          "execution_count": 17
        }
      ]
    },
    {
      "cell_type": "markdown",
      "source": [
        "#Vectorization of Text data"
      ],
      "metadata": {
        "id": "FbycGFypaOzU"
      }
    },
    {
      "cell_type": "markdown",
      "source": [
        "### Word2Vec in Pytorch"
      ],
      "metadata": {
        "id": "NNK9ZfTxaG8U"
      }
    },
    {
      "cell_type": "markdown",
      "source": [
        "#### SkipGram in Pytorch Without Neural Network"
      ],
      "metadata": {
        "id": "-eScJfk-VYpW"
      }
    },
    {
      "cell_type": "code",
      "source": [
        "corpus = [\n",
        "    'he is a king',\n",
        "    'she is a queen',\n",
        "    'he is a man',\n",
        "    'she is a woman',\n",
        "    'warsaw is poland capital',\n",
        "    'berlin is germany capital',\n",
        "    'paris is france capital',\n",
        "]"
      ],
      "metadata": {
        "id": "txzu0L1-Vbg9"
      },
      "execution_count": null,
      "outputs": []
    },
    {
      "cell_type": "code",
      "source": [
        "tokenized_corpus = [x.split() for x in corpus]\n",
        "vocabulary = []\n",
        "\n",
        "for sentence in tokenized_corpus:\n",
        "    for token in sentence:\n",
        "        if token not in vocabulary:\n",
        "            vocabulary.append(token)\n",
        "\n",
        "word2idx = {w: idx for (idx, w) in enumerate(vocabulary)}\n",
        "idx2word = {idx: w for (idx, w) in enumerate(vocabulary)}\n",
        "\n",
        "vocabulary_size = len(vocabulary)\n",
        "\n",
        "print(word2idx)\n",
        "print(idx2word)\n",
        "print(vocabulary)"
      ],
      "metadata": {
        "colab": {
          "base_uri": "https://localhost:8080/"
        },
        "id": "nD4aCk9lVfpm",
        "outputId": "6aa2ed2a-6b5f-4bf5-8238-ffd0e31c4dc6"
      },
      "execution_count": null,
      "outputs": [
        {
          "output_type": "stream",
          "name": "stdout",
          "text": [
            "{'he': 0, 'is': 1, 'a': 2, 'king': 3, 'she': 4, 'queen': 5, 'man': 6, 'woman': 7, 'warsaw': 8, 'poland': 9, 'capital': 10, 'berlin': 11, 'germany': 12, 'paris': 13, 'france': 14}\n",
            "{0: 'he', 1: 'is', 2: 'a', 3: 'king', 4: 'she', 5: 'queen', 6: 'man', 7: 'woman', 8: 'warsaw', 9: 'poland', 10: 'capital', 11: 'berlin', 12: 'germany', 13: 'paris', 14: 'france'}\n",
            "['he', 'is', 'a', 'king', 'she', 'queen', 'man', 'woman', 'warsaw', 'poland', 'capital', 'berlin', 'germany', 'paris', 'france']\n"
          ]
        }
      ]
    },
    {
      "cell_type": "code",
      "source": [
        "import numpy as np\n",
        "\n",
        "window_size = 2\n",
        "idx_pairs = []\n",
        "\n",
        "for sentence in tokenized_corpus:                                                         # for each sentence\n",
        "    indices = [word2idx[word] for word in sentence]\n",
        "    for center_word_pos in range(len(indices)):                                           # for each word, threated as center word\n",
        "        for w in range(-window_size, window_size + 1):                                    # for each window position\n",
        "            context_word_pos = center_word_pos + w                                        # make sure not jump out sentence\n",
        "            if context_word_pos < 0 or context_word_pos >= len(indices) or center_word_pos == context_word_pos:\n",
        "                continue\n",
        "            context_word_idx = indices[context_word_pos]\n",
        "            idx_pairs.append((indices[center_word_pos], context_word_idx))\n",
        "    # print(indices)\n",
        "    break\n",
        "\n",
        "idx_pairs = np.array(idx_pairs)                                                           # it will be useful to have this as numpy array\n",
        "print(tokenized_corpus[0])\n",
        "for i in idx_pairs:\n",
        "  print(idx2word[i[0]],idx2word[i[1]])"
      ],
      "metadata": {
        "colab": {
          "base_uri": "https://localhost:8080/"
        },
        "id": "erOA_R59VgkB",
        "outputId": "4b16cf58-100b-4dcd-c080-e893d9ca8b9b"
      },
      "execution_count": null,
      "outputs": [
        {
          "output_type": "stream",
          "name": "stdout",
          "text": [
            "['he', 'is', 'a', 'king']\n",
            "he is\n",
            "he a\n",
            "is he\n",
            "is a\n",
            "is king\n",
            "a he\n",
            "a is\n",
            "a king\n",
            "king is\n",
            "king a\n"
          ]
        }
      ]
    },
    {
      "cell_type": "code",
      "source": [
        "import torch\n",
        "from torch.autograd import Variable\n",
        "import torch.nn.functional as F"
      ],
      "metadata": {
        "id": "N60zfm1vydjU"
      },
      "execution_count": null,
      "outputs": []
    },
    {
      "cell_type": "code",
      "source": [
        "def get_input_layer(word_idx):\n",
        "    x = torch.zeros(vocabulary_size).float()\n",
        "    x[word_idx] = 1.0\n",
        "    return x"
      ],
      "metadata": {
        "id": "5cikmr7uzEZV"
      },
      "execution_count": null,
      "outputs": []
    },
    {
      "cell_type": "code",
      "source": [
        "print(idx_pairs)"
      ],
      "metadata": {
        "colab": {
          "base_uri": "https://localhost:8080/"
        },
        "id": "MTBnzEn7KulH",
        "outputId": "30cc75fa-6b05-4fa6-fabe-36b67646e7b4"
      },
      "execution_count": null,
      "outputs": [
        {
          "output_type": "stream",
          "name": "stdout",
          "text": [
            "[[0 1]\n",
            " [0 2]\n",
            " [1 0]\n",
            " [1 2]\n",
            " [1 3]\n",
            " [2 0]\n",
            " [2 1]\n",
            " [2 3]\n",
            " [3 1]\n",
            " [3 2]]\n"
          ]
        }
      ]
    },
    {
      "cell_type": "code",
      "source": [
        "embedding_dims = 5\n",
        "W1 = Variable(torch.randn(embedding_dims, vocabulary_size).float(), requires_grad=True)\n",
        "W2 = Variable(torch.randn(vocabulary_size, embedding_dims).float(), requires_grad=True)\n",
        "num_epochs = 101\n",
        "learning_rate = 0.001\n",
        "\n",
        "\n",
        "for epo in range(num_epochs):\n",
        "    loss_val = 0\n",
        "    for data, target in idx_pairs:\n",
        "        x = Variable(get_input_layer(data)).float()\n",
        "        # print(x)\n",
        "        y_true = Variable(torch.from_numpy(np.array([target])).long())\n",
        "\n",
        "        z1 = torch.matmul(W1, x)\n",
        "        z2 = torch.matmul(W2, z1)\n",
        "    \n",
        "        log_softmax = F.log_softmax(z2, dim=0)\n",
        "\n",
        "        loss = F.nll_loss(log_softmax.view(1,-1), y_true)\n",
        "        loss_val += loss.item()\n",
        "        loss.backward()\n",
        "        \n",
        "        W1.data -= learning_rate * W1.grad.data\n",
        "        W2.data -= learning_rate * W2.grad.data\n",
        "\n",
        "        W1.grad.data.zero_()\n",
        "        W2.grad.data.zero_()\n",
        "    \n",
        "    if epo % 10 == 0:    \n",
        "        print(f'Loss at epo {epo}: {loss_val/len(idx_pairs)}')\n"
      ],
      "metadata": {
        "colab": {
          "base_uri": "https://localhost:8080/"
        },
        "id": "HMPxcVqSV9nz",
        "outputId": "101d0f5f-901c-4934-a8d2-c2e51e4d96c2"
      },
      "execution_count": null,
      "outputs": [
        {
          "output_type": "stream",
          "name": "stdout",
          "text": [
            "Loss at epo 0: 4.753465402126312\n",
            "Loss at epo 10: 4.581019544601441\n",
            "Loss at epo 20: 4.4241477966308596\n",
            "Loss at epo 30: 4.280653405189514\n",
            "Loss at epo 40: 4.148715305328369\n",
            "Loss at epo 50: 4.026818811893463\n",
            "Loss at epo 60: 3.9136996507644652\n",
            "Loss at epo 70: 3.8083030223846435\n",
            "Loss at epo 80: 3.7097453713417052\n",
            "Loss at epo 90: 3.617284893989563\n",
            "Loss at epo 100: 3.530297946929932\n"
          ]
        }
      ]
    },
    {
      "cell_type": "markdown",
      "source": [
        "#### CBOW"
      ],
      "metadata": {
        "id": "qtii_n_SBi85"
      }
    },
    {
      "cell_type": "code",
      "metadata": {
        "id": "hQyABfVXMyhA"
      },
      "source": [
        "import torch\n",
        "import torch.nn as nn\n",
        "import matplotlib.pyplot as plt\n"
      ],
      "execution_count": 125,
      "outputs": []
    },
    {
      "cell_type": "code",
      "metadata": {
        "id": "ti-UORytM39x"
      },
      "source": [
        "raw_text = \"\"\"During my second month of nursing school, our professor gave us a pop quiz.  \n",
        "I was a conscientious student and had breezed through the questions, until I read the last one: \n",
        "“What is the first name of the woman who cleans the school?”  Surely this was some kind of joke. \n",
        "I had seen the cleaning woman several times. She was tall, dark-haired and in her 50s, but how would I know her name?  \n",
        "I handed in my paper, leaving the last question blank.  Before class ended, one student asked if the last question would count toward our quiz grade.  \n",
        "“Absolutely,” said the professor.  “In your careers you will meet many people. All are significant. They deserve your attention and care, \n",
        "even if all you do is smile and say ‘hello’. I’ve never forgotten that lesson. I also learned her name was Dorothy.\"\"\".split()"
      ],
      "execution_count": 126,
      "outputs": []
    },
    {
      "cell_type": "code",
      "source": [
        "CONTEXT_SIZE = 2  \n",
        "EMDEDDING_DIM = 100\n",
        "\n",
        "vocab = set(raw_text)\n",
        "vocab_size = len(vocab)\n",
        "\n",
        "word_list = list(vocab)\n",
        "\n",
        "word_to_ix = {word:ix for ix, word in enumerate(vocab)}\n",
        "ix_to_word = {ix:word for ix, word in enumerate(vocab)}"
      ],
      "metadata": {
        "id": "pdVHfr9jp0IL"
      },
      "execution_count": 127,
      "outputs": []
    },
    {
      "cell_type": "code",
      "source": [
        "print(vocab)\n",
        "print(vocab_size)\n",
        "print(word_to_ix)\n",
        "print(ix_to_word)"
      ],
      "metadata": {
        "colab": {
          "base_uri": "https://localhost:8080/"
        },
        "id": "Brj4SR4xp68F",
        "outputId": "9bc39c63-c51b-4a1d-dbcc-dadb46c9a10d"
      },
      "execution_count": 128,
      "outputs": [
        {
          "output_type": "stream",
          "name": "stdout",
          "text": [
            "{'lesson.', 'leaving', 'us', 'professor', 'all', 'grade.', 'conscientious', '“What', 'of', 'say', 'month', 'know', 'until', 'who', 'toward', 'many', 'second', 'this', '50s,', 'you', 'I’ve', '“In', 'times.', 'was', 'are', 'people.', 'nursing', '‘hello’.', 'question', 'school?”', 'several', 'my', 'deserve', 'and', 'All', 'Dorothy.', 'woman', 'gave', 'how', 'one:', 'student', 'never', 'cleaning', 'do', 'said', 'ended,', 'school,', 'cleans', 'quiz', 'last', 'name?', 'even', 'our', 'blank.', 'class', '“Absolutely,”', 'some', 'professor.', 'pop', 'Surely', 'in', 'I', 'would', 'one', 'learned', 'meet', 'dark-haired', 'read', 'but', 'forgotten', 'is', 'also', 'a', 'careers', 'kind', 'joke.', 'her', 'seen', 'the', 'During', 'name', 'quiz.', 'questions,', 'Before', 'asked', 'care,', 'through', 'attention', 'had', 'handed', 'breezed', 'tall,', 'will', 'She', 'paper,', 'if', 'that', 'count', 'your', 'significant.', 'first', 'smile', 'They'}\n",
            "103\n",
            "{'lesson.': 0, 'leaving': 1, 'us': 2, 'professor': 3, 'all': 4, 'grade.': 5, 'conscientious': 6, '“What': 7, 'of': 8, 'say': 9, 'month': 10, 'know': 11, 'until': 12, 'who': 13, 'toward': 14, 'many': 15, 'second': 16, 'this': 17, '50s,': 18, 'you': 19, 'I’ve': 20, '“In': 21, 'times.': 22, 'was': 23, 'are': 24, 'people.': 25, 'nursing': 26, '‘hello’.': 27, 'question': 28, 'school?”': 29, 'several': 30, 'my': 31, 'deserve': 32, 'and': 33, 'All': 34, 'Dorothy.': 35, 'woman': 36, 'gave': 37, 'how': 38, 'one:': 39, 'student': 40, 'never': 41, 'cleaning': 42, 'do': 43, 'said': 44, 'ended,': 45, 'school,': 46, 'cleans': 47, 'quiz': 48, 'last': 49, 'name?': 50, 'even': 51, 'our': 52, 'blank.': 53, 'class': 54, '“Absolutely,”': 55, 'some': 56, 'professor.': 57, 'pop': 58, 'Surely': 59, 'in': 60, 'I': 61, 'would': 62, 'one': 63, 'learned': 64, 'meet': 65, 'dark-haired': 66, 'read': 67, 'but': 68, 'forgotten': 69, 'is': 70, 'also': 71, 'a': 72, 'careers': 73, 'kind': 74, 'joke.': 75, 'her': 76, 'seen': 77, 'the': 78, 'During': 79, 'name': 80, 'quiz.': 81, 'questions,': 82, 'Before': 83, 'asked': 84, 'care,': 85, 'through': 86, 'attention': 87, 'had': 88, 'handed': 89, 'breezed': 90, 'tall,': 91, 'will': 92, 'She': 93, 'paper,': 94, 'if': 95, 'that': 96, 'count': 97, 'your': 98, 'significant.': 99, 'first': 100, 'smile': 101, 'They': 102}\n",
            "{0: 'lesson.', 1: 'leaving', 2: 'us', 3: 'professor', 4: 'all', 5: 'grade.', 6: 'conscientious', 7: '“What', 8: 'of', 9: 'say', 10: 'month', 11: 'know', 12: 'until', 13: 'who', 14: 'toward', 15: 'many', 16: 'second', 17: 'this', 18: '50s,', 19: 'you', 20: 'I’ve', 21: '“In', 22: 'times.', 23: 'was', 24: 'are', 25: 'people.', 26: 'nursing', 27: '‘hello’.', 28: 'question', 29: 'school?”', 30: 'several', 31: 'my', 32: 'deserve', 33: 'and', 34: 'All', 35: 'Dorothy.', 36: 'woman', 37: 'gave', 38: 'how', 39: 'one:', 40: 'student', 41: 'never', 42: 'cleaning', 43: 'do', 44: 'said', 45: 'ended,', 46: 'school,', 47: 'cleans', 48: 'quiz', 49: 'last', 50: 'name?', 51: 'even', 52: 'our', 53: 'blank.', 54: 'class', 55: '“Absolutely,”', 56: 'some', 57: 'professor.', 58: 'pop', 59: 'Surely', 60: 'in', 61: 'I', 62: 'would', 63: 'one', 64: 'learned', 65: 'meet', 66: 'dark-haired', 67: 'read', 68: 'but', 69: 'forgotten', 70: 'is', 71: 'also', 72: 'a', 73: 'careers', 74: 'kind', 75: 'joke.', 76: 'her', 77: 'seen', 78: 'the', 79: 'During', 80: 'name', 81: 'quiz.', 82: 'questions,', 83: 'Before', 84: 'asked', 85: 'care,', 86: 'through', 87: 'attention', 88: 'had', 89: 'handed', 90: 'breezed', 91: 'tall,', 92: 'will', 93: 'She', 94: 'paper,', 95: 'if', 96: 'that', 97: 'count', 98: 'your', 99: 'significant.', 100: 'first', 101: 'smile', 102: 'They'}\n"
          ]
        }
      ]
    },
    {
      "cell_type": "code",
      "source": [
        "\"\"\"During my second month of nursing school\"\"\"\n",
        "def CBOW(raw_text, window_size=2):\n",
        "    data = []\n",
        "    for i in range(window_size, len(raw_text) - window_size):\n",
        "        context = [raw_text[i - window_size], raw_text[i - (window_size - 1)], raw_text[i + (window_size - 1)], raw_text[i + window_size]]\n",
        "        \n",
        "        # context = raw_text[i - window_size:i + window_size+1]\n",
        "        # context.remove(raw_text[i])                                        //Alternate Way of finding Context Words\n",
        "        \n",
        "        target = raw_text[i]\n",
        "        data.append((context, target))\n",
        "\n",
        "    return data,target\n",
        "\n",
        "\n",
        "data,target = CBOW(raw_text)\n",
        "data[:10]"
      ],
      "metadata": {
        "colab": {
          "base_uri": "https://localhost:8080/"
        },
        "id": "cGmQwIB9qjWN",
        "outputId": "5f1047b4-82b1-4d71-85a5-572a2fd6313c"
      },
      "execution_count": 129,
      "outputs": [
        {
          "output_type": "execute_result",
          "data": {
            "text/plain": [
              "[(['During', 'my', 'month', 'of'], 'second'),\n",
              " (['my', 'second', 'of', 'nursing'], 'month'),\n",
              " (['second', 'month', 'nursing', 'school,'], 'of'),\n",
              " (['month', 'of', 'school,', 'our'], 'nursing'),\n",
              " (['of', 'nursing', 'our', 'professor'], 'school,'),\n",
              " (['nursing', 'school,', 'professor', 'gave'], 'our'),\n",
              " (['school,', 'our', 'gave', 'us'], 'professor'),\n",
              " (['our', 'professor', 'us', 'a'], 'gave'),\n",
              " (['professor', 'gave', 'a', 'pop'], 'us'),\n",
              " (['gave', 'us', 'pop', 'quiz.'], 'a')]"
            ]
          },
          "metadata": {},
          "execution_count": 129
        }
      ]
    },
    {
      "cell_type": "code",
      "source": [
        "def make_context_vector(context, word_to_ix):\n",
        "    idxs = [word_to_ix[w] for w in context]\n",
        "    return torch.tensor(idxs, dtype=torch.long)"
      ],
      "metadata": {
        "id": "IzaND3dVm2qw"
      },
      "execution_count": 130,
      "outputs": []
    },
    {
      "cell_type": "code",
      "source": [
        "class CBOW_Model(torch.nn.Module):\n",
        "    def __init__(self, vocab_size, embedding_dim):\n",
        "        super(CBOW_Model, self).__init__()\n",
        "\n",
        "        #out: 1 x emdedding_dim\n",
        "        self.embeddings = nn.Embedding(vocab_size, embedding_dim)\n",
        "        self.linear1 = nn.Linear(embedding_dim, 128)\n",
        "        self.activation_function1 = nn.ReLU()\n",
        "        \n",
        "        #out: 1 x vocab_size\n",
        "        self.linear2 = nn.Linear(128, vocab_size)\n",
        "        \n",
        "\n",
        "    def forward(self, inputs):\n",
        "        # print(sum(self.embeddings(inputs)).view(1,-1))\n",
        "        embeds = sum(self.embeddings(inputs)).view(1,-1)\n",
        "        out = self.linear1(embeds)\n",
        "        out = self.activation_function1(out)\n",
        "        out = self.linear2(out)\n",
        "        # print(\"Output:\",out)\n",
        "        return out\n",
        "\n",
        "    def get_word_emdedding(self, word):\n",
        "        word = torch.tensor([word_to_ix[word]])\n",
        "        # print(word)\n",
        "        # print(self.embeddings(word).view(1,-1))\n",
        "        return self.embeddings(word).view(1,-1)"
      ],
      "metadata": {
        "id": "zjEvZC1etOny"
      },
      "execution_count": 131,
      "outputs": []
    },
    {
      "cell_type": "code",
      "source": [
        "model = CBOW_Model(vocab_size, EMDEDDING_DIM)\n",
        "\n",
        "loss_function = nn.CrossEntropyLoss()\n",
        "optimizer = torch.optim.SGD(model.parameters(), lr=0.01)"
      ],
      "metadata": {
        "id": "PRaigtZG0SDT"
      },
      "execution_count": 132,
      "outputs": []
    },
    {
      "cell_type": "code",
      "source": [
        ""
      ],
      "metadata": {
        "colab": {
          "base_uri": "https://localhost:8080/"
        },
        "id": "Qm0NE5LCMnXd",
        "outputId": "f4707430-457e-4e65-93c7-2741830d6639"
      },
      "execution_count": 135,
      "outputs": [
        {
          "output_type": "execute_result",
          "data": {
            "text/plain": [
              "7038"
            ]
          },
          "metadata": {},
          "execution_count": 135
        }
      ]
    },
    {
      "cell_type": "code",
      "source": [
        "#TRAINING\n",
        "for epoch in range(1):\n",
        "    total_loss = 0\n",
        "\n",
        "    for context, target in data:\n",
        "        c+=1\n",
        "        context_vector = make_context_vector(context, word_to_ix)  \n",
        "        \n",
        "        log_probs = model.forward(context_vector)\n",
        "\n",
        "        # print(\"Context: {}, Target: {}, Output: {}\".format(context,target,ix_to_word[torch.argmax(model(context_vector), 1).item()]))\n",
        "        \n",
        "        total_loss += loss_function(log_probs, torch.tensor([word_to_ix[target]]))\n",
        "\n",
        "        # break\n",
        "\n",
        "    if epoch%10==0:\n",
        "          print(\"Epoch {}: {}\".format(epoch,total_loss.data))\n",
        "        \n",
        "    optimizer.zero_grad()\n",
        "    total_loss.backward()\n",
        "    optimizer.step()\n",
        "print(c)"
      ],
      "metadata": {
        "colab": {
          "base_uri": "https://localhost:8080/"
        },
        "id": "PTHIvlVN0SG_",
        "outputId": "9424862f-759e-4570-c0ff-a298e7b3f6ce"
      },
      "execution_count": 140,
      "outputs": [
        {
          "output_type": "stream",
          "name": "stdout",
          "text": [
            "Context: ['During', 'my', 'month', 'of'], Target: second, Output: second\n",
            "Context: ['my', 'second', 'of', 'nursing'], Target: month, Output: month\n",
            "Context: ['second', 'month', 'nursing', 'school,'], Target: of, Output: of\n",
            "Context: ['month', 'of', 'school,', 'our'], Target: nursing, Output: nursing\n",
            "Context: ['of', 'nursing', 'our', 'professor'], Target: school,, Output: school,\n",
            "Context: ['nursing', 'school,', 'professor', 'gave'], Target: our, Output: our\n",
            "Context: ['school,', 'our', 'gave', 'us'], Target: professor, Output: professor\n",
            "Context: ['our', 'professor', 'us', 'a'], Target: gave, Output: gave\n",
            "Context: ['professor', 'gave', 'a', 'pop'], Target: us, Output: us\n",
            "Context: ['gave', 'us', 'pop', 'quiz.'], Target: a, Output: a\n",
            "Context: ['us', 'a', 'quiz.', 'I'], Target: pop, Output: pop\n",
            "Context: ['a', 'pop', 'I', 'was'], Target: quiz., Output: quiz.\n",
            "Context: ['pop', 'quiz.', 'was', 'a'], Target: I, Output: I\n",
            "Context: ['quiz.', 'I', 'a', 'conscientious'], Target: was, Output: was\n",
            "Context: ['I', 'was', 'conscientious', 'student'], Target: a, Output: a\n",
            "Context: ['was', 'a', 'student', 'and'], Target: conscientious, Output: conscientious\n",
            "Context: ['a', 'conscientious', 'and', 'had'], Target: student, Output: student\n",
            "Context: ['conscientious', 'student', 'had', 'breezed'], Target: and, Output: and\n",
            "Context: ['student', 'and', 'breezed', 'through'], Target: had, Output: had\n",
            "Context: ['and', 'had', 'through', 'the'], Target: breezed, Output: breezed\n",
            "Context: ['had', 'breezed', 'the', 'questions,'], Target: through, Output: through\n",
            "Context: ['breezed', 'through', 'questions,', 'until'], Target: the, Output: the\n",
            "Context: ['through', 'the', 'until', 'I'], Target: questions,, Output: questions,\n",
            "Context: ['the', 'questions,', 'I', 'read'], Target: until, Output: until\n",
            "Context: ['questions,', 'until', 'read', 'the'], Target: I, Output: I\n",
            "Context: ['until', 'I', 'the', 'last'], Target: read, Output: read\n",
            "Context: ['I', 'read', 'last', 'one:'], Target: the, Output: the\n",
            "Context: ['read', 'the', 'one:', '“What'], Target: last, Output: last\n",
            "Context: ['the', 'last', '“What', 'is'], Target: one:, Output: one:\n",
            "Context: ['last', 'one:', 'is', 'the'], Target: “What, Output: “What\n",
            "Context: ['one:', '“What', 'the', 'first'], Target: is, Output: is\n",
            "Context: ['“What', 'is', 'first', 'name'], Target: the, Output: the\n",
            "Context: ['is', 'the', 'name', 'of'], Target: first, Output: first\n",
            "Context: ['the', 'first', 'of', 'the'], Target: name, Output: name\n",
            "Context: ['first', 'name', 'the', 'woman'], Target: of, Output: of\n",
            "Context: ['name', 'of', 'woman', 'who'], Target: the, Output: the\n",
            "Context: ['of', 'the', 'who', 'cleans'], Target: woman, Output: woman\n",
            "Context: ['the', 'woman', 'cleans', 'the'], Target: who, Output: who\n",
            "Context: ['woman', 'who', 'the', 'school?”'], Target: cleans, Output: cleans\n",
            "Context: ['who', 'cleans', 'school?”', 'Surely'], Target: the, Output: the\n",
            "Context: ['cleans', 'the', 'Surely', 'this'], Target: school?”, Output: school?”\n",
            "Context: ['the', 'school?”', 'this', 'was'], Target: Surely, Output: Surely\n",
            "Context: ['school?”', 'Surely', 'was', 'some'], Target: this, Output: this\n",
            "Context: ['Surely', 'this', 'some', 'kind'], Target: was, Output: was\n",
            "Context: ['this', 'was', 'kind', 'of'], Target: some, Output: some\n",
            "Context: ['was', 'some', 'of', 'joke.'], Target: kind, Output: kind\n",
            "Context: ['some', 'kind', 'joke.', 'I'], Target: of, Output: of\n",
            "Context: ['kind', 'of', 'I', 'had'], Target: joke., Output: joke.\n",
            "Context: ['of', 'joke.', 'had', 'seen'], Target: I, Output: I\n",
            "Context: ['joke.', 'I', 'seen', 'the'], Target: had, Output: had\n",
            "Context: ['I', 'had', 'the', 'cleaning'], Target: seen, Output: seen\n",
            "Context: ['had', 'seen', 'cleaning', 'woman'], Target: the, Output: the\n",
            "Context: ['seen', 'the', 'woman', 'several'], Target: cleaning, Output: cleaning\n",
            "Context: ['the', 'cleaning', 'several', 'times.'], Target: woman, Output: woman\n",
            "Context: ['cleaning', 'woman', 'times.', 'She'], Target: several, Output: several\n",
            "Context: ['woman', 'several', 'She', 'was'], Target: times., Output: times.\n",
            "Context: ['several', 'times.', 'was', 'tall,'], Target: She, Output: She\n",
            "Context: ['times.', 'She', 'tall,', 'dark-haired'], Target: was, Output: was\n",
            "Context: ['She', 'was', 'dark-haired', 'and'], Target: tall,, Output: tall,\n",
            "Context: ['was', 'tall,', 'and', 'in'], Target: dark-haired, Output: dark-haired\n",
            "Context: ['tall,', 'dark-haired', 'in', 'her'], Target: and, Output: and\n",
            "Context: ['dark-haired', 'and', 'her', '50s,'], Target: in, Output: in\n",
            "Context: ['and', 'in', '50s,', 'but'], Target: her, Output: her\n",
            "Context: ['in', 'her', 'but', 'how'], Target: 50s,, Output: 50s,\n",
            "Context: ['her', '50s,', 'how', 'would'], Target: but, Output: but\n",
            "Context: ['50s,', 'but', 'would', 'I'], Target: how, Output: how\n",
            "Context: ['but', 'how', 'I', 'know'], Target: would, Output: would\n",
            "Context: ['how', 'would', 'know', 'her'], Target: I, Output: I\n",
            "Context: ['would', 'I', 'her', 'name?'], Target: know, Output: know\n",
            "Context: ['I', 'know', 'name?', 'I'], Target: her, Output: her\n",
            "Context: ['know', 'her', 'I', 'handed'], Target: name?, Output: name?\n",
            "Context: ['her', 'name?', 'handed', 'in'], Target: I, Output: I\n",
            "Context: ['name?', 'I', 'in', 'my'], Target: handed, Output: handed\n",
            "Context: ['I', 'handed', 'my', 'paper,'], Target: in, Output: in\n",
            "Context: ['handed', 'in', 'paper,', 'leaving'], Target: my, Output: my\n",
            "Context: ['in', 'my', 'leaving', 'the'], Target: paper,, Output: paper,\n",
            "Context: ['my', 'paper,', 'the', 'last'], Target: leaving, Output: leaving\n",
            "Context: ['paper,', 'leaving', 'last', 'question'], Target: the, Output: the\n",
            "Context: ['leaving', 'the', 'question', 'blank.'], Target: last, Output: last\n",
            "Context: ['the', 'last', 'blank.', 'Before'], Target: question, Output: question\n",
            "Context: ['last', 'question', 'Before', 'class'], Target: blank., Output: blank.\n",
            "Context: ['question', 'blank.', 'class', 'ended,'], Target: Before, Output: Before\n",
            "Context: ['blank.', 'Before', 'ended,', 'one'], Target: class, Output: class\n",
            "Context: ['Before', 'class', 'one', 'student'], Target: ended,, Output: ended,\n",
            "Context: ['class', 'ended,', 'student', 'asked'], Target: one, Output: one\n",
            "Context: ['ended,', 'one', 'asked', 'if'], Target: student, Output: student\n",
            "Context: ['one', 'student', 'if', 'the'], Target: asked, Output: asked\n",
            "Context: ['student', 'asked', 'the', 'last'], Target: if, Output: if\n",
            "Context: ['asked', 'if', 'last', 'question'], Target: the, Output: the\n",
            "Context: ['if', 'the', 'question', 'would'], Target: last, Output: last\n",
            "Context: ['the', 'last', 'would', 'count'], Target: question, Output: question\n",
            "Context: ['last', 'question', 'count', 'toward'], Target: would, Output: would\n",
            "Context: ['question', 'would', 'toward', 'our'], Target: count, Output: count\n",
            "Context: ['would', 'count', 'our', 'quiz'], Target: toward, Output: toward\n",
            "Context: ['count', 'toward', 'quiz', 'grade.'], Target: our, Output: our\n",
            "Context: ['toward', 'our', 'grade.', '“Absolutely,”'], Target: quiz, Output: quiz\n",
            "Context: ['our', 'quiz', '“Absolutely,”', 'said'], Target: grade., Output: grade.\n",
            "Context: ['quiz', 'grade.', 'said', 'the'], Target: “Absolutely,”, Output: “Absolutely,”\n",
            "Context: ['grade.', '“Absolutely,”', 'the', 'professor.'], Target: said, Output: said\n",
            "Context: ['“Absolutely,”', 'said', 'professor.', '“In'], Target: the, Output: the\n",
            "Context: ['said', 'the', '“In', 'your'], Target: professor., Output: professor.\n",
            "Context: ['the', 'professor.', 'your', 'careers'], Target: “In, Output: “In\n",
            "Context: ['professor.', '“In', 'careers', 'you'], Target: your, Output: your\n",
            "Context: ['“In', 'your', 'you', 'will'], Target: careers, Output: careers\n",
            "Context: ['your', 'careers', 'will', 'meet'], Target: you, Output: you\n",
            "Context: ['careers', 'you', 'meet', 'many'], Target: will, Output: will\n",
            "Context: ['you', 'will', 'many', 'people.'], Target: meet, Output: meet\n",
            "Context: ['will', 'meet', 'people.', 'All'], Target: many, Output: many\n",
            "Context: ['meet', 'many', 'All', 'are'], Target: people., Output: people.\n",
            "Context: ['many', 'people.', 'are', 'significant.'], Target: All, Output: All\n",
            "Context: ['people.', 'All', 'significant.', 'They'], Target: are, Output: are\n",
            "Context: ['All', 'are', 'They', 'deserve'], Target: significant., Output: significant.\n",
            "Context: ['are', 'significant.', 'deserve', 'your'], Target: They, Output: They\n",
            "Context: ['significant.', 'They', 'your', 'attention'], Target: deserve, Output: deserve\n",
            "Context: ['They', 'deserve', 'attention', 'and'], Target: your, Output: your\n",
            "Context: ['deserve', 'your', 'and', 'care,'], Target: attention, Output: attention\n",
            "Context: ['your', 'attention', 'care,', 'even'], Target: and, Output: and\n",
            "Context: ['attention', 'and', 'even', 'if'], Target: care,, Output: care,\n",
            "Context: ['and', 'care,', 'if', 'all'], Target: even, Output: even\n",
            "Context: ['care,', 'even', 'all', 'you'], Target: if, Output: if\n",
            "Context: ['even', 'if', 'you', 'do'], Target: all, Output: all\n",
            "Context: ['if', 'all', 'do', 'is'], Target: you, Output: you\n",
            "Context: ['all', 'you', 'is', 'smile'], Target: do, Output: do\n",
            "Context: ['you', 'do', 'smile', 'and'], Target: is, Output: is\n",
            "Context: ['do', 'is', 'and', 'say'], Target: smile, Output: smile\n",
            "Context: ['is', 'smile', 'say', '‘hello’.'], Target: and, Output: and\n",
            "Context: ['smile', 'and', '‘hello’.', 'I’ve'], Target: say, Output: say\n",
            "Context: ['and', 'say', 'I’ve', 'never'], Target: ‘hello’., Output: ‘hello’.\n",
            "Context: ['say', '‘hello’.', 'never', 'forgotten'], Target: I’ve, Output: I’ve\n",
            "Context: ['‘hello’.', 'I’ve', 'forgotten', 'that'], Target: never, Output: never\n",
            "Context: ['I’ve', 'never', 'that', 'lesson.'], Target: forgotten, Output: forgotten\n",
            "Context: ['never', 'forgotten', 'lesson.', 'I'], Target: that, Output: that\n",
            "Context: ['forgotten', 'that', 'I', 'also'], Target: lesson., Output: lesson.\n",
            "Context: ['that', 'lesson.', 'also', 'learned'], Target: I, Output: I\n",
            "Context: ['lesson.', 'I', 'learned', 'her'], Target: also, Output: also\n",
            "Context: ['I', 'also', 'her', 'name'], Target: learned, Output: learned\n",
            "Context: ['also', 'learned', 'name', 'was'], Target: her, Output: her\n",
            "Context: ['learned', 'her', 'was', 'Dorothy.'], Target: name, Output: name\n",
            "Epoch 0: 0.45018455386161804\n",
            "7316\n"
          ]
        }
      ]
    },
    {
      "cell_type": "code",
      "source": [
        "plt.figure(figsize=(15,10))\n",
        "for w in word_list:\n",
        "    x = model.get_word_emdedding(w).detach().data.numpy()[0][0]\n",
        "    y = model.get_word_emdedding(w).detach().data.numpy()[0][1]\n",
        "    # print(x,y)\n",
        "    plt.scatter(x, y)\n",
        "    plt.annotate(w, xy=(x, y), xytext=(5, 2), textcoords='offset points', ha='right', va='bottom')\n",
        "plt.show()"
      ],
      "metadata": {
        "colab": {
          "base_uri": "https://localhost:8080/",
          "height": 592
        },
        "id": "I7LQByAJ0SKh",
        "outputId": "ffff00d3-aa1b-46b4-bf37-ea3d6286fd8a"
      },
      "execution_count": 141,
      "outputs": [
        {
          "output_type": "display_data",
          "data": {
            "text/plain": [
              "<Figure size 1080x720 with 1 Axes>"
            ],
            "image/png": "[encoded data removed]"
          },
          "metadata": {
            "needs_background": "light"
          }
        }
      ]
    },
    {
      "cell_type": "code",
      "source": [
        "data[0]"
      ],
      "metadata": {
        "colab": {
          "base_uri": "https://localhost:8080/"
        },
        "id": "XE7PYkpwrD6Y",
        "outputId": "8d298452-2c8d-48cc-903f-ce8c398a8bbc"
      },
      "execution_count": 142,
      "outputs": [
        {
          "output_type": "execute_result",
          "data": {
            "text/plain": [
              "(['During', 'my', 'month', 'of'], 'second')"
            ]
          },
          "metadata": {},
          "execution_count": 142
        }
      ]
    },
    {
      "cell_type": "code",
      "metadata": {
        "id": "9PcnGi4OWFmo"
      },
      "source": [
        "def CBOW_test(test_data, model):\n",
        "    correct_ct = 0\n",
        "\n",
        "    for context, target in data:\n",
        "        context_vector = make_context_vector(context, word_to_ix)  \n",
        "        model.zero_grad()\n",
        "        predicted = torch.argmax(model(context_vector), 1)\n",
        "        # print(model(context_vector),predicted)\n",
        "        if predicted[0] == torch.tensor([word_to_ix[target]]):\n",
        "                correct_ct += 1\n",
        "        \n",
        "    print('Accuracy: {:.1f}% ({:d}/{:d})'.format(correct_ct/len(test_data)*100, correct_ct, len(test_data)))"
      ],
      "execution_count": 143,
      "outputs": []
    },
    {
      "cell_type": "code",
      "metadata": {
        "colab": {
          "base_uri": "https://localhost:8080/"
        },
        "id": "rjhk0OK-WN7J",
        "outputId": "05f45c1b-62e3-4963-e305-3f3dd604d1ad"
      },
      "source": [
        "CBOW_test(data, model)"
      ],
      "execution_count": 144,
      "outputs": [
        {
          "output_type": "stream",
          "name": "stdout",
          "text": [
            "Accuracy: 100.0% (138/138)\n"
          ]
        }
      ]
    },
    {
      "cell_type": "code",
      "metadata": {
        "id": "2TLJir1cT_Il"
      },
      "source": [
        "#TESTING\n",
        "context = [\"During\" ,\"my\",\"month\" ,'of']\n",
        "context_vector = make_context_vector(context, word_to_ix)\n",
        "a = model(context_vector)"
      ],
      "execution_count": 75,
      "outputs": []
    },
    {
      "cell_type": "code",
      "source": [
        "print(torch.argmax(a[0]))"
      ],
      "metadata": {
        "colab": {
          "base_uri": "https://localhost:8080/"
        },
        "id": "18ZO4XxTwv8D",
        "outputId": "1a68982d-c843-4cb1-d2ff-87815f21bc5e"
      },
      "execution_count": 76,
      "outputs": [
        {
          "output_type": "stream",
          "name": "stdout",
          "text": [
            "tensor(16)\n"
          ]
        }
      ]
    },
    {
      "cell_type": "code",
      "metadata": {
        "colab": {
          "base_uri": "https://localhost:8080/"
        },
        "id": "V7c2lYQyUBKt",
        "outputId": "2542c833-9ac4-4a24-d0c1-56df07d27c65"
      },
      "source": [
        "#Print result\n",
        "print(f'Raw text: {\" \".join(raw_text)}\\n')\n",
        "print(f'Context: {context}\\n')\n",
        "print(f'Prediction: {ix_to_word[torch.argmax(a[0]).item()]}')"
      ],
      "execution_count": 77,
      "outputs": [
        {
          "output_type": "stream",
          "name": "stdout",
          "text": [
            "Raw text: During my second month of nursing school, our professor gave us a pop quiz. I was a conscientious student and had breezed through the questions, until I read the last one: “What is the first name of the woman who cleans the school?” Surely this was some kind of joke. I had seen the cleaning woman several times. She was tall, dark-haired and in her 50s, but how would I know her name? I handed in my paper, leaving the last question blank. Before class ended, one student asked if the last question would count toward our quiz grade. “Absolutely,” said the professor. “In your careers you will meet many people. All are significant. They deserve your attention and care, even if all you do is smile and say ‘hello’. I’ve never forgotten that lesson. I also learned her name was Dorothy.\n",
            "\n",
            "Context: ['During', 'my', 'month', 'of']\n",
            "\n",
            "Prediction: second\n"
          ]
        }
      ]
    },
    {
      "cell_type": "markdown",
      "source": [
        "#### SkipGram for window size = 1"
      ],
      "metadata": {
        "id": "uOD5ZCMMBnHP"
      }
    },
    {
      "cell_type": "code",
      "metadata": {
        "id": "vdUehOjo00AQ"
      },
      "source": [
        "import numpy as np\n",
        "import torch\n",
        "import torch.nn as nn\n",
        "import torch.optim as optim\n",
        "import matplotlib.pyplot as plt\n",
        "from tqdm import tqdm"
      ],
      "execution_count": 78,
      "outputs": []
    },
    {
      "cell_type": "code",
      "metadata": {
        "id": "qIV70wWh0526"
      },
      "source": [
        "def random_batch(skip_grams):\n",
        "    random_inputs = []\n",
        "    random_labels = []\n",
        "    random_index = np.random.choice(range(len(skip_grams)), batch_size, replace=False)\n",
        "    # print(random_index)\n",
        "    for i in random_index:\n",
        "        random_inputs.append(skip_grams[i][0])  # target\n",
        "        random_labels.append(skip_grams[i][1])  # context word\n",
        "\n",
        "    return random_inputs, random_labels"
      ],
      "execution_count": 79,
      "outputs": []
    },
    {
      "cell_type": "code",
      "source": [
        "print(skipgram(word_sequence)[9])\n",
        "print(skipgram(word_sequence)[65])"
      ],
      "metadata": {
        "colab": {
          "base_uri": "https://localhost:8080/"
        },
        "id": "GRohoDndOnK4",
        "outputId": "fb4c1793-1bec-4686-b461-8e0b04f6ae1c"
      },
      "execution_count": 54,
      "outputs": [
        {
          "output_type": "stream",
          "name": "stdout",
          "text": [
            "['nursing', 'school,']\n",
            "['the', 'first']\n"
          ]
        }
      ]
    },
    {
      "cell_type": "code",
      "source": [
        "a = random_batch(skipgram(word_sequence))\n",
        "print(a)\n",
        "[word_dict[n1] for n1 in a[0]]"
      ],
      "metadata": {
        "colab": {
          "base_uri": "https://localhost:8080/"
        },
        "id": "K6tA78KJOi4H",
        "outputId": "242ebdea-a6a2-4e4a-b477-8a064cae543a"
      },
      "execution_count": 120,
      "outputs": [
        {
          "output_type": "stream",
          "name": "stdout",
          "text": [
            "(['my', 'woman'], ['During', 'who'])\n"
          ]
        },
        {
          "output_type": "execute_result",
          "data": {
            "text/plain": [
              "[18, 30]"
            ]
          },
          "metadata": {},
          "execution_count": 120
        }
      ]
    },
    {
      "cell_type": "code",
      "metadata": {
        "id": "FuoAoeyA4Vvr"
      },
      "source": [
        "sentences = \"\"\"During my second month of nursing school, our professor gave us a pop quiz.  \n",
        "I was a conscientious student and had breezed through the questions, until I read the last one: \n",
        "“What is the first name of the woman who cleans the school?”  Surely this was some kind of joke.\"\"\".split()"
      ],
      "execution_count": 80,
      "outputs": []
    },
    {
      "cell_type": "code",
      "metadata": {
        "id": "PWl8JRPy4KQg",
        "colab": {
          "base_uri": "https://localhost:8080/"
        },
        "outputId": "0e1c47c5-fe96-4ec1-d373-6d30815fe28f"
      },
      "source": [
        "embedding_size = 10 \n",
        "batch_size = 2\n",
        "\n",
        "word_sequence = \" \".join(sentences).split()\n",
        "word_list = \" \".join(sentences).split()\n",
        "word_list = list(set(word_list))\n",
        "word_dict = {w: i for i, w in enumerate(word_list)}\n",
        "voc_size = len(word_list)\n",
        "\n",
        "print(word_list)\n",
        "print(word_dict)\n",
        "print(voc_size)"
      ],
      "execution_count": 81,
      "outputs": [
        {
          "output_type": "stream",
          "name": "stdout",
          "text": [
            "['the', 'our', 'During', 'some', 'us', 'professor', 'pop', 'name', 'Surely', 'quiz.', 'my', 'questions,', 'and', 'I', 'conscientious', '“What', 'of', 'through', 'month', 'woman', 'gave', 'until', 'read', 'had', 'is', 'one:', 'breezed', 'student', 'who', 'a', 'kind', 'second', 'this', 'joke.', 'school,', 'cleans', 'was', 'nursing', 'first', 'last', 'school?”']\n",
            "{'the': 0, 'our': 1, 'During': 2, 'some': 3, 'us': 4, 'professor': 5, 'pop': 6, 'name': 7, 'Surely': 8, 'quiz.': 9, 'my': 10, 'questions,': 11, 'and': 12, 'I': 13, 'conscientious': 14, '“What': 15, 'of': 16, 'through': 17, 'month': 18, 'woman': 19, 'gave': 20, 'until': 21, 'read': 22, 'had': 23, 'is': 24, 'one:': 25, 'breezed': 26, 'student': 27, 'who': 28, 'a': 29, 'kind': 30, 'second': 31, 'this': 32, 'joke.': 33, 'school,': 34, 'cleans': 35, 'was': 36, 'nursing': 37, 'first': 38, 'last': 39, 'school?”': 40}\n",
            "41\n"
          ]
        }
      ]
    },
    {
      "cell_type": "code",
      "source": [
        "def skipgram(sentences, window_size=1):\n",
        "    skip_grams = []\n",
        "    for i in range(window_size, len(word_sequence) - window_size):\n",
        "        target = word_sequence[i]\n",
        "        context = [word_sequence[i - window_size], word_sequence[i + window_size]]\n",
        "        for w in context:\n",
        "            skip_grams.append([target, w])\n",
        "\n",
        "    return skip_grams"
      ],
      "metadata": {
        "id": "C9VuPv0PTphb"
      },
      "execution_count": 82,
      "outputs": []
    },
    {
      "cell_type": "code",
      "metadata": {
        "id": "_VIXjkfL4R3v",
        "colab": {
          "base_uri": "https://localhost:8080/"
        },
        "outputId": "3f2647ab-c9d3-4133-86d5-065f45278615"
      },
      "source": [
        "skipgram(word_sequence)[0]"
      ],
      "execution_count": 83,
      "outputs": [
        {
          "output_type": "execute_result",
          "data": {
            "text/plain": [
              "['my', 'During']"
            ]
          },
          "metadata": {},
          "execution_count": 83
        }
      ]
    },
    {
      "cell_type": "code",
      "metadata": {
        "id": "WiovprKK5T5_"
      },
      "source": [
        "class skipgramModel(nn.Module):\n",
        "    def __init__(self):\n",
        "        super(skipgramModel, self).__init__()\n",
        "        self.embedding = nn.Embedding(voc_size, embedding_size)\n",
        "        self.W = nn.Linear(embedding_size, 512, bias=False) \n",
        "        self.WT = nn.Linear(512, voc_size, bias=False)\n",
        "\n",
        "    def forward(self, X):\n",
        "        embeddings = self.embedding(X)\n",
        "        hidden_layer = nn.functional.relu(self.W(embeddings))\n",
        "        output_layer = self.WT(hidden_layer)\n",
        "        return output_layer\n",
        "\n",
        "    def get_word_emdedding(self, word):\n",
        "        word = torch.tensor([word_dict[word]])\n",
        "        return self.embedding(word).view(1,-1)"
      ],
      "execution_count": 84,
      "outputs": []
    },
    {
      "cell_type": "code",
      "metadata": {
        "id": "n_I8SgqQ7iQ6"
      },
      "source": [
        "model = skipgramModel()\n",
        "\n",
        "criterion = nn.CrossEntropyLoss()\n",
        "optimizer = optim.Adam(model.parameters(), lr=0.01)"
      ],
      "execution_count": 85,
      "outputs": []
    },
    {
      "cell_type": "code",
      "source": [
        "model"
      ],
      "metadata": {
        "colab": {
          "base_uri": "https://localhost:8080/"
        },
        "id": "gbYRO9FbyHSj",
        "outputId": "b54cb0cc-518a-4630-b3d0-b1e8496ce636"
      },
      "execution_count": 86,
      "outputs": [
        {
          "output_type": "execute_result",
          "data": {
            "text/plain": [
              "skipgramModel(\n",
              "  (embedding): Embedding(41, 10)\n",
              "  (W): Linear(in_features=10, out_features=512, bias=False)\n",
              "  (WT): Linear(in_features=512, out_features=41, bias=False)\n",
              ")"
            ]
          },
          "metadata": {},
          "execution_count": 86
        }
      ]
    },
    {
      "cell_type": "code",
      "source": [
        "\"\"\"During my second month of nursing school, our professor gave us a pop quiz.  \n",
        "I was a conscientious student and had breezed through the questions, until I read the last one: \n",
        "“What is the first name of the woman who cleans the school?”  Surely this was some kind of joke.\"\"\""
      ],
      "metadata": {
        "colab": {
          "base_uri": "https://localhost:8080/",
          "height": 53
        },
        "id": "IZGT2JVXRs4P",
        "outputId": "00a6d739-e620-4bab-8d20-53a9f69a49a6"
      },
      "execution_count": 87,
      "outputs": [
        {
          "output_type": "execute_result",
          "data": {
            "text/plain": [
              "'During my second month of nursing school, our professor gave us a pop quiz.  \\nI was a conscientious student and had breezed through the questions, until I read the last one: \\n“What is the first name of the woman who cleans the school?”  Surely this was some kind of joke.'"
            ],
            "application/vnd.google.colaboratory.intrinsic+json": {
              "type": "string"
            }
          },
          "metadata": {},
          "execution_count": 87
        }
      ]
    },
    {
      "cell_type": "code",
      "source": [
        "for epoch in range(10):\n",
        "    input_batch, target_batch = random_batch(skipgram(word_sequence))\n",
        "    input_batch1 = [word_dict[n1] for n1 in input_batch]\n",
        "    input_batch1 = torch.LongTensor(input_batch1)\n",
        "    target_batch = [word_dict[n1] for n1 in target_batch]\n",
        "    target_batch = torch.LongTensor(target_batch)\n",
        "    optimizer.zero_grad()\n",
        "    output = model(input_batch1)\n",
        "\n",
        "    print(\"Epoch\",epoch,\":\",\"Input: \",input_batch,\",\",input_batch1,\"Target: \",target_batch,\"Output: \",torch.argmax(model(input_batch1), 1))\n",
        "    \n",
        "\n",
        "    # output : [batch_size, voc_size], target_batch : [batch_size] (LongTensor, not one-hot)\n",
        "    loss = criterion(output, target_batch)\n",
        "    if (epoch + 1) % 10000 == 0:\n",
        "        print('Epoch:', '%04d' % (epoch + 1), 'cost =', '{:.6f}'.format(loss))\n",
        "\n",
        "    loss.backward(retain_graph=True)\n",
        "    optimizer.step()"
      ],
      "metadata": {
        "colab": {
          "base_uri": "https://localhost:8080/"
        },
        "id": "eFJTVXh9I___",
        "outputId": "834b4670-fb4f-4a90-910e-bd831ec2e217"
      },
      "execution_count": 90,
      "outputs": [
        {
          "output_type": "stream",
          "name": "stdout",
          "text": [
            "Epoch 0 : Input:  ['“What', 'I'] , tensor([15, 13]) Target:  tensor([24,  9]) Output:  tensor([24, 22])\n",
            "Epoch 1 : Input:  ['the', 'the'] , tensor([0, 0]) Target:  tensor([40, 24]) Output:  tensor([17, 17])\n",
            "Epoch 2 : Input:  ['read', 'us'] , tensor([22,  4]) Target:  tensor([ 0, 29]) Output:  tensor([ 0, 20])\n",
            "Epoch 3 : Input:  ['first', 'the'] , tensor([38,  0]) Target:  tensor([ 0, 17]) Output:  tensor([ 7, 17])\n",
            "Epoch 4 : Input:  ['is', 'gave'] , tensor([24, 20]) Target:  tensor([15,  4]) Output:  tensor([15,  5])\n",
            "Epoch 5 : Input:  ['is', 'I'] , tensor([24, 13]) Target:  tensor([15, 21]) Output:  tensor([15,  9])\n",
            "Epoch 6 : Input:  ['the', 'kind'] , tensor([ 0, 30]) Target:  tensor([19, 16]) Output:  tensor([17,  3])\n",
            "Epoch 7 : Input:  ['nursing', 'until'] , tensor([37, 21]) Target:  tensor([34, 13]) Output:  tensor([16, 11])\n",
            "Epoch 8 : Input:  ['nursing', 'breezed'] , tensor([37, 26]) Target:  tensor([34, 23]) Output:  tensor([16, 23])\n",
            "Epoch 9 : Input:  ['of', 'through'] , tensor([16, 17]) Target:  tensor([7, 0]) Output:  tensor([7, 0])\n"
          ]
        }
      ]
    },
    {
      "cell_type": "markdown",
      "source": [
        "In the above code .... The input in the 1st is the word form which we are converting to number using to word_dict dictionary. The 1st element of the input_batch1 is the center word and the 1st element of the target_batch is the context word. The 1st element of the prediction is the context word output of the neural network. "
      ],
      "metadata": {
        "id": "qHcYenDgUxk1"
      }
    },
    {
      "cell_type": "code",
      "metadata": {
        "id": "2elp_bzW8B0M"
      },
      "source": [
        "def Skipgram_test(test_data, model):\n",
        "    correct_ct = 0\n",
        "\n",
        "    for i in range(len(test_data)):\n",
        "        input_batch, target_batch = random_batch(test_data)\n",
        "        input_batch = [word_dict[n1] for n1 in input_batch]\n",
        "        input_batch = torch.LongTensor(input_batch)\n",
        "        target_batch = [word_dict[n1] for n1 in target_batch]\n",
        "        target_batch = torch.LongTensor(target_batch)\n",
        "\n",
        "        model.zero_grad()\n",
        "        predicted = torch.argmax(model(input_batch), 1)\n",
        "\n",
        "        # print(predicted)\n",
        "\n",
        "        if predicted[0] == target_batch[0]:\n",
        "                correct_ct += 1\n",
        "\n",
        "    print('Accuracy: {:.1f}% ({:d}/{:d})'.format(correct_ct/len(test_data)*100, correct_ct, len(test_data)))"
      ],
      "execution_count": 98,
      "outputs": []
    },
    {
      "cell_type": "code",
      "metadata": {
        "colab": {
          "base_uri": "https://localhost:8080/"
        },
        "id": "UOV3AC018Squ",
        "outputId": "ec5242ee-4002-46c1-8bb5-cd00785db5b3"
      },
      "source": [
        "Skipgram_test(skipgram(word_sequence), model)"
      ],
      "execution_count": 99,
      "outputs": [
        {
          "output_type": "stream",
          "name": "stdout",
          "text": [
            "Accuracy: 40.6% (39/96)\n"
          ]
        }
      ]
    },
    {
      "cell_type": "code",
      "metadata": {
        "colab": {
          "base_uri": "https://localhost:8080/",
          "height": 592
        },
        "id": "1HYIy_AM8gRj",
        "outputId": "105f88f7-af0b-408c-cc3b-6a72be0ccc7f"
      },
      "source": [
        "plt.figure(figsize=(15,10))\n",
        "for w in word_list:\n",
        "    x = model.get_word_emdedding(w).detach().data.numpy()[0][0]\n",
        "    y = model.get_word_emdedding(w).detach().data.numpy()[0][1]\n",
        "    plt.scatter(x, y)\n",
        "    plt.annotate(w, xy=(x, y), xytext=(5, 2), textcoords='offset points', ha='right', va='bottom')\n",
        "plt.show()"
      ],
      "execution_count": 100,
      "outputs": [
        {
          "output_type": "display_data",
          "data": {
            "text/plain": [
              "<Figure size 1080x720 with 1 Axes>"
            ],
            "image/png": "[encoded data removed]"
          },
          "metadata": {
            "needs_background": "light"
          }
        }
      ]
    },
    {
      "cell_type": "code",
      "metadata": {
        "id": "a5G2HLktB_1k"
      },
      "source": [
        "pred = \"professor\".split()"
      ],
      "execution_count": 101,
      "outputs": []
    },
    {
      "cell_type": "code",
      "metadata": {
        "id": "KvbtE_tJDmkB"
      },
      "source": [
        "word_dict_inverse = {i:w for w, i in word_dict.items()}"
      ],
      "execution_count": 102,
      "outputs": []
    },
    {
      "cell_type": "code",
      "metadata": {
        "colab": {
          "base_uri": "https://localhost:8080/"
        },
        "id": "f865TE5WEUS6",
        "outputId": "0e9769a6-fa3b-4f0a-c403-9ba87833a3ff"
      },
      "source": [
        "model_pred = []\n",
        "model_pred.append(pred[0])\n",
        "\n",
        "word = word_dict_inverse[torch.argmax(model(torch.LongTensor([word_dict[model_pred[-1]]]))).item()]\n",
        "model_pred.append(word)\n",
        "\n",
        "print(\"Center Word: \\033[1m {} \\033[0;0m , Context Word: \\033[1m {} \\033[0;0m\".format(model_pred[0],model_pred[1]))"
      ],
      "execution_count": 123,
      "outputs": [
        {
          "output_type": "stream",
          "name": "stdout",
          "text": [
            "Center Word: \u001b[1mprofessor\u001b[0;0m, Context Word: \u001b[1mour\u001b[0;0m\n"
          ]
        }
      ]
    },
    {
      "cell_type": "code",
      "source": [
        ""
      ],
      "metadata": {
        "id": "RMc5BtUVRcDQ"
      },
      "execution_count": null,
      "outputs": []
    },
    {
      "cell_type": "markdown",
      "source": [
        "#### Skipgram for window size = 2"
      ],
      "metadata": {
        "id": "UE5IvNcOZ2jb"
      }
    },
    {
      "cell_type": "code",
      "metadata": {
        "id": "3R4W9lCLZ5HA"
      },
      "source": [
        "import numpy as np\n",
        "import torch\n",
        "import torch.nn as nn\n",
        "import torch.optim as optim\n",
        "import matplotlib.pyplot as plt\n",
        "from tqdm import tqdm"
      ],
      "execution_count": 127,
      "outputs": []
    },
    {
      "cell_type": "code",
      "metadata": {
        "id": "yvd7VtFqZ5HA"
      },
      "source": [
        "def random_batch(skip_grams):\n",
        "    random_inputs = []\n",
        "    random_labels = []\n",
        "    random_index = np.random.choice(range(len(skip_grams)), batch_size, replace=False)\n",
        "    # print(random_index)\n",
        "    for i in random_index:\n",
        "        random_inputs.append(skip_grams[i][0])  # target\n",
        "        random_labels.append(skip_grams[i][1])  # context word\n",
        "\n",
        "    return random_inputs, random_labels"
      ],
      "execution_count": 128,
      "outputs": []
    },
    {
      "cell_type": "code",
      "source": [
        "print(skipgram(word_sequence)[9])\n",
        "print(skipgram(word_sequence)[65])"
      ],
      "metadata": {
        "colab": {
          "base_uri": "https://localhost:8080/"
        },
        "outputId": "fb4c1793-1bec-4686-b461-8e0b04f6ae1c",
        "id": "zQnx7Mb_Z5HB"
      },
      "execution_count": null,
      "outputs": [
        {
          "output_type": "stream",
          "name": "stdout",
          "text": [
            "['nursing', 'school,']\n",
            "['the', 'first']\n"
          ]
        }
      ]
    },
    {
      "cell_type": "code",
      "source": [
        "a = random_batch(skipgram(word_sequence))\n",
        "print(a)\n",
        "[word_dict[n1] for n1 in a[0]]"
      ],
      "metadata": {
        "colab": {
          "base_uri": "https://localhost:8080/"
        },
        "outputId": "242ebdea-a6a2-4e4a-b477-8a064cae543a",
        "id": "rNZsjp0FZ5HB"
      },
      "execution_count": null,
      "outputs": [
        {
          "output_type": "stream",
          "name": "stdout",
          "text": [
            "(['my', 'woman'], ['During', 'who'])\n"
          ]
        },
        {
          "output_type": "execute_result",
          "data": {
            "text/plain": [
              "[18, 30]"
            ]
          },
          "metadata": {},
          "execution_count": 120
        }
      ]
    },
    {
      "cell_type": "code",
      "metadata": {
        "id": "NgYNVnVdZ5HB"
      },
      "source": [
        "sentences = \"\"\"During my second month of nursing school, our professor gave us a pop quiz.  \n",
        "I was a conscientious student and had breezed through the questions, until I read the last one: \n",
        "“What is the first name of the woman who cleans the school?”  Surely this was some kind of joke.\"\"\".split()"
      ],
      "execution_count": 129,
      "outputs": []
    },
    {
      "cell_type": "code",
      "metadata": {
        "colab": {
          "base_uri": "https://localhost:8080/"
        },
        "outputId": "90eab325-8ab1-4651-ad70-736680d279d9",
        "id": "NqPhg_RPZ5HC"
      },
      "source": [
        "embedding_size = 10 \n",
        "batch_size = 2\n",
        "\n",
        "word_sequence = \" \".join(sentences).split()\n",
        "word_list = \" \".join(sentences).split()\n",
        "word_list = list(set(word_list))\n",
        "word_dict = {w: i for i, w in enumerate(word_list)}\n",
        "voc_size = len(word_list)\n",
        "\n",
        "print(word_list)\n",
        "print(word_dict)\n",
        "print(voc_size)"
      ],
      "execution_count": 130,
      "outputs": [
        {
          "output_type": "stream",
          "name": "stdout",
          "text": [
            "['our', 'of', 'had', 'questions,', 'the', 'first', 'quiz.', 'student', 'until', 'joke.', 'cleans', 'pop', 'nursing', 'was', 'us', 'professor', 'Surely', 'some', 'my', 'who', 'through', 'name', 'second', 'school,', 'month', 'I', 'one:', 'school?”', 'gave', 'kind', 'woman', 'this', 'and', '“What', 'last', 'conscientious', 'During', 'a', 'is', 'breezed', 'read']\n",
            "{'our': 0, 'of': 1, 'had': 2, 'questions,': 3, 'the': 4, 'first': 5, 'quiz.': 6, 'student': 7, 'until': 8, 'joke.': 9, 'cleans': 10, 'pop': 11, 'nursing': 12, 'was': 13, 'us': 14, 'professor': 15, 'Surely': 16, 'some': 17, 'my': 18, 'who': 19, 'through': 20, 'name': 21, 'second': 22, 'school,': 23, 'month': 24, 'I': 25, 'one:': 26, 'school?”': 27, 'gave': 28, 'kind': 29, 'woman': 30, 'this': 31, 'and': 32, '“What': 33, 'last': 34, 'conscientious': 35, 'During': 36, 'a': 37, 'is': 38, 'breezed': 39, 'read': 40}\n",
            "41\n"
          ]
        }
      ]
    },
    {
      "cell_type": "code",
      "source": [
        "\"\"\"During my second month of nursing school, our professor gave us a pop quiz.  \n",
        "I was a conscientious student and had breezed through the questions, until I read the last one: \n",
        "“What is the first name of the woman who cleans the school?”  Surely this was some kind of joke.\"\"\""
      ],
      "metadata": {
        "id": "DUDxzwA4agq-"
      },
      "execution_count": null,
      "outputs": []
    },
    {
      "cell_type": "code",
      "source": [
        "def skipgram(sentences, window_size=2):\n",
        "    skip_grams = []\n",
        "    for i in range(window_size, len(word_sequence) - window_size):\n",
        "        target = word_sequence[i]\n",
        "        context = [word_sequence[i - window_size],word_sequence[i - window_size+1], word_sequence[i + window_size-1],word_sequence[i + window_size]]\n",
        "        for w in context:\n",
        "            skip_grams.append([target, w])\n",
        "\n",
        "    return skip_grams"
      ],
      "metadata": {
        "id": "aG__fr4-Z5HC"
      },
      "execution_count": 144,
      "outputs": []
    },
    {
      "cell_type": "code",
      "metadata": {
        "colab": {
          "base_uri": "https://localhost:8080/"
        },
        "outputId": "9e1e3e34-e3e4-4432-850f-cee1f164f175",
        "id": "5Xc0NujfZ5HC"
      },
      "source": [
        "skipgram(word_sequence)[0]"
      ],
      "execution_count": 145,
      "outputs": [
        {
          "output_type": "execute_result",
          "data": {
            "text/plain": [
              "['second', 'During']"
            ]
          },
          "metadata": {},
          "execution_count": 145
        }
      ]
    },
    {
      "cell_type": "code",
      "metadata": {
        "id": "FlI-dMjqZ5HC"
      },
      "source": [
        "class skipgramModel(nn.Module):\n",
        "    def __init__(self):\n",
        "        super(skipgramModel, self).__init__()\n",
        "        self.embedding = nn.Embedding(voc_size, embedding_size)\n",
        "        self.W = nn.Linear(embedding_size, 512, bias=False) \n",
        "        self.WT = nn.Linear(512, voc_size, bias=False)\n",
        "\n",
        "    def forward(self, X):\n",
        "        embeddings = self.embedding(X)\n",
        "        hidden_layer = nn.functional.relu(self.W(embeddings))\n",
        "        output_layer = self.WT(hidden_layer)\n",
        "        return output_layer\n",
        "\n",
        "    def get_word_emdedding(self, word):\n",
        "        word = torch.tensor([word_dict[word]])\n",
        "        return self.embedding(word).view(1,-1)"
      ],
      "execution_count": 146,
      "outputs": []
    },
    {
      "cell_type": "code",
      "metadata": {
        "id": "NBVTUGYnZ5HD"
      },
      "source": [
        "model = skipgramModel()\n",
        "\n",
        "criterion = nn.CrossEntropyLoss()\n",
        "optimizer = optim.Adam(model.parameters(), lr=0.01)"
      ],
      "execution_count": 147,
      "outputs": []
    },
    {
      "cell_type": "code",
      "source": [
        "model"
      ],
      "metadata": {
        "colab": {
          "base_uri": "https://localhost:8080/"
        },
        "outputId": "7a10de80-affa-4b91-ce7c-16d72b41c74e",
        "id": "H0hBI63fZ5HD"
      },
      "execution_count": 148,
      "outputs": [
        {
          "output_type": "execute_result",
          "data": {
            "text/plain": [
              "skipgramModel(\n",
              "  (embedding): Embedding(41, 10)\n",
              "  (W): Linear(in_features=10, out_features=512, bias=False)\n",
              "  (WT): Linear(in_features=512, out_features=41, bias=False)\n",
              ")"
            ]
          },
          "metadata": {},
          "execution_count": 148
        }
      ]
    },
    {
      "cell_type": "code",
      "source": [
        "\"\"\"During my second month of nursing school, our professor gave us a pop quiz.  \n",
        "I was a conscientious student and had breezed through the questions, until I read the last one: \n",
        "“What is the first name of the woman who cleans the school?”  Surely this was some kind of joke.\"\"\""
      ],
      "metadata": {
        "colab": {
          "base_uri": "https://localhost:8080/",
          "height": 53
        },
        "id": "OYd3ZZ7MZ5HE",
        "outputId": "cce55793-00b7-40ea-8f1e-488aecb27866"
      },
      "execution_count": 149,
      "outputs": [
        {
          "output_type": "execute_result",
          "data": {
            "text/plain": [
              "'During my second month of nursing school, our professor gave us a pop quiz.  \\nI was a conscientious student and had breezed through the questions, until I read the last one: \\n“What is the first name of the woman who cleans the school?”  Surely this was some kind of joke.'"
            ],
            "application/vnd.google.colaboratory.intrinsic+json": {
              "type": "string"
            }
          },
          "metadata": {},
          "execution_count": 149
        }
      ]
    },
    {
      "cell_type": "code",
      "source": [
        "for epoch in range(100000):\n",
        "    input_batch, target_batch = random_batch(skipgram(word_sequence))\n",
        "    \n",
        "    input_batch1 = [word_dict[n1] for n1 in input_batch]\n",
        "    input_batch1 = torch.LongTensor(input_batch1)\n",
        "    target_batch = [word_dict[n1] for n1 in target_batch]\n",
        "    target_batch = torch.LongTensor(target_batch)\n",
        "    optimizer.zero_grad()\n",
        "    output = model(input_batch1)\n",
        "    # print(epoch,input_batch,target_batch)\n",
        "    # print(\"Epoch\",epoch,\":\",\"Input: \",input_batch,\",\",input_batch1,\"Target: \",target_batch,\"Output: \",torch.argmax(model(input_batch1), 1))\n",
        "\n",
        "    # output : [batch_size, voc_size], target_batch : [batch_size] (LongTensor, not one-hot)\n",
        "    loss = criterion(output, target_batch)\n",
        "    if (epoch + 1) % 10000 == 0:\n",
        "        print('Epoch:', '%04d' % (epoch + 1), 'cost =', '{:.6f}'.format(loss))\n",
        "\n",
        "    loss.backward(retain_graph=True)\n",
        "    optimizer.step()"
      ],
      "metadata": {
        "colab": {
          "base_uri": "https://localhost:8080/"
        },
        "outputId": "017ec5d1-da98-46dc-c08d-05e6b3dc072c",
        "id": "TIMdijWeZ5HE"
      },
      "execution_count": 163,
      "outputs": [
        {
          "output_type": "stream",
          "name": "stdout",
          "text": [
            "Epoch: 10000 cost = 1.446190\n",
            "Epoch: 20000 cost = 0.564801\n",
            "Epoch: 30000 cost = 2.530826\n",
            "Epoch: 40000 cost = 2.725854\n",
            "Epoch: 50000 cost = 1.710129\n",
            "Epoch: 60000 cost = 2.989322\n",
            "Epoch: 70000 cost = 1.748922\n",
            "Epoch: 80000 cost = 2.416938\n",
            "Epoch: 90000 cost = 2.527160\n",
            "Epoch: 100000 cost = 1.390604\n"
          ]
        }
      ]
    },
    {
      "cell_type": "code",
      "source": [
        "print(word_dict)"
      ],
      "metadata": {
        "colab": {
          "base_uri": "https://localhost:8080/"
        },
        "id": "fE7ms9ijbbFS",
        "outputId": "474f372e-35f2-4b29-b513-8451ddb5f143"
      },
      "execution_count": 164,
      "outputs": [
        {
          "output_type": "stream",
          "name": "stdout",
          "text": [
            "{'our': 0, 'of': 1, 'had': 2, 'questions,': 3, 'the': 4, 'first': 5, 'quiz.': 6, 'student': 7, 'until': 8, 'joke.': 9, 'cleans': 10, 'pop': 11, 'nursing': 12, 'was': 13, 'us': 14, 'professor': 15, 'Surely': 16, 'some': 17, 'my': 18, 'who': 19, 'through': 20, 'name': 21, 'second': 22, 'school,': 23, 'month': 24, 'I': 25, 'one:': 26, 'school?”': 27, 'gave': 28, 'kind': 29, 'woman': 30, 'this': 31, 'and': 32, '“What': 33, 'last': 34, 'conscientious': 35, 'During': 36, 'a': 37, 'is': 38, 'breezed': 39, 'read': 40}\n"
          ]
        }
      ]
    },
    {
      "cell_type": "code",
      "metadata": {
        "id": "YFJr9YfQZ5HE"
      },
      "source": [
        "def Skipgram_test(test_data, model):\n",
        "    correct_ct = 0\n",
        "\n",
        "    for i in range(len(test_data)):\n",
        "        input_batch, target_batch = random_batch(test_data)\n",
        "        input_batch = [word_dict[n1] for n1 in input_batch]\n",
        "        input_batch = torch.LongTensor(input_batch)\n",
        "        target_batch = [word_dict[n1] for n1 in target_batch]\n",
        "        target_batch = torch.LongTensor(target_batch)\n",
        "\n",
        "        model.zero_grad()\n",
        "        predicted = torch.argmax(model(input_batch), 1)\n",
        "\n",
        "        if predicted[0] == target_batch[0]:\n",
        "                correct_ct += 1\n",
        "\n",
        "    print('Accuracy: {:.1f}% ({:d}/{:d})'.format(correct_ct/len(test_data)*100, correct_ct, len(test_data)))"
      ],
      "execution_count": 165,
      "outputs": []
    },
    {
      "cell_type": "code",
      "metadata": {
        "colab": {
          "base_uri": "https://localhost:8080/"
        },
        "outputId": "40ec4f14-6145-4770-f405-96098bde83f9",
        "id": "DnNsO2VWZ5HE"
      },
      "source": [
        "Skipgram_test(skipgram(word_sequence), model)"
      ],
      "execution_count": 166,
      "outputs": [
        {
          "output_type": "stream",
          "name": "stdout",
          "text": [
            "Accuracy: 11.4% (21/184)\n"
          ]
        }
      ]
    },
    {
      "cell_type": "code",
      "source": [
        "w"
      ],
      "metadata": {
        "colab": {
          "base_uri": "https://localhost:8080/",
          "height": 35
        },
        "id": "9_VuSJekiX1c",
        "outputId": "5c8517ea-b999-47c7-f321-4bea1c6847a3"
      },
      "execution_count": 180,
      "outputs": [
        {
          "output_type": "execute_result",
          "data": {
            "text/plain": [
              "'read'"
            ],
            "application/vnd.google.colaboratory.intrinsic+json": {
              "type": "string"
            }
          },
          "metadata": {},
          "execution_count": 180
        }
      ]
    },
    {
      "cell_type": "code",
      "source": [
        "model.get_word_emdedding(w).detach().data.numpy()[0][0]"
      ],
      "metadata": {
        "colab": {
          "base_uri": "https://localhost:8080/"
        },
        "id": "oaBqjFYaiVP8",
        "outputId": "e364a43e-7d78-4df9-a28b-b4e900fdec86"
      },
      "execution_count": 185,
      "outputs": [
        {
          "output_type": "execute_result",
          "data": {
            "text/plain": [
              "-2.0611196"
            ]
          },
          "metadata": {},
          "execution_count": 185
        }
      ]
    },
    {
      "cell_type": "code",
      "source": [
        "plt.figure(figsize=(15,10))\n",
        "\n",
        "x = model.get_word_emdedding(w).detach().data.numpy()[0][0]\n",
        "y = model.get_word_emdedding(w).detach().data.numpy()[0][1]\n",
        "plt.scatter(x, y)\n",
        "plt.annotate(w, xy=(x, y), xytext=(5, 2), textcoords='offset points', ha='right', va='bottom')\n",
        "\n",
        "plt.show()"
      ],
      "metadata": {
        "colab": {
          "base_uri": "https://localhost:8080/",
          "height": 592
        },
        "id": "mzfSrOr4i3f5",
        "outputId": "e10da8c6-e32a-4ae6-e00b-1459f9d1ca0e"
      },
      "execution_count": 186,
      "outputs": [
        {
          "output_type": "display_data",
          "data": {
            "text/plain": [
              "<Figure size 1080x720 with 1 Axes>"
            ],
            "image/png": "[encoded data removed]"
          },
          "metadata": {
            "needs_background": "light"
          }
        }
      ]
    },
    {
      "cell_type": "code",
      "metadata": {
        "colab": {
          "base_uri": "https://localhost:8080/",
          "height": 592
        },
        "outputId": "76f6ce12-e87d-42ed-c19e-4ccf940c525e",
        "id": "U28o9xnKZ5HF"
      },
      "source": [
        "plt.figure(figsize=(15,10))\n",
        "for w in word_list:\n",
        "    x = model.get_word_emdedding(w).detach().data.numpy()[0][0]\n",
        "    y = model.get_word_emdedding(w).detach().data.numpy()[0][1]\n",
        "    plt.scatter(x, y)\n",
        "    plt.annotate(w, xy=(x, y), xytext=(5, 2), textcoords='offset points', ha='right', va='bottom')\n",
        "plt.show()"
      ],
      "execution_count": 167,
      "outputs": [
        {
          "output_type": "display_data",
          "data": {
            "text/plain": [
              "<Figure size 1080x720 with 1 Axes>"
            ],
            "image/png": "[encoded data removed]"
          },
          "metadata": {
            "needs_background": "light"
          }
        }
      ]
    },
    {
      "cell_type": "code",
      "metadata": {
        "id": "rBCC6SckZ5HF"
      },
      "source": [
        "pred = \"professor\".split()\n",
        "# nursing school"
      ],
      "execution_count": 168,
      "outputs": []
    },
    {
      "cell_type": "code",
      "metadata": {
        "id": "8PI0d6z2Z5HF"
      },
      "source": [
        "word_dict_inverse = {i:w for w, i in word_dict.items()}\n"
      ],
      "execution_count": 169,
      "outputs": []
    },
    {
      "cell_type": "code",
      "metadata": {
        "colab": {
          "base_uri": "https://localhost:8080/",
          "height": 35
        },
        "outputId": "3a9f7003-ac38-4147-9a37-783ec178b775",
        "id": "r0iNA_hnZ5HF"
      },
      "source": [
        "model_pred = []\n",
        "e = 0\n",
        "model_pred.append(pred[0])\n",
        "\n",
        "word = word_dict_inverse[torch.argmax(model(torch.LongTensor([word_dict[model_pred[-1]]]))).item()]\n",
        "model_pred.append(word)\n",
        "\n",
        "' '.join(model_pred)"
      ],
      "execution_count": 170,
      "outputs": [
        {
          "output_type": "execute_result",
          "data": {
            "text/plain": [
              "'professor our'"
            ],
            "application/vnd.google.colaboratory.intrinsic+json": {
              "type": "string"
            }
          },
          "metadata": {},
          "execution_count": 170
        }
      ]
    },
    {
      "cell_type": "code",
      "source": [
        ""
      ],
      "metadata": {
        "id": "CEFM5ku3dzZF"
      },
      "execution_count": null,
      "outputs": []
    },
    {
      "cell_type": "code",
      "source": [
        ""
      ],
      "metadata": {
        "id": "w_9Lf6HuL14a"
      },
      "execution_count": null,
      "outputs": []
    },
    {
      "cell_type": "code",
      "source": [
        ""
      ],
      "metadata": {
        "id": "6On802cIL2Ab"
      },
      "execution_count": null,
      "outputs": []
    },
    {
      "cell_type": "code",
      "source": [
        ""
      ],
      "metadata": {
        "id": "1U7smuJXL2Eq"
      },
      "execution_count": null,
      "outputs": []
    }
  ]
}