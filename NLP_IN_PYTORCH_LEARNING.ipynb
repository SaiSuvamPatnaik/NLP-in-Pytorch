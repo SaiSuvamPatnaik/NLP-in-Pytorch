{
  "nbformat": 4,
  "nbformat_minor": 0,
  "metadata": {
    "colab": {
      "name": "NLP IN PYTORCH LEARNING.ipynb",
      "provenance": [],
      "collapsed_sections": [
        "D286sK1Mzxhk",
        "zoFU5hwJz2Vm",
        "vw2w52fZaiqj",
        "Jz6UmHN5Y51q",
        "LNFCHrSEjjOj",
        "10sjiIohbmob",
        "BLJvnNutcDEp"
      ],
      "authorship_tag": "ABX9TyMNJlXz9ag85y9NQe1dSFtk",
      "include_colab_link": true
    },
    "kernelspec": {
      "name": "python3",
      "display_name": "Python 3"
    },
    "language_info": {
      "name": "python"
    }
  },
  "cells": [
    {
      "cell_type": "markdown",
      "metadata": {
        "id": "view-in-github",
        "colab_type": "text"
      },
      "source": [
        "<a href=\"https://colab.research.google.com/github/SaiSuvamPatnaik/NLP-in-Pytorch/blob/main/NLP_IN_PYTORCH_LEARNING.ipynb\" target=\"_parent\"><img src=\"https://colab.research.google.com/assets/colab-badge.svg\" alt=\"Open In Colab\"/></a>"
      ]
    },
    {
      "cell_type": "markdown",
      "source": [
        "### Creating Custom Embedding layer"
      ],
      "metadata": {
        "id": "D286sK1Mzxhk"
      }
    },
    {
      "cell_type": "code",
      "execution_count": null,
      "metadata": {
        "id": "mW62BhFHzBz5"
      },
      "outputs": [],
      "source": [
        "import torch\n",
        "from torch.autograd import Variable\n",
        "import torch.nn as nn\n",
        "import torch.nn.functional as F\n",
        "import pandas as pd"
      ]
    },
    {
      "cell_type": "code",
      "source": [
        "str1 = \"I am Sai Suvam\"\n",
        "idx = {\"I\":0,\"am\":1,\"Sai\":2,\"Suvam\":3}\n",
        "words = str1.split()\n",
        "res = [idx[i] for i in words]\n",
        "print(res)"
      ],
      "metadata": {
        "id": "dBiWjtUU08co",
        "colab": {
          "base_uri": "https://localhost:8080/"
        },
        "outputId": "591d7f55-230d-418d-8ba1-74ea040cef69"
      },
      "execution_count": null,
      "outputs": [
        {
          "output_type": "stream",
          "name": "stdout",
          "text": [
            "[0, 1, 2, 3]\n"
          ]
        }
      ]
    },
    {
      "cell_type": "code",
      "source": [
        "emb = nn.Embedding(len(res),5)\n",
        "res1 = torch.tensor(res,dtype=torch.long)\n",
        "emb(res1)"
      ],
      "metadata": {
        "id": "-fH9ExQF08_Y",
        "colab": {
          "base_uri": "https://localhost:8080/"
        },
        "outputId": "9ea27552-17e5-4b45-bfee-6748fb13c37d"
      },
      "execution_count": null,
      "outputs": [
        {
          "output_type": "execute_result",
          "data": {
            "text/plain": [
              "tensor([[-0.6644, -0.6022, -0.3188,  0.0688,  1.3071],\n",
              "        [-1.5990, -0.9050, -0.3704, -1.6161,  0.2591],\n",
              "        [-1.2532, -2.1773, -1.1917,  0.4732, -0.4044],\n",
              "        [-0.4601,  1.0004,  1.0516,  1.6927, -1.1280]],\n",
              "       grad_fn=<EmbeddingBackward0>)"
            ]
          },
          "metadata": {},
          "execution_count": 12
        }
      ]
    },
    {
      "cell_type": "code",
      "source": [
        "print(sum(emb(res1)))"
      ],
      "metadata": {
        "colab": {
          "base_uri": "https://localhost:8080/"
        },
        "id": "O-DkRp78aPSX",
        "outputId": "ba989216-3826-4636-9a13-2723d6db6292"
      },
      "execution_count": null,
      "outputs": [
        {
          "output_type": "stream",
          "name": "stdout",
          "text": [
            "tensor([-3.9767, -2.6840, -0.8293,  0.6185,  0.0338], grad_fn=<AddBackward0>)\n"
          ]
        }
      ]
    },
    {
      "cell_type": "markdown",
      "source": [
        "### Using pre trained word2vec from gensim library"
      ],
      "metadata": {
        "id": "zoFU5hwJz2Vm"
      }
    },
    {
      "cell_type": "code",
      "source": [
        "import gensim"
      ],
      "metadata": {
        "id": "Nj8k8xIzcCwG"
      },
      "execution_count": null,
      "outputs": []
    },
    {
      "cell_type": "code",
      "source": [
        "review_text = \"Other useful internals in Gensim 4.0+ include model.wv.index_to_key, a plain list of the key (word) in each index position, and model.wv.key_to_index, a plain dict mapping keys (words) to their index positions. In pre-4.0 versions, the vocabulary was in the vocab field of the Word2Vec model's wv property, as a dictionary, with the keys being each token (word). So there it was just the usual Python for getting a dictionary's length:\"\n",
        "prc = gensim.utils.simple_preprocess(review_text)\n"
      ],
      "metadata": {
        "id": "Ubk_Tv2wcCz1"
      },
      "execution_count": null,
      "outputs": []
    },
    {
      "cell_type": "code",
      "source": [
        "model = gensim.models.Word2Vec(\n",
        "    window=3,\n",
        "    min_count=2,\n",
        "    workers=4,\n",
        ")"
      ],
      "metadata": {
        "id": "O3n2Ia-bfm-Y"
      },
      "execution_count": null,
      "outputs": []
    },
    {
      "cell_type": "code",
      "source": [
        "model.build_vocab([prc])"
      ],
      "metadata": {
        "id": "5OAWYM9Ml-Ul"
      },
      "execution_count": null,
      "outputs": []
    },
    {
      "cell_type": "code",
      "source": [
        "model.wv.vocab"
      ],
      "metadata": {
        "colab": {
          "base_uri": "https://localhost:8080/"
        },
        "id": "vxeFQPOJyYXU",
        "outputId": "0645f501-019b-48a9-f7d2-1e0a9121e2c1"
      },
      "execution_count": null,
      "outputs": [
        {
          "output_type": "execute_result",
          "data": {
            "text/plain": [
              "{'dictionary': <gensim.models.keyedvectors.Vocab at 0x7feb68dab610>,\n",
              " 'each': <gensim.models.keyedvectors.Vocab at 0x7feb68dab950>,\n",
              " 'in': <gensim.models.keyedvectors.Vocab at 0x7feb68d4f9d0>,\n",
              " 'index': <gensim.models.keyedvectors.Vocab at 0x7feb68d4f0d0>,\n",
              " 'keys': <gensim.models.keyedvectors.Vocab at 0x7feb68dab550>,\n",
              " 'model': <gensim.models.keyedvectors.Vocab at 0x7feb68d4f7d0>,\n",
              " 'of': <gensim.models.keyedvectors.Vocab at 0x7feb68d4f490>,\n",
              " 'plain': <gensim.models.keyedvectors.Vocab at 0x7feb68d4f450>,\n",
              " 'the': <gensim.models.keyedvectors.Vocab at 0x7feb68dabbd0>,\n",
              " 'was': <gensim.models.keyedvectors.Vocab at 0x7feb68dab490>,\n",
              " 'word': <gensim.models.keyedvectors.Vocab at 0x7feb68dabd10>,\n",
              " 'wv': <gensim.models.keyedvectors.Vocab at 0x7feb68d4f990>}"
            ]
          },
          "metadata": {},
          "execution_count": 89
        }
      ]
    },
    {
      "cell_type": "code",
      "source": [
        "model.train([prc], total_examples=model.corpus_count, epochs=model.epochs)"
      ],
      "metadata": {
        "colab": {
          "base_uri": "https://localhost:8080/"
        },
        "id": "nQpct1-6l-YX",
        "outputId": "3a961c8f-4048-4142-e996-e34b937651fe"
      },
      "execution_count": null,
      "outputs": [
        {
          "output_type": "execute_result",
          "data": {
            "text/plain": [
              "(23, 350)"
            ]
          },
          "metadata": {},
          "execution_count": 90
        }
      ]
    },
    {
      "cell_type": "code",
      "source": [
        "model.save(\"./trial.model\")"
      ],
      "metadata": {
        "id": "VZDoGy9dl-bm"
      },
      "execution_count": null,
      "outputs": []
    },
    {
      "cell_type": "code",
      "source": [
        "model.wv.similarity(w1=\"index\", w2=\"word\")"
      ],
      "metadata": {
        "colab": {
          "base_uri": "https://localhost:8080/"
        },
        "id": "ygrEdgu-l-fO",
        "outputId": "09294a7f-59a1-4b06-d351-617b1002befc"
      },
      "execution_count": null,
      "outputs": [
        {
          "output_type": "execute_result",
          "data": {
            "text/plain": [
              "-0.08971252"
            ]
          },
          "metadata": {},
          "execution_count": 93
        }
      ]
    },
    {
      "cell_type": "code",
      "source": [
        ""
      ],
      "metadata": {
        "id": "ejzyPGXpvHZW"
      },
      "execution_count": null,
      "outputs": []
    },
    {
      "cell_type": "markdown",
      "source": [
        "### Load External Vocabulary and analyse using Gensim"
      ],
      "metadata": {
        "id": "vw2w52fZaiqj"
      }
    },
    {
      "cell_type": "code",
      "source": [
        "import gensim.downloader as api\n",
        "from gensim.model import KeyedVectors\n"
      ],
      "metadata": {
        "id": "IoFBs0JtqXWY"
      },
      "execution_count": null,
      "outputs": []
    },
    {
      "cell_type": "code",
      "source": [
        "mod = api.load(\"glove-wiki-gigaword-100\")"
      ],
      "metadata": {
        "colab": {
          "base_uri": "https://localhost:8080/"
        },
        "id": "CoW2f3w8qXaY",
        "outputId": "1c4d0e3c-f340-4364-9396-e9c46fb007c9"
      },
      "execution_count": null,
      "outputs": [
        {
          "output_type": "stream",
          "name": "stdout",
          "text": [
            "[==================================================] 100.0% 128.1/128.1MB downloaded\n"
          ]
        }
      ]
    },
    {
      "cell_type": "code",
      "source": [
        "mod.most_similar(positive=[\"king\",\"women\"],negative=[\"men\"])"
      ],
      "metadata": {
        "colab": {
          "base_uri": "https://localhost:8080/"
        },
        "id": "EYkcviFTrZg4",
        "outputId": "f61c0dbf-4aad-472e-8b8b-63d4e28b5a33"
      },
      "execution_count": null,
      "outputs": [
        {
          "output_type": "execute_result",
          "data": {
            "text/plain": [
              "[('queen', 0.74156653881073),\n",
              " ('monarch', 0.7021745443344116),\n",
              " ('prince', 0.6327081918716431),\n",
              " ('kingdom', 0.6294623613357544),\n",
              " ('elizabeth', 0.6115030646324158),\n",
              " ('throne', 0.6069279909133911),\n",
              " ('emperor', 0.5794594287872314),\n",
              " ('father', 0.567244291305542),\n",
              " ('son', 0.5642266273498535),\n",
              " ('margaret', 0.5641614198684692)]"
            ]
          },
          "metadata": {},
          "execution_count": 15
        }
      ]
    },
    {
      "cell_type": "code",
      "source": [
        "mod.vectors[0].shape"
      ],
      "metadata": {
        "colab": {
          "base_uri": "https://localhost:8080/"
        },
        "id": "ZOHMT7g7rtiS",
        "outputId": "a7a81c2c-b305-46db-8e54-f721aee6672d"
      },
      "execution_count": null,
      "outputs": [
        {
          "output_type": "execute_result",
          "data": {
            "text/plain": [
              "(100,)"
            ]
          },
          "metadata": {},
          "execution_count": 14
        }
      ]
    },
    {
      "cell_type": "code",
      "source": [
        ""
      ],
      "metadata": {
        "id": "7H5pxVT9W-Hi"
      },
      "execution_count": null,
      "outputs": []
    },
    {
      "cell_type": "markdown",
      "source": [
        "### PreProcessing in NLP (Tensorflow Trial)"
      ],
      "metadata": {
        "id": "Jz6UmHN5Y51q"
      }
    },
    {
      "cell_type": "code",
      "source": [
        "import tensorflow as tf\n",
        "from tensorflow.keras.preprocessing.text import Tokenizer\n",
        "from tensorflow.keras.preprocessing.sequence import pad_sequences\n",
        "\n",
        "sentences = [\"I want to go out.\",\n",
        "             \" I like to play.\",\n",
        "             \" No eating - \",\n",
        "             \"No play!\",\n",
        "            ]\n",
        "tokenizer = Tokenizer(num_words=100, lower= 1, oov_token=\"<OOV>\")\n",
        "\n",
        "# tokenizer = Tokenizer(num_words=100, lower= 1)\n",
        "\n",
        "tokenizer.fit_on_texts(sentences)\n",
        "word_index = tokenizer.word_index\n",
        "print(word_index)"
      ],
      "metadata": {
        "id": "hL4T_pNpXbjx",
        "colab": {
          "base_uri": "https://localhost:8080/"
        },
        "outputId": "1abeab29-9504-4e3c-8e69-106e13d40c8a"
      },
      "execution_count": null,
      "outputs": [
        {
          "output_type": "stream",
          "name": "stdout",
          "text": [
            "{'i': 1, 'to': 2, 'play': 3, 'no': 4, 'want': 5, 'go': 6, 'out': 7, 'like': 8, 'eating': 9}\n"
          ]
        }
      ]
    },
    {
      "cell_type": "code",
      "source": [
        "sequences = tokenizer.texts_to_sequences(sentences)\n",
        "print(sentences)\n",
        "print(word_index)\n",
        "print(sequences)"
      ],
      "metadata": {
        "colab": {
          "base_uri": "https://localhost:8080/"
        },
        "id": "_GLqJW6pZakJ",
        "outputId": "467aa3b4-1b6d-4407-de38-901b849a9861"
      },
      "execution_count": null,
      "outputs": [
        {
          "output_type": "stream",
          "name": "stdout",
          "text": [
            "['I want to go out.', ' I like to play.', ' No eating - ', 'No play!']\n",
            "{'i': 1, 'to': 2, 'play': 3, 'no': 4, 'want': 5, 'go': 6, 'out': 7, 'like': 8, 'eating': 9}\n",
            "[[1, 5, 2, 6, 7], [1, 8, 2, 3], [4, 9], [4, 3]]\n"
          ]
        }
      ]
    },
    {
      "cell_type": "code",
      "source": [
        "pre_pad = pad_sequences(sequences, padding='pre')\n",
        "print(\"\\nword_index = \", word_index)\n",
        "print(\"\\nsequences = \", sequences)\n",
        "print(\"\\npadded_seq = \" )\n",
        "print(pre_pad)"
      ],
      "metadata": {
        "colab": {
          "base_uri": "https://localhost:8080/"
        },
        "id": "IRbU00mqbnGc",
        "outputId": "fc6c8cc1-9ee2-475b-bbdb-19977cbce884"
      },
      "execution_count": null,
      "outputs": [
        {
          "output_type": "stream",
          "name": "stdout",
          "text": [
            "\n",
            "word_index =  {'i': 1, 'to': 2, 'play': 3, 'no': 4, 'want': 5, 'go': 6, 'out': 7, 'like': 8, 'eating': 9}\n",
            "\n",
            "sequences =  [[1, 5, 2, 6, 7], [1, 8, 2, 3], [4, 9], [4, 3]]\n",
            "\n",
            "padded_seq = \n",
            "[[1 5 2 6 7]\n",
            " [1 8 2 3 0]\n",
            " [4 9 0 0 0]\n",
            " [4 3 0 0 0]]\n"
          ]
        }
      ]
    },
    {
      "cell_type": "code",
      "source": [
        "prepad_maxlen_pretrunc = pad_sequences(sequences, padding =\"pre\", maxlen =4, truncating =\"pre\")\n",
        "print(prepad_maxlen_pretrunc)"
      ],
      "metadata": {
        "colab": {
          "base_uri": "https://localhost:8080/"
        },
        "id": "mZ-eJnykbnx_",
        "outputId": "6817a812-64fc-446a-f261-39c09c83c9f9"
      },
      "execution_count": null,
      "outputs": [
        {
          "output_type": "stream",
          "name": "stdout",
          "text": [
            "[[5 2 6 7]\n",
            " [1 8 2 3]\n",
            " [0 0 4 9]\n",
            " [0 0 4 3]]\n"
          ]
        }
      ]
    },
    {
      "cell_type": "code",
      "source": [
        ""
      ],
      "metadata": {
        "id": "_dnmU8nQb_3a"
      },
      "execution_count": null,
      "outputs": []
    },
    {
      "cell_type": "markdown",
      "source": [
        "### Creating Custom Vocabulary"
      ],
      "metadata": {
        "id": "LNFCHrSEjjOj"
      }
    },
    {
      "cell_type": "code",
      "source": [
        "class Vocabulary:\n",
        "    def __init__(self, name):\n",
        "        self.name = name\n",
        "        self.PAD_token = 0   # Used for padding short sentences\n",
        "        self.SOS_token = 1   # Start-of-sentence token\n",
        "        self.EOS_token = 2   # End-of-sentence token\n",
        "        self.word2index = {}\n",
        "        self.word2count = {}\n",
        "        self.index2word = {self.PAD_token: \"PAD\", self.SOS_token: \"SOS\", self.EOS_token: \"EOS\"}\n",
        "        self.num_words = 3\n",
        "        self.num_sentences = 0\n",
        "        self.longest_sentence = 0\n",
        "\n",
        "    def add_word(self, word):\n",
        "        if word not in self.word2index:\n",
        "            # First entry of word into vocabulary\n",
        "            self.word2index[word] = self.num_words\n",
        "            self.word2count[word] = 1\n",
        "            self.index2word[self.num_words] = word\n",
        "            self.num_words += 1\n",
        "        else:\n",
        "            # Word exists; increase word count\n",
        "            self.word2count[word] += 1\n",
        "            \n",
        "    def add_sentence(self, sentence):\n",
        "        sentence_len = 0\n",
        "        for word in sentence.split(' '):\n",
        "            sentence_len += 1\n",
        "            self.add_word(word)\n",
        "        if sentence_len > self.longest_sentence:\n",
        "            # This is the longest sentence\n",
        "            self.longest_sentence = sentence_len\n",
        "        # Count the number of sentences\n",
        "        self.num_sentences += 1\n",
        "\n",
        "    def to_word(self, index):\n",
        "        return self.index2word[index]\n",
        "\n",
        "    def to_index(self, word):\n",
        "        return self.word2index[word]"
      ],
      "metadata": {
        "id": "n0_nWF9xc5Ez"
      },
      "execution_count": 1,
      "outputs": []
    },
    {
      "cell_type": "code",
      "source": [
        "voc = Vocabulary('test')\n",
        "print(voc)"
      ],
      "metadata": {
        "colab": {
          "base_uri": "https://localhost:8080/"
        },
        "id": "rnQukEXZf9st",
        "outputId": "e99a5d7f-549b-4bff-d099-630d5c5f9103"
      },
      "execution_count": 2,
      "outputs": [
        {
          "output_type": "stream",
          "name": "stdout",
          "text": [
            "<__main__.Vocabulary object at 0x7f01d2bb3d10>\n"
          ]
        }
      ]
    },
    {
      "cell_type": "code",
      "source": [
        "corpus = [\"I want to go out.\",\n",
        "             \" I like to play.\",\n",
        "             \" No eating - \",\n",
        "             \"No play!\",\n",
        "            ]\n",
        "\n",
        "\n",
        "print(corpus)"
      ],
      "metadata": {
        "colab": {
          "base_uri": "https://localhost:8080/"
        },
        "id": "-H2g8cGUgEf5",
        "outputId": "07f0f362-f4f8-49d6-ae88-0929ff56b40e"
      },
      "execution_count": 3,
      "outputs": [
        {
          "output_type": "stream",
          "name": "stdout",
          "text": [
            "['I want to go out.', ' I like to play.', ' No eating - ', 'No play!']\n"
          ]
        }
      ]
    },
    {
      "cell_type": "code",
      "source": [
        "for sent in corpus:\n",
        "  voc.add_sentence(sent)\n",
        "print(voc.word2index)"
      ],
      "metadata": {
        "colab": {
          "base_uri": "https://localhost:8080/"
        },
        "id": "oEZUd2vrgmWv",
        "outputId": "07303c7b-4f15-4f8b-c4bf-a983a009c06c"
      },
      "execution_count": 4,
      "outputs": [
        {
          "output_type": "stream",
          "name": "stdout",
          "text": [
            "{'I': 3, 'want': 4, 'to': 5, 'go': 6, 'out.': 7, '': 8, 'like': 9, 'play.': 10, 'No': 11, 'eating': 12, '-': 13, 'play!': 14}\n"
          ]
        }
      ]
    },
    {
      "cell_type": "code",
      "source": [
        "print('Token 4 corresponds to token:', voc.to_word(4))\n",
        "print('Token \"go\" corresponds to index:', voc.to_index('go'))"
      ],
      "metadata": {
        "colab": {
          "base_uri": "https://localhost:8080/"
        },
        "id": "zw38PySMgma1",
        "outputId": "2a05ec03-0782-4941-c153-af4efaefce37"
      },
      "execution_count": 8,
      "outputs": [
        {
          "output_type": "stream",
          "name": "stdout",
          "text": [
            "Token 4 corresponds to token: want\n",
            "Token \"go\" corresponds to index: 6\n"
          ]
        }
      ]
    },
    {
      "cell_type": "code",
      "source": [
        "sen = \"\"\n",
        "for word in range(voc.num_words):\n",
        "    print(voc.to_word(word),end=\", \")"
      ],
      "metadata": {
        "colab": {
          "base_uri": "https://localhost:8080/"
        },
        "id": "_ePo2jcMgmdf",
        "outputId": "2d015f59-5917-4c59-f1e0-f79a5c7b75a6"
      },
      "execution_count": 11,
      "outputs": [
        {
          "output_type": "stream",
          "name": "stdout",
          "text": [
            "PAD, SOS, EOS, I, want, to, go, out., , like, play., No, eating, -, play!, "
          ]
        }
      ]
    },
    {
      "cell_type": "code",
      "source": [
        "sent_tkns = []\n",
        "sent_idxs = []\n",
        "for word in corpus[3].split(' '):\n",
        "  sent_tkns.append(word)\n",
        "  sent_idxs.append(voc.to_index(word))\n",
        "print(sent_tkns)\n",
        "print(sent_idxs)"
      ],
      "metadata": {
        "colab": {
          "base_uri": "https://localhost:8080/"
        },
        "id": "QJ41scvBgwYE",
        "outputId": "2191dae1-9629-4587-8e0b-d93bf8ccac8f"
      },
      "execution_count": 10,
      "outputs": [
        {
          "output_type": "stream",
          "name": "stdout",
          "text": [
            "['No', 'play!']\n",
            "[11, 14]\n"
          ]
        }
      ]
    },
    {
      "cell_type": "code",
      "source": [
        ""
      ],
      "metadata": {
        "id": "i01My2nYDGN0"
      },
      "execution_count": null,
      "outputs": []
    },
    {
      "cell_type": "markdown",
      "source": [
        "### One Hot Encoding Using CountVectorizer Class from Scikit Learn"
      ],
      "metadata": {
        "id": "10sjiIohbmob"
      }
    },
    {
      "cell_type": "code",
      "source": [
        "documents = [\"I like this movie, it's funny.\", 'I hate this movie.', 'This was awesome! I like it.', 'Nice one. I love it.']"
      ],
      "metadata": {
        "id": "5tQOFMbGDGXS"
      },
      "execution_count": null,
      "outputs": []
    },
    {
      "cell_type": "code",
      "source": [
        "from sklearn.feature_extraction.text import CountVectorizer\n",
        "import pandas as pd\n",
        "\n",
        "# Step 2. Design the Vocabulary\n",
        "# The default token pattern removes tokens of a single character. That's why we don't have the \"I\" and \"s\" tokens in the output\n",
        "count_vectorizer = CountVectorizer()\n",
        "\n",
        "# Step 3. Create the Bag-of-Words Model\n",
        "bag_of_words = count_vectorizer.fit_transform(documents)\n",
        "\n",
        "# Show the Bag-of-Words Model as a pandas DataFrame\n",
        "feature_names = count_vectorizer.get_feature_names()\n",
        "pd.DataFrame(bag_of_words.toarray(), columns = feature_names)"
      ],
      "metadata": {
        "colab": {
          "base_uri": "https://localhost:8080/",
          "height": 230
        },
        "id": "uh7YGBLmDIT8",
        "outputId": "895dc124-db5f-48f3-c529-57c7f564f2c9"
      },
      "execution_count": null,
      "outputs": [
        {
          "output_type": "stream",
          "name": "stderr",
          "text": [
            "/usr/local/lib/python3.7/dist-packages/sklearn/utils/deprecation.py:87: FutureWarning: Function get_feature_names is deprecated; get_feature_names is deprecated in 1.0 and will be removed in 1.2. Please use get_feature_names_out instead.\n",
            "  warnings.warn(msg, category=FutureWarning)\n"
          ]
        },
        {
          "output_type": "execute_result",
          "data": {
            "text/plain": [
              "   awesome  funny  hate  like  love  movie  nice\n",
              "0        0      1     0     1     0      1     0\n",
              "1        0      0     1     0     0      1     0\n",
              "2        1      0     0     1     0      0     0\n",
              "3        0      0     0     0     1      0     1"
            ],
            "text/html": [
              "\n",
              "  <div id=\"df-b93a149d-a1af-4579-a4cf-d5de822e738f\">\n",
              "    <div class=\"colab-df-container\">\n",
              "      <div>\n",
              "<style scoped>\n",
              "    .dataframe tbody tr th:only-of-type {\n",
              "        vertical-align: middle;\n",
              "    }\n",
              "\n",
              "    .dataframe tbody tr th {\n",
              "        vertical-align: top;\n",
              "    }\n",
              "\n",
              "    .dataframe thead th {\n",
              "        text-align: right;\n",
              "    }\n",
              "</style>\n",
              "<table border=\"1\" class=\"dataframe\">\n",
              "  <thead>\n",
              "    <tr style=\"text-align: right;\">\n",
              "      <th></th>\n",
              "      <th>awesome</th>\n",
              "      <th>funny</th>\n",
              "      <th>hate</th>\n",
              "      <th>like</th>\n",
              "      <th>love</th>\n",
              "      <th>movie</th>\n",
              "      <th>nice</th>\n",
              "    </tr>\n",
              "  </thead>\n",
              "  <tbody>\n",
              "    <tr>\n",
              "      <th>0</th>\n",
              "      <td>0</td>\n",
              "      <td>1</td>\n",
              "      <td>0</td>\n",
              "      <td>1</td>\n",
              "      <td>0</td>\n",
              "      <td>1</td>\n",
              "      <td>0</td>\n",
              "    </tr>\n",
              "    <tr>\n",
              "      <th>1</th>\n",
              "      <td>0</td>\n",
              "      <td>0</td>\n",
              "      <td>1</td>\n",
              "      <td>0</td>\n",
              "      <td>0</td>\n",
              "      <td>1</td>\n",
              "      <td>0</td>\n",
              "    </tr>\n",
              "    <tr>\n",
              "      <th>2</th>\n",
              "      <td>1</td>\n",
              "      <td>0</td>\n",
              "      <td>0</td>\n",
              "      <td>1</td>\n",
              "      <td>0</td>\n",
              "      <td>0</td>\n",
              "      <td>0</td>\n",
              "    </tr>\n",
              "    <tr>\n",
              "      <th>3</th>\n",
              "      <td>0</td>\n",
              "      <td>0</td>\n",
              "      <td>0</td>\n",
              "      <td>0</td>\n",
              "      <td>1</td>\n",
              "      <td>0</td>\n",
              "      <td>1</td>\n",
              "    </tr>\n",
              "  </tbody>\n",
              "</table>\n",
              "</div>\n",
              "      <button class=\"colab-df-convert\" onclick=\"convertToInteractive('df-b93a149d-a1af-4579-a4cf-d5de822e738f')\"\n",
              "              title=\"Convert this dataframe to an interactive table.\"\n",
              "              style=\"display:none;\">\n",
              "        \n",
              "  <svg xmlns=\"http://www.w3.org/2000/svg\" height=\"24px\"viewBox=\"0 0 24 24\"\n",
              "       width=\"24px\">\n",
              "    <path d=\"M0 0h24v24H0V0z\" fill=\"none\"/>\n",
              "    <path d=\"M18.56 5.44l.94 2.06.94-2.06 2.06-.94-2.06-.94-.94-2.06-.94 2.06-2.06.94zm-11 1L8.5 8.5l.94-2.06 2.06-.94-2.06-.94L8.5 2.5l-.94 2.06-2.06.94zm10 10l.94 2.06.94-2.06 2.06-.94-2.06-.94-.94-2.06-.94 2.06-2.06.94z\"/><path d=\"M17.41 7.96l-1.37-1.37c-.4-.4-.92-.59-1.43-.59-.52 0-1.04.2-1.43.59L10.3 9.45l-7.72 7.72c-.78.78-.78 2.05 0 2.83L4 21.41c.39.39.9.59 1.41.59.51 0 1.02-.2 1.41-.59l7.78-7.78 2.81-2.81c.8-.78.8-2.07 0-2.86zM5.41 20L4 18.59l7.72-7.72 1.47 1.35L5.41 20z\"/>\n",
              "  </svg>\n",
              "      </button>\n",
              "      \n",
              "  <style>\n",
              "    .colab-df-container {\n",
              "      display:flex;\n",
              "      flex-wrap:wrap;\n",
              "      gap: 12px;\n",
              "    }\n",
              "\n",
              "    .colab-df-convert {\n",
              "      background-color: #E8F0FE;\n",
              "      border: none;\n",
              "      border-radius: 50%;\n",
              "      cursor: pointer;\n",
              "      display: none;\n",
              "      fill: #1967D2;\n",
              "      height: 32px;\n",
              "      padding: 0 0 0 0;\n",
              "      width: 32px;\n",
              "    }\n",
              "\n",
              "    .colab-df-convert:hover {\n",
              "      background-color: #E2EBFA;\n",
              "      box-shadow: 0px 1px 2px rgba(60, 64, 67, 0.3), 0px 1px 3px 1px rgba(60, 64, 67, 0.15);\n",
              "      fill: #174EA6;\n",
              "    }\n",
              "\n",
              "    [theme=dark] .colab-df-convert {\n",
              "      background-color: #3B4455;\n",
              "      fill: #D2E3FC;\n",
              "    }\n",
              "\n",
              "    [theme=dark] .colab-df-convert:hover {\n",
              "      background-color: #434B5C;\n",
              "      box-shadow: 0px 1px 3px 1px rgba(0, 0, 0, 0.15);\n",
              "      filter: drop-shadow(0px 1px 2px rgba(0, 0, 0, 0.3));\n",
              "      fill: #FFFFFF;\n",
              "    }\n",
              "  </style>\n",
              "\n",
              "      <script>\n",
              "        const buttonEl =\n",
              "          document.querySelector('#df-b93a149d-a1af-4579-a4cf-d5de822e738f button.colab-df-convert');\n",
              "        buttonEl.style.display =\n",
              "          google.colab.kernel.accessAllowed ? 'block' : 'none';\n",
              "\n",
              "        async function convertToInteractive(key) {\n",
              "          const element = document.querySelector('#df-b93a149d-a1af-4579-a4cf-d5de822e738f');\n",
              "          const dataTable =\n",
              "            await google.colab.kernel.invokeFunction('convertToInteractive',\n",
              "                                                     [key], {});\n",
              "          if (!dataTable) return;\n",
              "\n",
              "          const docLinkHtml = 'Like what you see? Visit the ' +\n",
              "            '<a target=\"_blank\" href=https://colab.research.google.com/notebooks/data_table.ipynb>data table notebook</a>'\n",
              "            + ' to learn more about interactive tables.';\n",
              "          element.innerHTML = '';\n",
              "          dataTable['output_type'] = 'display_data';\n",
              "          await google.colab.output.renderOutput(dataTable, element);\n",
              "          const docLink = document.createElement('div');\n",
              "          docLink.innerHTML = docLinkHtml;\n",
              "          element.appendChild(docLink);\n",
              "        }\n",
              "      </script>\n",
              "    </div>\n",
              "  </div>\n",
              "  "
            ]
          },
          "metadata": {},
          "execution_count": 15
        }
      ]
    },
    {
      "cell_type": "code",
      "source": [
        ""
      ],
      "metadata": {
        "id": "DFfWlaRKcChD"
      },
      "execution_count": null,
      "outputs": []
    },
    {
      "cell_type": "markdown",
      "source": [
        "### Using TF-IDF from Scikit Learn"
      ],
      "metadata": {
        "id": "BLJvnNutcDEp"
      }
    },
    {
      "cell_type": "code",
      "source": [
        "from sklearn.feature_extraction.text import TfidfVectorizer\n",
        "import pandas as pd\n",
        "\n",
        "tfidf_vectorizer = TfidfVectorizer()\n",
        "values = tfidf_vectorizer.fit_transform(documents)\n",
        "\n",
        "# Show the Model as a pandas DataFrame\n",
        "feature_names = tfidf_vectorizer.get_feature_names()\n",
        "pd.DataFrame(values.toarray(), columns = feature_names)"
      ],
      "metadata": {
        "colab": {
          "base_uri": "https://localhost:8080/",
          "height": 230
        },
        "id": "yhc0wMiRJsNs",
        "outputId": "6ce4e4ae-aae5-45c4-8719-027edb06ebde"
      },
      "execution_count": null,
      "outputs": [
        {
          "output_type": "stream",
          "name": "stderr",
          "text": [
            "/usr/local/lib/python3.7/dist-packages/sklearn/utils/deprecation.py:87: FutureWarning: Function get_feature_names is deprecated; get_feature_names is deprecated in 1.0 and will be removed in 1.2. Please use get_feature_names_out instead.\n",
            "  warnings.warn(msg, category=FutureWarning)\n"
          ]
        },
        {
          "output_type": "execute_result",
          "data": {
            "text/plain": [
              "    awesome     funny      hate        it      like      love     movie  \\\n",
              "0  0.000000  0.571848  0.000000  0.365003  0.450852  0.000000  0.450852   \n",
              "1  0.000000  0.000000  0.702035  0.000000  0.000000  0.000000  0.553492   \n",
              "2  0.539445  0.000000  0.000000  0.344321  0.425305  0.000000  0.000000   \n",
              "3  0.000000  0.000000  0.000000  0.345783  0.000000  0.541736  0.000000   \n",
              "\n",
              "       nice       one      this       was  \n",
              "0  0.000000  0.000000  0.365003  0.000000  \n",
              "1  0.000000  0.000000  0.448100  0.000000  \n",
              "2  0.000000  0.000000  0.344321  0.539445  \n",
              "3  0.541736  0.541736  0.000000  0.000000  "
            ],
            "text/html": [
              "\n",
              "  <div id=\"df-72531e17-6a1b-4b87-b35c-3c10a0bd67ed\">\n",
              "    <div class=\"colab-df-container\">\n",
              "      <div>\n",
              "<style scoped>\n",
              "    .dataframe tbody tr th:only-of-type {\n",
              "        vertical-align: middle;\n",
              "    }\n",
              "\n",
              "    .dataframe tbody tr th {\n",
              "        vertical-align: top;\n",
              "    }\n",
              "\n",
              "    .dataframe thead th {\n",
              "        text-align: right;\n",
              "    }\n",
              "</style>\n",
              "<table border=\"1\" class=\"dataframe\">\n",
              "  <thead>\n",
              "    <tr style=\"text-align: right;\">\n",
              "      <th></th>\n",
              "      <th>awesome</th>\n",
              "      <th>funny</th>\n",
              "      <th>hate</th>\n",
              "      <th>it</th>\n",
              "      <th>like</th>\n",
              "      <th>love</th>\n",
              "      <th>movie</th>\n",
              "      <th>nice</th>\n",
              "      <th>one</th>\n",
              "      <th>this</th>\n",
              "      <th>was</th>\n",
              "    </tr>\n",
              "  </thead>\n",
              "  <tbody>\n",
              "    <tr>\n",
              "      <th>0</th>\n",
              "      <td>0.000000</td>\n",
              "      <td>0.571848</td>\n",
              "      <td>0.000000</td>\n",
              "      <td>0.365003</td>\n",
              "      <td>0.450852</td>\n",
              "      <td>0.000000</td>\n",
              "      <td>0.450852</td>\n",
              "      <td>0.000000</td>\n",
              "      <td>0.000000</td>\n",
              "      <td>0.365003</td>\n",
              "      <td>0.000000</td>\n",
              "    </tr>\n",
              "    <tr>\n",
              "      <th>1</th>\n",
              "      <td>0.000000</td>\n",
              "      <td>0.000000</td>\n",
              "      <td>0.702035</td>\n",
              "      <td>0.000000</td>\n",
              "      <td>0.000000</td>\n",
              "      <td>0.000000</td>\n",
              "      <td>0.553492</td>\n",
              "      <td>0.000000</td>\n",
              "      <td>0.000000</td>\n",
              "      <td>0.448100</td>\n",
              "      <td>0.000000</td>\n",
              "    </tr>\n",
              "    <tr>\n",
              "      <th>2</th>\n",
              "      <td>0.539445</td>\n",
              "      <td>0.000000</td>\n",
              "      <td>0.000000</td>\n",
              "      <td>0.344321</td>\n",
              "      <td>0.425305</td>\n",
              "      <td>0.000000</td>\n",
              "      <td>0.000000</td>\n",
              "      <td>0.000000</td>\n",
              "      <td>0.000000</td>\n",
              "      <td>0.344321</td>\n",
              "      <td>0.539445</td>\n",
              "    </tr>\n",
              "    <tr>\n",
              "      <th>3</th>\n",
              "      <td>0.000000</td>\n",
              "      <td>0.000000</td>\n",
              "      <td>0.000000</td>\n",
              "      <td>0.345783</td>\n",
              "      <td>0.000000</td>\n",
              "      <td>0.541736</td>\n",
              "      <td>0.000000</td>\n",
              "      <td>0.541736</td>\n",
              "      <td>0.541736</td>\n",
              "      <td>0.000000</td>\n",
              "      <td>0.000000</td>\n",
              "    </tr>\n",
              "  </tbody>\n",
              "</table>\n",
              "</div>\n",
              "      <button class=\"colab-df-convert\" onclick=\"convertToInteractive('df-72531e17-6a1b-4b87-b35c-3c10a0bd67ed')\"\n",
              "              title=\"Convert this dataframe to an interactive table.\"\n",
              "              style=\"display:none;\">\n",
              "        \n",
              "  <svg xmlns=\"http://www.w3.org/2000/svg\" height=\"24px\"viewBox=\"0 0 24 24\"\n",
              "       width=\"24px\">\n",
              "    <path d=\"M0 0h24v24H0V0z\" fill=\"none\"/>\n",
              "    <path d=\"M18.56 5.44l.94 2.06.94-2.06 2.06-.94-2.06-.94-.94-2.06-.94 2.06-2.06.94zm-11 1L8.5 8.5l.94-2.06 2.06-.94-2.06-.94L8.5 2.5l-.94 2.06-2.06.94zm10 10l.94 2.06.94-2.06 2.06-.94-2.06-.94-.94-2.06-.94 2.06-2.06.94z\"/><path d=\"M17.41 7.96l-1.37-1.37c-.4-.4-.92-.59-1.43-.59-.52 0-1.04.2-1.43.59L10.3 9.45l-7.72 7.72c-.78.78-.78 2.05 0 2.83L4 21.41c.39.39.9.59 1.41.59.51 0 1.02-.2 1.41-.59l7.78-7.78 2.81-2.81c.8-.78.8-2.07 0-2.86zM5.41 20L4 18.59l7.72-7.72 1.47 1.35L5.41 20z\"/>\n",
              "  </svg>\n",
              "      </button>\n",
              "      \n",
              "  <style>\n",
              "    .colab-df-container {\n",
              "      display:flex;\n",
              "      flex-wrap:wrap;\n",
              "      gap: 12px;\n",
              "    }\n",
              "\n",
              "    .colab-df-convert {\n",
              "      background-color: #E8F0FE;\n",
              "      border: none;\n",
              "      border-radius: 50%;\n",
              "      cursor: pointer;\n",
              "      display: none;\n",
              "      fill: #1967D2;\n",
              "      height: 32px;\n",
              "      padding: 0 0 0 0;\n",
              "      width: 32px;\n",
              "    }\n",
              "\n",
              "    .colab-df-convert:hover {\n",
              "      background-color: #E2EBFA;\n",
              "      box-shadow: 0px 1px 2px rgba(60, 64, 67, 0.3), 0px 1px 3px 1px rgba(60, 64, 67, 0.15);\n",
              "      fill: #174EA6;\n",
              "    }\n",
              "\n",
              "    [theme=dark] .colab-df-convert {\n",
              "      background-color: #3B4455;\n",
              "      fill: #D2E3FC;\n",
              "    }\n",
              "\n",
              "    [theme=dark] .colab-df-convert:hover {\n",
              "      background-color: #434B5C;\n",
              "      box-shadow: 0px 1px 3px 1px rgba(0, 0, 0, 0.15);\n",
              "      filter: drop-shadow(0px 1px 2px rgba(0, 0, 0, 0.3));\n",
              "      fill: #FFFFFF;\n",
              "    }\n",
              "  </style>\n",
              "\n",
              "      <script>\n",
              "        const buttonEl =\n",
              "          document.querySelector('#df-72531e17-6a1b-4b87-b35c-3c10a0bd67ed button.colab-df-convert');\n",
              "        buttonEl.style.display =\n",
              "          google.colab.kernel.accessAllowed ? 'block' : 'none';\n",
              "\n",
              "        async function convertToInteractive(key) {\n",
              "          const element = document.querySelector('#df-72531e17-6a1b-4b87-b35c-3c10a0bd67ed');\n",
              "          const dataTable =\n",
              "            await google.colab.kernel.invokeFunction('convertToInteractive',\n",
              "                                                     [key], {});\n",
              "          if (!dataTable) return;\n",
              "\n",
              "          const docLinkHtml = 'Like what you see? Visit the ' +\n",
              "            '<a target=\"_blank\" href=https://colab.research.google.com/notebooks/data_table.ipynb>data table notebook</a>'\n",
              "            + ' to learn more about interactive tables.';\n",
              "          element.innerHTML = '';\n",
              "          dataTable['output_type'] = 'display_data';\n",
              "          await google.colab.output.renderOutput(dataTable, element);\n",
              "          const docLink = document.createElement('div');\n",
              "          docLink.innerHTML = docLinkHtml;\n",
              "          element.appendChild(docLink);\n",
              "        }\n",
              "      </script>\n",
              "    </div>\n",
              "  </div>\n",
              "  "
            ]
          },
          "metadata": {},
          "execution_count": 17
        }
      ]
    },
    {
      "cell_type": "markdown",
      "source": [
        "#Vectorization of Text data"
      ],
      "metadata": {
        "id": "FbycGFypaOzU"
      }
    },
    {
      "cell_type": "markdown",
      "source": [
        "### SkipGram in Pytorch"
      ],
      "metadata": {
        "id": "-eScJfk-VYpW"
      }
    },
    {
      "cell_type": "code",
      "source": [
        "corpus = [\n",
        "    'he is a king',\n",
        "    'she is a queen',\n",
        "    'he is a man',\n",
        "    'she is a woman',\n",
        "    'warsaw is poland capital',\n",
        "    'berlin is germany capital',\n",
        "    'paris is france capital',\n",
        "]"
      ],
      "metadata": {
        "id": "txzu0L1-Vbg9"
      },
      "execution_count": 12,
      "outputs": []
    },
    {
      "cell_type": "code",
      "source": [
        "tokenized_corpus = [x.split() for x in corpus]\n",
        "vocabulary = []\n",
        "\n",
        "for sentence in tokenized_corpus:\n",
        "    for token in sentence:\n",
        "        if token not in vocabulary:\n",
        "            vocabulary.append(token)\n",
        "\n",
        "word2idx = {w: idx for (idx, w) in enumerate(vocabulary)}\n",
        "idx2word = {idx: w for (idx, w) in enumerate(vocabulary)}\n",
        "\n",
        "vocabulary_size = len(vocabulary)\n",
        "\n",
        "print(word2idx)\n",
        "print(idx2word)\n",
        "print(vocabulary)"
      ],
      "metadata": {
        "colab": {
          "base_uri": "https://localhost:8080/"
        },
        "id": "nD4aCk9lVfpm",
        "outputId": "27131343-8774-4e40-de19-125823479fe0"
      },
      "execution_count": 14,
      "outputs": [
        {
          "output_type": "stream",
          "name": "stdout",
          "text": [
            "{'he': 0, 'is': 1, 'a': 2, 'king': 3, 'she': 4, 'queen': 5, 'man': 6, 'woman': 7, 'warsaw': 8, 'poland': 9, 'capital': 10, 'berlin': 11, 'germany': 12, 'paris': 13, 'france': 14}\n",
            "{0: 'he', 1: 'is', 2: 'a', 3: 'king', 4: 'she', 5: 'queen', 6: 'man', 7: 'woman', 8: 'warsaw', 9: 'poland', 10: 'capital', 11: 'berlin', 12: 'germany', 13: 'paris', 14: 'france'}\n",
            "['he', 'is', 'a', 'king', 'she', 'queen', 'man', 'woman', 'warsaw', 'poland', 'capital', 'berlin', 'germany', 'paris', 'france']\n"
          ]
        }
      ]
    },
    {
      "cell_type": "code",
      "source": [
        "import numpy as np\n",
        "\n",
        "window_size = 2\n",
        "idx_pairs = []\n",
        "\n",
        "for sentence in tokenized_corpus:                                                         # for each sentence\n",
        "    indices = [word2idx[word] for word in sentence]\n",
        "    for center_word_pos in range(len(indices)):                                           # for each word, threated as center word\n",
        "        for w in range(-window_size, window_size + 1):                                    # for each window position\n",
        "            context_word_pos = center_word_pos + w                                        # make sure not jump out sentence\n",
        "            if context_word_pos < 0 or context_word_pos >= len(indices) or center_word_pos == context_word_pos:\n",
        "                continue\n",
        "            context_word_idx = indices[context_word_pos]\n",
        "            idx_pairs.append((indices[center_word_pos], context_word_idx))\n",
        "    # print(indices)\n",
        "    break\n",
        "\n",
        "idx_pairs = np.array(idx_pairs)                                                           # it will be useful to have this as numpy array\n",
        "print(tokenized_corpus[0])\n",
        "for i in idx_pairs:\n",
        "  print(idx2word[i[0]],idx2word[i[1]])"
      ],
      "metadata": {
        "colab": {
          "base_uri": "https://localhost:8080/"
        },
        "id": "erOA_R59VgkB",
        "outputId": "207cb165-a1d6-4e3a-93d2-d09698b72433"
      },
      "execution_count": null,
      "outputs": [
        {
          "output_type": "stream",
          "name": "stdout",
          "text": [
            "['he', 'is', 'a', 'king']\n",
            "he is\n",
            "he a\n",
            "is he\n",
            "is a\n",
            "is king\n",
            "a he\n",
            "a is\n",
            "a king\n",
            "king is\n",
            "king a\n"
          ]
        }
      ]
    },
    {
      "cell_type": "code",
      "source": [
        "import torch\n",
        "from torch.autograd import Variable\n",
        "import torch.nn.functional as F"
      ],
      "metadata": {
        "id": "N60zfm1vydjU"
      },
      "execution_count": null,
      "outputs": []
    },
    {
      "cell_type": "code",
      "source": [
        "def get_input_layer(word_idx):\n",
        "    x = torch.zeros(vocabulary_size).float()\n",
        "    x[word_idx] = 1.0\n",
        "    return x"
      ],
      "metadata": {
        "id": "5cikmr7uzEZV"
      },
      "execution_count": null,
      "outputs": []
    },
    {
      "cell_type": "code",
      "source": [
        "print(idx_pairs)"
      ],
      "metadata": {
        "colab": {
          "base_uri": "https://localhost:8080/"
        },
        "id": "MTBnzEn7KulH",
        "outputId": "0553f566-ac34-4be3-9531-d33a93027699"
      },
      "execution_count": null,
      "outputs": [
        {
          "output_type": "stream",
          "name": "stdout",
          "text": [
            "[[0 1]\n",
            " [0 2]\n",
            " [1 0]\n",
            " [1 2]\n",
            " [1 3]\n",
            " [2 0]\n",
            " [2 1]\n",
            " [2 3]\n",
            " [3 1]\n",
            " [3 2]]\n"
          ]
        }
      ]
    },
    {
      "cell_type": "code",
      "source": [
        "embedding_dims = 5\n",
        "W1 = Variable(torch.randn(embedding_dims, vocabulary_size).float(), requires_grad=True)\n",
        "W2 = Variable(torch.randn(vocabulary_size, embedding_dims).float(), requires_grad=True)\n",
        "num_epochs = 101\n",
        "learning_rate = 0.001\n",
        "\n",
        "\n",
        "for epo in range(num_epochs):\n",
        "    loss_val = 0\n",
        "    for data, target in idx_pairs:\n",
        "        x = Variable(get_input_layer(data)).float()\n",
        "        # print(x)\n",
        "        y_true = Variable(torch.from_numpy(np.array([target])).long())\n",
        "\n",
        "        z1 = torch.matmul(W1, x)\n",
        "        z2 = torch.matmul(W2, z1)\n",
        "    \n",
        "        log_softmax = F.log_softmax(z2, dim=0)\n",
        "\n",
        "        loss = F.nll_loss(log_softmax.view(1,-1), y_true)\n",
        "        loss_val += loss.item()\n",
        "        loss.backward()\n",
        "        \n",
        "        W1.data -= learning_rate * W1.grad.data\n",
        "        W2.data -= learning_rate * W2.grad.data\n",
        "\n",
        "        W1.grad.data.zero_()\n",
        "        W2.grad.data.zero_()\n",
        "    \n",
        "    if epo % 10 == 0:    \n",
        "        print(f'Loss at epo {epo}: {loss_val/len(idx_pairs)}')\n"
      ],
      "metadata": {
        "colab": {
          "base_uri": "https://localhost:8080/"
        },
        "id": "HMPxcVqSV9nz",
        "outputId": "3d7213fb-53d2-4442-e256-206e30ac6806"
      },
      "execution_count": null,
      "outputs": [
        {
          "output_type": "stream",
          "name": "stdout",
          "text": [
            "Loss at epo 0: 4.091924154758454\n",
            "Loss at epo 10: 3.9284665405750276\n",
            "Loss at epo 20: 3.7859984934329987\n",
            "Loss at epo 30: 3.6624924719333647\n",
            "Loss at epo 40: 3.555117219686508\n",
            "Loss at epo 50: 3.460879999399185\n",
            "Loss at epo 60: 3.37708575129509\n",
            "Loss at epo 70: 3.301531380414963\n",
            "Loss at epo 80: 3.232516181468964\n",
            "Loss at epo 90: 3.1687616646289825\n",
            "Loss at epo 100: 3.1093174695968626\n"
          ]
        }
      ]
    },
    {
      "cell_type": "code",
      "source": [
        ""
      ],
      "metadata": {
        "id": "4c2Kr_P4u450"
      },
      "execution_count": null,
      "outputs": []
    },
    {
      "cell_type": "markdown",
      "source": [
        "### Word2Vec in Pytorch"
      ],
      "metadata": {
        "id": "NNK9ZfTxaG8U"
      }
    },
    {
      "cell_type": "code",
      "metadata": {
        "id": "hQyABfVXMyhA"
      },
      "source": [
        "import torch\n",
        "import torch.nn as nn\n",
        "import matplotlib.pyplot as plt\n"
      ],
      "execution_count": 111,
      "outputs": []
    },
    {
      "cell_type": "code",
      "metadata": {
        "id": "ti-UORytM39x"
      },
      "source": [
        "raw_text = \"\"\"During my second month of nursing school, our professor gave us a pop quiz.  \n",
        "I was a conscientious student and had breezed through the questions, until I read the last one: \n",
        "“What is the first name of the woman who cleans the school?”  Surely this was some kind of joke. \n",
        "I had seen the cleaning woman several times. She was tall, dark-haired and in her 50s, but how would I know her name?  \n",
        "I handed in my paper, leaving the last question blank.  Before class ended, one student asked if the last question would count toward our quiz grade.  \n",
        "“Absolutely,” said the professor.  “In your careers you will meet many people. All are significant. They deserve your attention and care, \n",
        "even if all you do is smile and say ‘hello’. I’ve never forgotten that lesson. I also learned her name was Dorothy.\"\"\".split()"
      ],
      "execution_count": 112,
      "outputs": []
    },
    {
      "cell_type": "code",
      "source": [
        "CONTEXT_SIZE = 2  \n",
        "EMDEDDING_DIM = 100\n",
        "\n",
        "vocab = set(raw_text)\n",
        "vocab_size = len(vocab)\n",
        "\n",
        "word_list = list(vocab)\n",
        "\n",
        "word_to_ix = {word:ix for ix, word in enumerate(vocab)}\n",
        "ix_to_word = {ix:word for ix, word in enumerate(vocab)}"
      ],
      "metadata": {
        "id": "pdVHfr9jp0IL"
      },
      "execution_count": 113,
      "outputs": []
    },
    {
      "cell_type": "code",
      "source": [
        "print(vocab)\n",
        "print(vocab_size)\n",
        "print(word_to_ix)\n",
        "print(ix_to_word)"
      ],
      "metadata": {
        "colab": {
          "base_uri": "https://localhost:8080/"
        },
        "id": "Brj4SR4xp68F",
        "outputId": "6877c1cd-29ac-421f-a674-3c42331aa0c6"
      },
      "execution_count": 114,
      "outputs": [
        {
          "output_type": "stream",
          "name": "stdout",
          "text": [
            "{'one:', 'several', 'tall,', 'cleans', 'will', 'school,', 'read', 'professor', 'pop', 'also', 'student', 'one', 'significant.', 'She', 'that', 'is', 'name', 'I’ve', 'are', 'but', 'careers', 'Dorothy.', 'gave', 'said', 'all', 'grade.', 'my', 'kind', 'people.', 'through', 'many', 'care,', 'of', 'if', 'school?”', 'would', 'a', 'do', 'second', 'month', 'who', 'attention', 'woman', 'question', 'smile', 'deserve', 'blank.', '“What', 'name?', 'even', 'handed', 'first', 'They', 'ended,', 'never', 'some', 'breezed', 'her', 'the', 'quiz.', 'joke.', 'Before', 'cleaning', 'lesson.', 'had', 'know', 'your', 'times.', 'in', 'asked', 'you', 'count', 'leaving', 'meet', 'All', 'say', 'was', 'how', 'questions,', 'last', 'toward', 'and', 'professor.', 'forgotten', '“Absolutely,”', 'until', 'this', 'quiz', 'class', 'learned', '“In', 'dark-haired', '50s,', 'us', '‘hello’.', 'nursing', 'our', 'I', 'seen', 'During', 'conscientious', 'paper,', 'Surely'}\n",
            "103\n",
            "{'one:': 0, 'several': 1, 'tall,': 2, 'cleans': 3, 'will': 4, 'school,': 5, 'read': 6, 'professor': 7, 'pop': 8, 'also': 9, 'student': 10, 'one': 11, 'significant.': 12, 'She': 13, 'that': 14, 'is': 15, 'name': 16, 'I’ve': 17, 'are': 18, 'but': 19, 'careers': 20, 'Dorothy.': 21, 'gave': 22, 'said': 23, 'all': 24, 'grade.': 25, 'my': 26, 'kind': 27, 'people.': 28, 'through': 29, 'many': 30, 'care,': 31, 'of': 32, 'if': 33, 'school?”': 34, 'would': 35, 'a': 36, 'do': 37, 'second': 38, 'month': 39, 'who': 40, 'attention': 41, 'woman': 42, 'question': 43, 'smile': 44, 'deserve': 45, 'blank.': 46, '“What': 47, 'name?': 48, 'even': 49, 'handed': 50, 'first': 51, 'They': 52, 'ended,': 53, 'never': 54, 'some': 55, 'breezed': 56, 'her': 57, 'the': 58, 'quiz.': 59, 'joke.': 60, 'Before': 61, 'cleaning': 62, 'lesson.': 63, 'had': 64, 'know': 65, 'your': 66, 'times.': 67, 'in': 68, 'asked': 69, 'you': 70, 'count': 71, 'leaving': 72, 'meet': 73, 'All': 74, 'say': 75, 'was': 76, 'how': 77, 'questions,': 78, 'last': 79, 'toward': 80, 'and': 81, 'professor.': 82, 'forgotten': 83, '“Absolutely,”': 84, 'until': 85, 'this': 86, 'quiz': 87, 'class': 88, 'learned': 89, '“In': 90, 'dark-haired': 91, '50s,': 92, 'us': 93, '‘hello’.': 94, 'nursing': 95, 'our': 96, 'I': 97, 'seen': 98, 'During': 99, 'conscientious': 100, 'paper,': 101, 'Surely': 102}\n",
            "{0: 'one:', 1: 'several', 2: 'tall,', 3: 'cleans', 4: 'will', 5: 'school,', 6: 'read', 7: 'professor', 8: 'pop', 9: 'also', 10: 'student', 11: 'one', 12: 'significant.', 13: 'She', 14: 'that', 15: 'is', 16: 'name', 17: 'I’ve', 18: 'are', 19: 'but', 20: 'careers', 21: 'Dorothy.', 22: 'gave', 23: 'said', 24: 'all', 25: 'grade.', 26: 'my', 27: 'kind', 28: 'people.', 29: 'through', 30: 'many', 31: 'care,', 32: 'of', 33: 'if', 34: 'school?”', 35: 'would', 36: 'a', 37: 'do', 38: 'second', 39: 'month', 40: 'who', 41: 'attention', 42: 'woman', 43: 'question', 44: 'smile', 45: 'deserve', 46: 'blank.', 47: '“What', 48: 'name?', 49: 'even', 50: 'handed', 51: 'first', 52: 'They', 53: 'ended,', 54: 'never', 55: 'some', 56: 'breezed', 57: 'her', 58: 'the', 59: 'quiz.', 60: 'joke.', 61: 'Before', 62: 'cleaning', 63: 'lesson.', 64: 'had', 65: 'know', 66: 'your', 67: 'times.', 68: 'in', 69: 'asked', 70: 'you', 71: 'count', 72: 'leaving', 73: 'meet', 74: 'All', 75: 'say', 76: 'was', 77: 'how', 78: 'questions,', 79: 'last', 80: 'toward', 81: 'and', 82: 'professor.', 83: 'forgotten', 84: '“Absolutely,”', 85: 'until', 86: 'this', 87: 'quiz', 88: 'class', 89: 'learned', 90: '“In', 91: 'dark-haired', 92: '50s,', 93: 'us', 94: '‘hello’.', 95: 'nursing', 96: 'our', 97: 'I', 98: 'seen', 99: 'During', 100: 'conscientious', 101: 'paper,', 102: 'Surely'}\n"
          ]
        }
      ]
    },
    {
      "cell_type": "code",
      "source": [
        "\"\"\"During my second month of nursing school\"\"\"\n",
        "def CBOW(raw_text, window_size=2):\n",
        "    data = []\n",
        "    for i in range(window_size, len(raw_text) - window_size):\n",
        "        context = [raw_text[i - window_size], raw_text[i - (window_size - 1)], raw_text[i + (window_size - 1)], raw_text[i + window_size]]\n",
        "        \n",
        "        # context = raw_text[i - window_size:i + window_size+1]\n",
        "        # context.remove(raw_text[i])                                        //Alternate Way of finding Context Words\n",
        "        \n",
        "        target = raw_text[i]\n",
        "        data.append((context, target))\n",
        "\n",
        "    return data,target\n",
        "\n",
        "\n",
        "data,target = CBOW(raw_text)\n",
        "data[:10]"
      ],
      "metadata": {
        "colab": {
          "base_uri": "https://localhost:8080/"
        },
        "id": "cGmQwIB9qjWN",
        "outputId": "82ea041a-1d2f-4536-a8fd-12bfa6464913"
      },
      "execution_count": 115,
      "outputs": [
        {
          "output_type": "execute_result",
          "data": {
            "text/plain": [
              "[(['During', 'my', 'month', 'of'], 'second'),\n",
              " (['my', 'second', 'of', 'nursing'], 'month'),\n",
              " (['second', 'month', 'nursing', 'school,'], 'of'),\n",
              " (['month', 'of', 'school,', 'our'], 'nursing'),\n",
              " (['of', 'nursing', 'our', 'professor'], 'school,'),\n",
              " (['nursing', 'school,', 'professor', 'gave'], 'our'),\n",
              " (['school,', 'our', 'gave', 'us'], 'professor'),\n",
              " (['our', 'professor', 'us', 'a'], 'gave'),\n",
              " (['professor', 'gave', 'a', 'pop'], 'us'),\n",
              " (['gave', 'us', 'pop', 'quiz.'], 'a')]"
            ]
          },
          "metadata": {},
          "execution_count": 115
        }
      ]
    },
    {
      "cell_type": "code",
      "source": [
        "def make_context_vector(context, word_to_ix):\n",
        "    idxs = [word_to_ix[w] for w in context]\n",
        "    return torch.tensor(idxs, dtype=torch.long)"
      ],
      "metadata": {
        "id": "IzaND3dVm2qw"
      },
      "execution_count": 116,
      "outputs": []
    },
    {
      "cell_type": "code",
      "source": [
        "class CBOW_Model(torch.nn.Module):\n",
        "    def __init__(self, vocab_size, embedding_dim):\n",
        "        super(CBOW_Model, self).__init__()\n",
        "\n",
        "        #out: 1 x emdedding_dim\n",
        "        self.embeddings = nn.Embedding(vocab_size, embedding_dim)\n",
        "        self.linear1 = nn.Linear(embedding_dim, 128)\n",
        "        self.activation_function1 = nn.ReLU()\n",
        "        \n",
        "        #out: 1 x vocab_size\n",
        "        self.linear2 = nn.Linear(128, vocab_size)\n",
        "        \n",
        "\n",
        "    def forward(self, inputs):\n",
        "        # print(sum(self.embeddings(inputs)).view(1,-1))\n",
        "        embeds = sum(self.embeddings(inputs)).view(1,-1)\n",
        "        out = self.linear1(embeds)\n",
        "        out = self.activation_function1(out)\n",
        "        out = self.linear2(out)\n",
        "        # print(\"Output:\",out)\n",
        "        return out\n",
        "\n",
        "    def get_word_emdedding(self, word):\n",
        "        word = torch.tensor([word_to_ix[word]])\n",
        "        return self.embeddings(word).view(1,-1)"
      ],
      "metadata": {
        "id": "zjEvZC1etOny"
      },
      "execution_count": 117,
      "outputs": []
    },
    {
      "cell_type": "code",
      "source": [
        "model = CBOW_Model(vocab_size, EMDEDDING_DIM)\n",
        "\n",
        "loss_function = nn.CrossEntropyLoss()\n",
        "optimizer = torch.optim.SGD(model.parameters(), lr=0.01)"
      ],
      "metadata": {
        "id": "PRaigtZG0SDT"
      },
      "execution_count": 121,
      "outputs": []
    },
    {
      "cell_type": "code",
      "source": [
        "data[0]"
      ],
      "metadata": {
        "colab": {
          "base_uri": "https://localhost:8080/"
        },
        "id": "SPdMf3mu3DNh",
        "outputId": "056531e9-60c7-4d31-9e16-1c6318048309"
      },
      "execution_count": 122,
      "outputs": [
        {
          "output_type": "execute_result",
          "data": {
            "text/plain": [
              "(['During', 'my', 'month', 'of'], 'second')"
            ]
          },
          "metadata": {},
          "execution_count": 122
        }
      ]
    },
    {
      "cell_type": "code",
      "source": [
        "#TRAINING\n",
        "for epoch in range(50):\n",
        "    total_loss = 0\n",
        "\n",
        "    for context, target in data:\n",
        "        context_vector = make_context_vector(context, word_to_ix)  \n",
        "\n",
        "        log_probs = model(context_vector)\n",
        "\n",
        "        total_loss = loss_function(log_probs, torch.tensor([word_to_ix[target]]))\n",
        "\n",
        "        # break\n",
        "\n",
        "        \n",
        "    if epoch%10==0:\n",
        "          print(\"Epoch {}: {}\".format(epoch,total_loss.data))\n",
        "        \n",
        "    optimizer.zero_grad()\n",
        "    total_loss.backward()\n",
        "    optimizer.step()"
      ],
      "metadata": {
        "colab": {
          "base_uri": "https://localhost:8080/"
        },
        "id": "PTHIvlVN0SG_",
        "outputId": "e2b15cce-df0b-4892-ae6d-83746ac0187a"
      },
      "execution_count": 123,
      "outputs": [
        {
          "output_type": "stream",
          "name": "stdout",
          "text": [
            "Epoch 0: 4.620018005371094\n",
            "Epoch 10: 0.04142076149582863\n",
            "Epoch 20: 0.016332512721419334\n",
            "Epoch 30: 0.009931908920407295\n",
            "Epoch 40: 0.007058446295559406\n"
          ]
        }
      ]
    },
    {
      "cell_type": "code",
      "source": [
        "model.get_word_emdedding(w).detach().data.numpy()"
      ],
      "metadata": {
        "colab": {
          "base_uri": "https://localhost:8080/"
        },
        "id": "j1zzjoFVfHKV",
        "outputId": "3f94ca10-d2e4-448a-81a6-7fe43f0e646e"
      },
      "execution_count": 110,
      "outputs": [
        {
          "output_type": "execute_result",
          "data": {
            "text/plain": [
              "array([[ 0.32481426,  1.7368233 ,  0.5557316 , -0.09604417, -1.4047362 ,\n",
              "         0.43336627,  0.3876153 , -0.54721004,  1.584546  , -0.22949718,\n",
              "         0.2514102 ,  0.03518393,  0.25030094, -0.49547338,  0.4646806 ,\n",
              "         0.5472087 , -0.6846091 ,  0.9927005 ,  0.89857465, -0.03154258,\n",
              "         0.6558785 ,  0.5353775 , -0.41237524, -1.5561064 ,  0.61290056,\n",
              "         0.45877707,  0.81656915,  0.24892516,  0.49070266,  0.7480887 ,\n",
              "        -0.06535771,  0.47390336, -0.06506012,  1.3834188 ,  1.6414442 ,\n",
              "         0.69362825,  0.37348747,  0.54944843,  0.3919227 , -0.72289443,\n",
              "         0.20095667, -0.8303278 , -0.5348444 ,  2.0968328 ,  0.29000926,\n",
              "         1.475185  ,  1.367338  ,  0.57924575, -0.4120703 , -0.12319181,\n",
              "        -0.2454032 ,  0.49739695, -0.83577204, -0.77668965, -0.30059814,\n",
              "         0.15222254,  0.01890369,  0.3013139 ,  1.077748  ,  0.40824825,\n",
              "        -1.3460245 ,  1.1809137 , -0.46178505, -0.36735347, -0.22330528,\n",
              "        -1.478293  ,  0.46027964,  0.7897638 , -0.35750642,  1.0040725 ,\n",
              "        -0.7420074 ,  0.9029808 ,  0.3744202 , -0.44737417,  0.00484153,\n",
              "         0.38332608, -1.41855   , -0.2869955 , -0.573738  ,  0.3751882 ,\n",
              "        -0.15391193,  1.0077151 ,  2.2649162 ,  1.4536961 ,  0.61996543,\n",
              "         1.5184389 , -0.88736206,  0.1586684 , -0.37532118,  0.82941604,\n",
              "        -0.5081775 , -0.30142447, -0.47847018,  0.48194298, -1.5091349 ,\n",
              "        -1.1438037 , -0.07664493,  0.01507367,  0.23209988,  0.78823316]],\n",
              "      dtype=float32)"
            ]
          },
          "metadata": {},
          "execution_count": 110
        }
      ]
    },
    {
      "cell_type": "code",
      "source": [
        "plt.figure(figsize=(15,10))\n",
        "for w in word_list:\n",
        "    x = model.get_word_emdedding(w).detach().data.numpy()[0][0]\n",
        "    y = model.get_word_emdedding(w).detach().data.numpy()[0][1]\n",
        "    # print(x,y)\n",
        "    plt.scatter(x, y)\n",
        "    plt.annotate(w, xy=(x, y), xytext=(5, 2), textcoords='offset points', ha='right', va='bottom')\n",
        "plt.show()"
      ],
      "metadata": {
        "colab": {
          "base_uri": "https://localhost:8080/",
          "height": 592
        },
        "id": "I7LQByAJ0SKh",
        "outputId": "8e308b83-0a15-4bb5-b49b-0270110c9a88"
      },
      "execution_count": 105,
      "outputs": [
        {
          "output_type": "display_data",
          "data": {
            "text/plain": [
              "<Figure size 1080x720 with 1 Axes>"
            ],
            "image/png": "[encoded data removed]"
          },
          "metadata": {
            "needs_background": "light"
          }
        }
      ]
    },
    {
      "cell_type": "code",
      "source": [
        "data[0]"
      ],
      "metadata": {
        "colab": {
          "base_uri": "https://localhost:8080/"
        },
        "id": "XE7PYkpwrD6Y",
        "outputId": "cd3a2ba5-629a-4a8f-c654-7d132995b79b"
      },
      "execution_count": 144,
      "outputs": [
        {
          "output_type": "execute_result",
          "data": {
            "text/plain": [
              "(['During', 'my', 'month', 'of'], 'second')"
            ]
          },
          "metadata": {},
          "execution_count": 144
        }
      ]
    },
    {
      "cell_type": "code",
      "metadata": {
        "id": "9PcnGi4OWFmo"
      },
      "source": [
        "def CBOW_test(test_data, model):\n",
        "    correct_ct = 0\n",
        "\n",
        "    for context, target in data:\n",
        "        context_vector = make_context_vector(context, word_to_ix)  \n",
        "        model.zero_grad()\n",
        "        predicted = torch.argmax(model(context_vector), 1)\n",
        "        # print(model(context_vector),predicted)\n",
        "        if predicted[0] == torch.tensor([word_to_ix[target]]):\n",
        "                correct_ct += 1\n",
        "        \n",
        "    print('Accuracy: {:.1f}% ({:d}/{:d})'.format(correct_ct/len(test_data)*100, correct_ct, len(test_data)))"
      ],
      "execution_count": 168,
      "outputs": []
    },
    {
      "cell_type": "code",
      "metadata": {
        "colab": {
          "base_uri": "https://localhost:8080/"
        },
        "id": "rjhk0OK-WN7J",
        "outputId": "c60a4ad5-4d41-41a2-ad4a-c0d85a08afaf"
      },
      "source": [
        "CBOW_test(data, model)"
      ],
      "execution_count": 169,
      "outputs": [
        {
          "output_type": "stream",
          "name": "stdout",
          "text": [
            "Accuracy: 2.2% (3/138)\n"
          ]
        }
      ]
    },
    {
      "cell_type": "code",
      "metadata": {
        "id": "2TLJir1cT_Il",
        "colab": {
          "base_uri": "https://localhost:8080/"
        },
        "outputId": "70b859b9-1b7e-459d-eb08-7f524dd1e69d"
      },
      "source": [
        "#TESTING\n",
        "context = ['I’ve', 'never', 'that', 'lesson.']\n",
        "context_vector = make_context_vector(context, word_to_ix)\n",
        "a = model(context_vector)"
      ],
      "execution_count": 207,
      "outputs": [
        {
          "output_type": "stream",
          "name": "stdout",
          "text": [
            "Surely\n"
          ]
        }
      ]
    },
    {
      "cell_type": "code",
      "source": [
        "print(torch.argmax(a[0]))"
      ],
      "metadata": {
        "colab": {
          "base_uri": "https://localhost:8080/"
        },
        "id": "18ZO4XxTwv8D",
        "outputId": "3de0257f-4785-4a9e-e9fc-25009517364d"
      },
      "execution_count": 199,
      "outputs": [
        {
          "output_type": "stream",
          "name": "stdout",
          "text": [
            "tensor(62)\n"
          ]
        }
      ]
    },
    {
      "cell_type": "code",
      "metadata": {
        "colab": {
          "base_uri": "https://localhost:8080/"
        },
        "id": "V7c2lYQyUBKt",
        "outputId": "e35b92e7-3d9b-4149-b9a7-e21cefedda91"
      },
      "source": [
        "#Print result\n",
        "print(f'Raw text: {\" \".join(raw_text)}\\n')\n",
        "print(f'Context: {context}\\n')\n",
        "print(f'Prediction: {ix_to_word[torch.argmax(a[0]).item()]}')"
      ],
      "execution_count": 198,
      "outputs": [
        {
          "output_type": "stream",
          "name": "stdout",
          "text": [
            "Raw text: During my second month of nursing school, our professor gave us a pop quiz. I was a conscientious student and had breezed through the questions, until I read the last one: “What is the first name of the woman who cleans the school?” Surely this was some kind of joke. I had seen the cleaning woman several times. She was tall, dark-haired and in her 50s, but how would I know her name? I handed in my paper, leaving the last question blank. Before class ended, one student asked if the last question would count toward our quiz grade. “Absolutely,” said the professor. “In your careers you will meet many people. All are significant. They deserve your attention and care, even if all you do is smile and say ‘hello’. I’ve never forgotten that lesson. I also learned her name was Dorothy.\n",
            "\n",
            "Context: ['I’ve', 'never', 'that', 'lesson.']\n",
            "\n",
            "Prediction: cleaning\n"
          ]
        }
      ]
    },
    {
      "cell_type": "code",
      "source": [
        ""
      ],
      "metadata": {
        "id": "tQnlFz3iwtAU"
      },
      "execution_count": null,
      "outputs": []
    }
  ]
}