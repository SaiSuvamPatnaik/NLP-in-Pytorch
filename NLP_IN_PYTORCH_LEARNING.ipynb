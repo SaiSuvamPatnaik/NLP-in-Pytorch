{
  "nbformat": 4,
  "nbformat_minor": 0,
  "metadata": {
    "colab": {
      "name": "NLP IN PYTORCH LEARNING.ipynb",
      "provenance": [],
      "collapsed_sections": [
        "D286sK1Mzxhk",
        "Jz6UmHN5Y51q",
        "LNFCHrSEjjOj",
        "10sjiIohbmob",
        "BLJvnNutcDEp",
        "-eScJfk-VYpW",
        "uOD5ZCMMBnHP"
      ],
      "authorship_tag": "ABX9TyP/IGqnk10UTC26LkS0cQj+",
      "include_colab_link": true
    },
    "kernelspec": {
      "name": "python3",
      "display_name": "Python 3"
    },
    "language_info": {
      "name": "python"
    }
  },
  "cells": [
    {
      "cell_type": "markdown",
      "metadata": {
        "id": "view-in-github",
        "colab_type": "text"
      },
      "source": [
        "<a href=\"https://colab.research.google.com/github/SaiSuvamPatnaik/NLP-in-Pytorch/blob/main/NLP_IN_PYTORCH_LEARNING.ipynb\" target=\"_parent\"><img src=\"https://colab.research.google.com/assets/colab-badge.svg\" alt=\"Open In Colab\"/></a>"
      ]
    },
    {
      "cell_type": "code",
      "source": [
        "import warnings\n",
        "warnings.filterwarnings(\"ignore\", category=DeprecationWarning)"
      ],
      "metadata": {
        "id": "fXnkbKJHpsii"
      },
      "execution_count": 384,
      "outputs": []
    },
    {
      "cell_type": "markdown",
      "source": [
        "### Creating Custom Embedding layer"
      ],
      "metadata": {
        "id": "D286sK1Mzxhk"
      }
    },
    {
      "cell_type": "code",
      "execution_count": 44,
      "metadata": {
        "id": "mW62BhFHzBz5"
      },
      "outputs": [],
      "source": [
        "import torch\n",
        "from torch.autograd import Variable\n",
        "import torch.nn as nn\n",
        "import torch.nn.functional as F\n",
        "import pandas as pd"
      ]
    },
    {
      "cell_type": "code",
      "source": [
        "str1 = \"I am Sai Suvam\"\n",
        "idx = {\"I\":0,\"am\":1,\"Sai\":2,\"Suvam\":3}\n",
        "words = str1.split()\n",
        "res = [idx[i] for i in words]\n",
        "print(res)"
      ],
      "metadata": {
        "id": "dBiWjtUU08co",
        "colab": {
          "base_uri": "https://localhost:8080/"
        },
        "outputId": "5d4c9f82-92b6-4d3e-cd13-55971405dd62"
      },
      "execution_count": 57,
      "outputs": [
        {
          "output_type": "stream",
          "name": "stdout",
          "text": [
            "[0, 1, 2, 3]\n"
          ]
        }
      ]
    },
    {
      "cell_type": "code",
      "source": [
        "emb = nn.Embedding(4,5)"
      ],
      "metadata": {
        "id": "cgY7bcoZGGns"
      },
      "execution_count": 58,
      "outputs": []
    },
    {
      "cell_type": "code",
      "source": [
        "emb"
      ],
      "metadata": {
        "colab": {
          "base_uri": "https://localhost:8080/"
        },
        "id": "GGLDKn2SHlDd",
        "outputId": "20b598bc-1a88-476e-8c9b-3d9382563d34"
      },
      "execution_count": 59,
      "outputs": [
        {
          "output_type": "execute_result",
          "data": {
            "text/plain": [
              "Embedding(4, 5)"
            ]
          },
          "metadata": {},
          "execution_count": 59
        }
      ]
    },
    {
      "cell_type": "code",
      "source": [
        "res1 = torch.tensor(res,dtype=torch.int)\n",
        "print(emb(res1))"
      ],
      "metadata": {
        "colab": {
          "base_uri": "https://localhost:8080/"
        },
        "id": "eWtxvO2BGlFh",
        "outputId": "d0e8dc64-b594-47fb-e370-782e6d150891"
      },
      "execution_count": 60,
      "outputs": [
        {
          "output_type": "stream",
          "name": "stdout",
          "text": [
            "tensor([[ 0.3487,  0.3503,  0.6800,  1.2191,  0.7396],\n",
            "        [-0.2765,  0.3094,  0.0553,  0.3246,  0.7265],\n",
            "        [ 1.2239,  0.1168,  1.3115,  0.1312,  0.8654],\n",
            "        [-0.4217, -1.0807, -0.4846,  0.8160, -2.6856]],\n",
            "       grad_fn=<EmbeddingBackward0>)\n"
          ]
        }
      ]
    },
    {
      "cell_type": "code",
      "source": [
        "print(sum(emb(res1)))"
      ],
      "metadata": {
        "colab": {
          "base_uri": "https://localhost:8080/"
        },
        "id": "O-DkRp78aPSX",
        "outputId": "c0b2ecd0-e97a-4800-a3a8-575b11b482cf"
      },
      "execution_count": 5,
      "outputs": [
        {
          "output_type": "stream",
          "name": "stdout",
          "text": [
            "tensor([ 0.0508, -3.5675, -2.2428, -0.1327, -2.1687], grad_fn=<AddBackward0>)\n"
          ]
        }
      ]
    },
    {
      "cell_type": "markdown",
      "source": [
        "### Using pre trained word2vec from gensim library"
      ],
      "metadata": {
        "id": "zoFU5hwJz2Vm"
      }
    },
    {
      "cell_type": "code",
      "source": [
        "import gensim\n",
        "from gensim.models import Word2Vec\n",
        "from nltk import tokenize\n",
        "sen = \"\"\"A recurrent neural network (RNN) is a class of artificial neural networks where connections between nodes form a directed or undirected graph along a temporal sequence. This allows it to exhibit temporal dynamic behavior. Derived from feedforward neural networks,RNNs can use their internal state (memory) to process variable length sequences of inputs.\"\"\"\n",
        "\n",
        "sen = tokenize.sent_tokenize(sen)\n",
        "l2 = []\n",
        "for i in sen:\n",
        "  l1 = []\n",
        "  for j in i.split():\n",
        "    l1.append(j)\n",
        "  l2.append(l1)"
      ],
      "metadata": {
        "id": "YuoJ52sroN2a"
      },
      "execution_count": 385,
      "outputs": []
    },
    {
      "cell_type": "code",
      "source": [
        "print(words)"
      ],
      "metadata": {
        "colab": {
          "base_uri": "https://localhost:8080/"
        },
        "id": "_eE8QUNbox_R",
        "outputId": "d87790d5-c596-4a82-86ef-14d3a78c5159"
      },
      "execution_count": 386,
      "outputs": [
        {
          "output_type": "stream",
          "name": "stdout",
          "text": [
            "['A', 'recurrent', 'neural', 'network', '(RNN)', 'is', 'a', 'class', 'of', 'artificial', 'networks', 'where', 'connections', 'between', 'nodes', 'form', 'directed', 'or', 'undirected', 'graph', 'along', 'temporal', 'sequence.', 'This', 'allows', 'it', 'to', 'exhibit', 'dynamic', 'behavior.', 'Derived', 'from', 'feedforward', 'networks,RNNs', 'can', 'use', 'their', 'internal', 'state', '(memory)', 'process', 'variable', 'length', 'sequences', 'inputs.']\n"
          ]
        }
      ]
    },
    {
      "cell_type": "code",
      "source": [
        "model = Word2Vec(l2, min_count=1, window=1,size=100,sg=1)\n",
        "words = list(model.wv.vocab)\n",
        "a = model.similar_by_vector(model[\"artificial\"])\n",
        "# print(model[\"artificial\"])\n",
        "print(model.wv.vector_size)"
      ],
      "metadata": {
        "colab": {
          "base_uri": "https://localhost:8080/"
        },
        "outputId": "9ecbab80-8086-4004-be1d-5a6d367f33c7",
        "id": "wRw27YgDoN2k"
      },
      "execution_count": 387,
      "outputs": [
        {
          "output_type": "stream",
          "name": "stdout",
          "text": [
            "100\n"
          ]
        }
      ]
    },
    {
      "cell_type": "code",
      "source": [
        "print(type(model[\"artificial\"]))"
      ],
      "metadata": {
        "colab": {
          "base_uri": "https://localhost:8080/"
        },
        "id": "UKYL0HLhoXAE",
        "outputId": "692d1a85-f4e0-41df-c21c-b0ffe0848b88"
      },
      "execution_count": 388,
      "outputs": [
        {
          "output_type": "stream",
          "name": "stdout",
          "text": [
            "<class 'numpy.ndarray'>\n"
          ]
        }
      ]
    },
    {
      "cell_type": "markdown",
      "source": [
        "### Load External Vocabulary and analyse using Gensim"
      ],
      "metadata": {
        "id": "vw2w52fZaiqj"
      }
    },
    {
      "cell_type": "code",
      "source": [
        "import gensim.downloader as api\n",
        "from gensim.model import KeyedVectors\n"
      ],
      "metadata": {
        "id": "IoFBs0JtqXWY"
      },
      "execution_count": null,
      "outputs": []
    },
    {
      "cell_type": "code",
      "source": [
        "mod = api.load(\"glove-wiki-gigaword-100\")"
      ],
      "metadata": {
        "colab": {
          "base_uri": "https://localhost:8080/"
        },
        "id": "CoW2f3w8qXaY",
        "outputId": "1c4d0e3c-f340-4364-9396-e9c46fb007c9"
      },
      "execution_count": null,
      "outputs": [
        {
          "output_type": "stream",
          "name": "stdout",
          "text": [
            "[==================================================] 100.0% 128.1/128.1MB downloaded\n"
          ]
        }
      ]
    },
    {
      "cell_type": "code",
      "source": [
        "mod.most_similar(positive=[\"king\",\"women\"],negative=[\"men\"])"
      ],
      "metadata": {
        "colab": {
          "base_uri": "https://localhost:8080/"
        },
        "id": "EYkcviFTrZg4",
        "outputId": "f61c0dbf-4aad-472e-8b8b-63d4e28b5a33"
      },
      "execution_count": null,
      "outputs": [
        {
          "output_type": "execute_result",
          "data": {
            "text/plain": [
              "[('queen', 0.74156653881073),\n",
              " ('monarch', 0.7021745443344116),\n",
              " ('prince', 0.6327081918716431),\n",
              " ('kingdom', 0.6294623613357544),\n",
              " ('elizabeth', 0.6115030646324158),\n",
              " ('throne', 0.6069279909133911),\n",
              " ('emperor', 0.5794594287872314),\n",
              " ('father', 0.567244291305542),\n",
              " ('son', 0.5642266273498535),\n",
              " ('margaret', 0.5641614198684692)]"
            ]
          },
          "metadata": {},
          "execution_count": 15
        }
      ]
    },
    {
      "cell_type": "code",
      "source": [
        "mod.vectors[0].shape"
      ],
      "metadata": {
        "colab": {
          "base_uri": "https://localhost:8080/"
        },
        "id": "ZOHMT7g7rtiS",
        "outputId": "a7a81c2c-b305-46db-8e54-f721aee6672d"
      },
      "execution_count": null,
      "outputs": [
        {
          "output_type": "execute_result",
          "data": {
            "text/plain": [
              "(100,)"
            ]
          },
          "metadata": {},
          "execution_count": 14
        }
      ]
    },
    {
      "cell_type": "code",
      "source": [
        ""
      ],
      "metadata": {
        "id": "7H5pxVT9W-Hi"
      },
      "execution_count": null,
      "outputs": []
    },
    {
      "cell_type": "markdown",
      "source": [
        "### PreProcessing in NLP (Tensorflow Trial)"
      ],
      "metadata": {
        "id": "Jz6UmHN5Y51q"
      }
    },
    {
      "cell_type": "code",
      "source": [
        "import tensorflow as tf\n",
        "from tensorflow.keras.preprocessing.text import Tokenizer\n",
        "from tensorflow.keras.preprocessing.sequence import pad_sequences\n",
        "\n",
        "sentences = [\"I want to go out.\",\n",
        "             \" I like to play.\",\n",
        "             \" No eating - \",\n",
        "             \"No play!\",\n",
        "            ]\n",
        "tokenizer = Tokenizer(num_words=100, lower= 1, oov_token=\"<OOV>\")\n",
        "\n",
        "# tokenizer = Tokenizer(num_words=100, lower= 1)\n",
        "\n",
        "tokenizer.fit_on_texts(sentences)\n",
        "word_index = tokenizer.word_index\n",
        "print(word_index)"
      ],
      "metadata": {
        "id": "hL4T_pNpXbjx",
        "colab": {
          "base_uri": "https://localhost:8080/"
        },
        "outputId": "1abeab29-9504-4e3c-8e69-106e13d40c8a"
      },
      "execution_count": null,
      "outputs": [
        {
          "output_type": "stream",
          "name": "stdout",
          "text": [
            "{'i': 1, 'to': 2, 'play': 3, 'no': 4, 'want': 5, 'go': 6, 'out': 7, 'like': 8, 'eating': 9}\n"
          ]
        }
      ]
    },
    {
      "cell_type": "code",
      "source": [
        "sequences = tokenizer.texts_to_sequences(sentences)\n",
        "print(sentences)\n",
        "print(word_index)\n",
        "print(sequences)"
      ],
      "metadata": {
        "colab": {
          "base_uri": "https://localhost:8080/"
        },
        "id": "_GLqJW6pZakJ",
        "outputId": "467aa3b4-1b6d-4407-de38-901b849a9861"
      },
      "execution_count": null,
      "outputs": [
        {
          "output_type": "stream",
          "name": "stdout",
          "text": [
            "['I want to go out.', ' I like to play.', ' No eating - ', 'No play!']\n",
            "{'i': 1, 'to': 2, 'play': 3, 'no': 4, 'want': 5, 'go': 6, 'out': 7, 'like': 8, 'eating': 9}\n",
            "[[1, 5, 2, 6, 7], [1, 8, 2, 3], [4, 9], [4, 3]]\n"
          ]
        }
      ]
    },
    {
      "cell_type": "code",
      "source": [
        "pre_pad = pad_sequences(sequences, padding='pre')\n",
        "print(\"\\nword_index = \", word_index)\n",
        "print(\"\\nsequences = \", sequences)\n",
        "print(\"\\npadded_seq = \" )\n",
        "print(pre_pad)"
      ],
      "metadata": {
        "colab": {
          "base_uri": "https://localhost:8080/"
        },
        "id": "IRbU00mqbnGc",
        "outputId": "fc6c8cc1-9ee2-475b-bbdb-19977cbce884"
      },
      "execution_count": null,
      "outputs": [
        {
          "output_type": "stream",
          "name": "stdout",
          "text": [
            "\n",
            "word_index =  {'i': 1, 'to': 2, 'play': 3, 'no': 4, 'want': 5, 'go': 6, 'out': 7, 'like': 8, 'eating': 9}\n",
            "\n",
            "sequences =  [[1, 5, 2, 6, 7], [1, 8, 2, 3], [4, 9], [4, 3]]\n",
            "\n",
            "padded_seq = \n",
            "[[1 5 2 6 7]\n",
            " [1 8 2 3 0]\n",
            " [4 9 0 0 0]\n",
            " [4 3 0 0 0]]\n"
          ]
        }
      ]
    },
    {
      "cell_type": "code",
      "source": [
        "prepad_maxlen_pretrunc = pad_sequences(sequences, padding =\"pre\", maxlen =4, truncating =\"pre\")\n",
        "print(prepad_maxlen_pretrunc)"
      ],
      "metadata": {
        "colab": {
          "base_uri": "https://localhost:8080/"
        },
        "id": "mZ-eJnykbnx_",
        "outputId": "6817a812-64fc-446a-f261-39c09c83c9f9"
      },
      "execution_count": null,
      "outputs": [
        {
          "output_type": "stream",
          "name": "stdout",
          "text": [
            "[[5 2 6 7]\n",
            " [1 8 2 3]\n",
            " [0 0 4 9]\n",
            " [0 0 4 3]]\n"
          ]
        }
      ]
    },
    {
      "cell_type": "code",
      "source": [
        ""
      ],
      "metadata": {
        "id": "_dnmU8nQb_3a"
      },
      "execution_count": null,
      "outputs": []
    },
    {
      "cell_type": "markdown",
      "source": [
        "### Creating Custom Vocabulary"
      ],
      "metadata": {
        "id": "LNFCHrSEjjOj"
      }
    },
    {
      "cell_type": "code",
      "source": [
        "class Vocabulary:\n",
        "    def __init__(self, name):\n",
        "        self.name = name\n",
        "        self.PAD_token = 0   # Used for padding short sentences\n",
        "        self.SOS_token = 1   # Start-of-sentence token\n",
        "        self.EOS_token = 2   # End-of-sentence token\n",
        "        self.word2index = {}\n",
        "        self.word2count = {}\n",
        "        self.index2word = {self.PAD_token: \"PAD\", self.SOS_token: \"SOS\", self.EOS_token: \"EOS\"}\n",
        "        self.num_words = 3\n",
        "        self.num_sentences = 0\n",
        "        self.longest_sentence = 0\n",
        "\n",
        "    def add_word(self, word):\n",
        "        if word not in self.word2index:\n",
        "            # First entry of word into vocabulary\n",
        "            self.word2index[word] = self.num_words\n",
        "            self.word2count[word] = 1\n",
        "            self.index2word[self.num_words] = word\n",
        "            self.num_words += 1\n",
        "        else:\n",
        "            # Word exists; increase word count\n",
        "            self.word2count[word] += 1\n",
        "            \n",
        "    def add_sentence(self, sentence):\n",
        "        sentence_len = 0\n",
        "        for word in sentence.split(' '):\n",
        "            sentence_len += 1\n",
        "            self.add_word(word)\n",
        "        if sentence_len > self.longest_sentence:\n",
        "            # This is the longest sentence\n",
        "            self.longest_sentence = sentence_len\n",
        "        # Count the number of sentences\n",
        "        self.num_sentences += 1\n",
        "\n",
        "    def to_word(self, index):\n",
        "        return self.index2word[index]\n",
        "\n",
        "    def to_index(self, word):\n",
        "        return self.word2index[word]"
      ],
      "metadata": {
        "id": "n0_nWF9xc5Ez"
      },
      "execution_count": null,
      "outputs": []
    },
    {
      "cell_type": "code",
      "source": [
        "voc = Vocabulary('test')\n",
        "print(voc)"
      ],
      "metadata": {
        "colab": {
          "base_uri": "https://localhost:8080/"
        },
        "id": "rnQukEXZf9st",
        "outputId": "e99a5d7f-549b-4bff-d099-630d5c5f9103"
      },
      "execution_count": null,
      "outputs": [
        {
          "output_type": "stream",
          "name": "stdout",
          "text": [
            "<__main__.Vocabulary object at 0x7f01d2bb3d10>\n"
          ]
        }
      ]
    },
    {
      "cell_type": "code",
      "source": [
        "corpus = [\"I want to go out.\",\n",
        "             \" I like to play.\",\n",
        "             \" No eating - \",\n",
        "             \"No play!\",\n",
        "            ]\n",
        "\n",
        "\n",
        "print(corpus)"
      ],
      "metadata": {
        "colab": {
          "base_uri": "https://localhost:8080/"
        },
        "id": "-H2g8cGUgEf5",
        "outputId": "07f0f362-f4f8-49d6-ae88-0929ff56b40e"
      },
      "execution_count": null,
      "outputs": [
        {
          "output_type": "stream",
          "name": "stdout",
          "text": [
            "['I want to go out.', ' I like to play.', ' No eating - ', 'No play!']\n"
          ]
        }
      ]
    },
    {
      "cell_type": "code",
      "source": [
        "for sent in corpus:\n",
        "  voc.add_sentence(sent)\n",
        "print(voc.word2index)"
      ],
      "metadata": {
        "colab": {
          "base_uri": "https://localhost:8080/"
        },
        "id": "oEZUd2vrgmWv",
        "outputId": "07303c7b-4f15-4f8b-c4bf-a983a009c06c"
      },
      "execution_count": null,
      "outputs": [
        {
          "output_type": "stream",
          "name": "stdout",
          "text": [
            "{'I': 3, 'want': 4, 'to': 5, 'go': 6, 'out.': 7, '': 8, 'like': 9, 'play.': 10, 'No': 11, 'eating': 12, '-': 13, 'play!': 14}\n"
          ]
        }
      ]
    },
    {
      "cell_type": "code",
      "source": [
        "print('Token 4 corresponds to token:', voc.to_word(4))\n",
        "print('Token \"go\" corresponds to index:', voc.to_index('go'))"
      ],
      "metadata": {
        "colab": {
          "base_uri": "https://localhost:8080/"
        },
        "id": "zw38PySMgma1",
        "outputId": "2a05ec03-0782-4941-c153-af4efaefce37"
      },
      "execution_count": null,
      "outputs": [
        {
          "output_type": "stream",
          "name": "stdout",
          "text": [
            "Token 4 corresponds to token: want\n",
            "Token \"go\" corresponds to index: 6\n"
          ]
        }
      ]
    },
    {
      "cell_type": "code",
      "source": [
        "sen = \"\"\n",
        "for word in range(voc.num_words):\n",
        "    print(voc.to_word(word),end=\", \")"
      ],
      "metadata": {
        "colab": {
          "base_uri": "https://localhost:8080/"
        },
        "id": "_ePo2jcMgmdf",
        "outputId": "2d015f59-5917-4c59-f1e0-f79a5c7b75a6"
      },
      "execution_count": null,
      "outputs": [
        {
          "output_type": "stream",
          "name": "stdout",
          "text": [
            "PAD, SOS, EOS, I, want, to, go, out., , like, play., No, eating, -, play!, "
          ]
        }
      ]
    },
    {
      "cell_type": "code",
      "source": [
        "sent_tkns = []\n",
        "sent_idxs = []\n",
        "for word in corpus[3].split(' '):\n",
        "  sent_tkns.append(word)\n",
        "  sent_idxs.append(voc.to_index(word))\n",
        "print(sent_tkns)\n",
        "print(sent_idxs)"
      ],
      "metadata": {
        "colab": {
          "base_uri": "https://localhost:8080/"
        },
        "id": "QJ41scvBgwYE",
        "outputId": "2191dae1-9629-4587-8e0b-d93bf8ccac8f"
      },
      "execution_count": null,
      "outputs": [
        {
          "output_type": "stream",
          "name": "stdout",
          "text": [
            "['No', 'play!']\n",
            "[11, 14]\n"
          ]
        }
      ]
    },
    {
      "cell_type": "code",
      "source": [
        ""
      ],
      "metadata": {
        "id": "i01My2nYDGN0"
      },
      "execution_count": null,
      "outputs": []
    },
    {
      "cell_type": "markdown",
      "source": [
        "### One Hot Encoding Using CountVectorizer Class from Scikit Learn"
      ],
      "metadata": {
        "id": "10sjiIohbmob"
      }
    },
    {
      "cell_type": "code",
      "source": [
        "documents = [\"I like this movie, it's funny.\", 'I hate this movie.', 'This was awesome! I like it.', 'Nice one. I love it.']"
      ],
      "metadata": {
        "id": "5tQOFMbGDGXS"
      },
      "execution_count": null,
      "outputs": []
    },
    {
      "cell_type": "code",
      "source": [
        "from sklearn.feature_extraction.text import CountVectorizer\n",
        "import pandas as pd\n",
        "\n",
        "# Step 2. Design the Vocabulary\n",
        "# The default token pattern removes tokens of a single character. That's why we don't have the \"I\" and \"s\" tokens in the output\n",
        "count_vectorizer = CountVectorizer()\n",
        "\n",
        "# Step 3. Create the Bag-of-Words Model\n",
        "bag_of_words = count_vectorizer.fit_transform(documents)\n",
        "\n",
        "# Show the Bag-of-Words Model as a pandas DataFrame\n",
        "feature_names = count_vectorizer.get_feature_names()\n",
        "pd.DataFrame(bag_of_words.toarray(), columns = feature_names)"
      ],
      "metadata": {
        "colab": {
          "base_uri": "https://localhost:8080/",
          "height": 230
        },
        "id": "uh7YGBLmDIT8",
        "outputId": "895dc124-db5f-48f3-c529-57c7f564f2c9"
      },
      "execution_count": null,
      "outputs": [
        {
          "output_type": "stream",
          "name": "stderr",
          "text": [
            "/usr/local/lib/python3.7/dist-packages/sklearn/utils/deprecation.py:87: FutureWarning: Function get_feature_names is deprecated; get_feature_names is deprecated in 1.0 and will be removed in 1.2. Please use get_feature_names_out instead.\n",
            "  warnings.warn(msg, category=FutureWarning)\n"
          ]
        },
        {
          "output_type": "execute_result",
          "data": {
            "text/plain": [
              "   awesome  funny  hate  like  love  movie  nice\n",
              "0        0      1     0     1     0      1     0\n",
              "1        0      0     1     0     0      1     0\n",
              "2        1      0     0     1     0      0     0\n",
              "3        0      0     0     0     1      0     1"
            ],
            "text/html": [
              "\n",
              "  <div id=\"df-b93a149d-a1af-4579-a4cf-d5de822e738f\">\n",
              "    <div class=\"colab-df-container\">\n",
              "      <div>\n",
              "<style scoped>\n",
              "    .dataframe tbody tr th:only-of-type {\n",
              "        vertical-align: middle;\n",
              "    }\n",
              "\n",
              "    .dataframe tbody tr th {\n",
              "        vertical-align: top;\n",
              "    }\n",
              "\n",
              "    .dataframe thead th {\n",
              "        text-align: right;\n",
              "    }\n",
              "</style>\n",
              "<table border=\"1\" class=\"dataframe\">\n",
              "  <thead>\n",
              "    <tr style=\"text-align: right;\">\n",
              "      <th></th>\n",
              "      <th>awesome</th>\n",
              "      <th>funny</th>\n",
              "      <th>hate</th>\n",
              "      <th>like</th>\n",
              "      <th>love</th>\n",
              "      <th>movie</th>\n",
              "      <th>nice</th>\n",
              "    </tr>\n",
              "  </thead>\n",
              "  <tbody>\n",
              "    <tr>\n",
              "      <th>0</th>\n",
              "      <td>0</td>\n",
              "      <td>1</td>\n",
              "      <td>0</td>\n",
              "      <td>1</td>\n",
              "      <td>0</td>\n",
              "      <td>1</td>\n",
              "      <td>0</td>\n",
              "    </tr>\n",
              "    <tr>\n",
              "      <th>1</th>\n",
              "      <td>0</td>\n",
              "      <td>0</td>\n",
              "      <td>1</td>\n",
              "      <td>0</td>\n",
              "      <td>0</td>\n",
              "      <td>1</td>\n",
              "      <td>0</td>\n",
              "    </tr>\n",
              "    <tr>\n",
              "      <th>2</th>\n",
              "      <td>1</td>\n",
              "      <td>0</td>\n",
              "      <td>0</td>\n",
              "      <td>1</td>\n",
              "      <td>0</td>\n",
              "      <td>0</td>\n",
              "      <td>0</td>\n",
              "    </tr>\n",
              "    <tr>\n",
              "      <th>3</th>\n",
              "      <td>0</td>\n",
              "      <td>0</td>\n",
              "      <td>0</td>\n",
              "      <td>0</td>\n",
              "      <td>1</td>\n",
              "      <td>0</td>\n",
              "      <td>1</td>\n",
              "    </tr>\n",
              "  </tbody>\n",
              "</table>\n",
              "</div>\n",
              "      <button class=\"colab-df-convert\" onclick=\"convertToInteractive('df-b93a149d-a1af-4579-a4cf-d5de822e738f')\"\n",
              "              title=\"Convert this dataframe to an interactive table.\"\n",
              "              style=\"display:none;\">\n",
              "        \n",
              "  <svg xmlns=\"http://www.w3.org/2000/svg\" height=\"24px\"viewBox=\"0 0 24 24\"\n",
              "       width=\"24px\">\n",
              "    <path d=\"M0 0h24v24H0V0z\" fill=\"none\"/>\n",
              "    <path d=\"M18.56 5.44l.94 2.06.94-2.06 2.06-.94-2.06-.94-.94-2.06-.94 2.06-2.06.94zm-11 1L8.5 8.5l.94-2.06 2.06-.94-2.06-.94L8.5 2.5l-.94 2.06-2.06.94zm10 10l.94 2.06.94-2.06 2.06-.94-2.06-.94-.94-2.06-.94 2.06-2.06.94z\"/><path d=\"M17.41 7.96l-1.37-1.37c-.4-.4-.92-.59-1.43-.59-.52 0-1.04.2-1.43.59L10.3 9.45l-7.72 7.72c-.78.78-.78 2.05 0 2.83L4 21.41c.39.39.9.59 1.41.59.51 0 1.02-.2 1.41-.59l7.78-7.78 2.81-2.81c.8-.78.8-2.07 0-2.86zM5.41 20L4 18.59l7.72-7.72 1.47 1.35L5.41 20z\"/>\n",
              "  </svg>\n",
              "      </button>\n",
              "      \n",
              "  <style>\n",
              "    .colab-df-container {\n",
              "      display:flex;\n",
              "      flex-wrap:wrap;\n",
              "      gap: 12px;\n",
              "    }\n",
              "\n",
              "    .colab-df-convert {\n",
              "      background-color: #E8F0FE;\n",
              "      border: none;\n",
              "      border-radius: 50%;\n",
              "      cursor: pointer;\n",
              "      display: none;\n",
              "      fill: #1967D2;\n",
              "      height: 32px;\n",
              "      padding: 0 0 0 0;\n",
              "      width: 32px;\n",
              "    }\n",
              "\n",
              "    .colab-df-convert:hover {\n",
              "      background-color: #E2EBFA;\n",
              "      box-shadow: 0px 1px 2px rgba(60, 64, 67, 0.3), 0px 1px 3px 1px rgba(60, 64, 67, 0.15);\n",
              "      fill: #174EA6;\n",
              "    }\n",
              "\n",
              "    [theme=dark] .colab-df-convert {\n",
              "      background-color: #3B4455;\n",
              "      fill: #D2E3FC;\n",
              "    }\n",
              "\n",
              "    [theme=dark] .colab-df-convert:hover {\n",
              "      background-color: #434B5C;\n",
              "      box-shadow: 0px 1px 3px 1px rgba(0, 0, 0, 0.15);\n",
              "      filter: drop-shadow(0px 1px 2px rgba(0, 0, 0, 0.3));\n",
              "      fill: #FFFFFF;\n",
              "    }\n",
              "  </style>\n",
              "\n",
              "      <script>\n",
              "        const buttonEl =\n",
              "          document.querySelector('#df-b93a149d-a1af-4579-a4cf-d5de822e738f button.colab-df-convert');\n",
              "        buttonEl.style.display =\n",
              "          google.colab.kernel.accessAllowed ? 'block' : 'none';\n",
              "\n",
              "        async function convertToInteractive(key) {\n",
              "          const element = document.querySelector('#df-b93a149d-a1af-4579-a4cf-d5de822e738f');\n",
              "          const dataTable =\n",
              "            await google.colab.kernel.invokeFunction('convertToInteractive',\n",
              "                                                     [key], {});\n",
              "          if (!dataTable) return;\n",
              "\n",
              "          const docLinkHtml = 'Like what you see? Visit the ' +\n",
              "            '<a target=\"_blank\" href=https://colab.research.google.com/notebooks/data_table.ipynb>data table notebook</a>'\n",
              "            + ' to learn more about interactive tables.';\n",
              "          element.innerHTML = '';\n",
              "          dataTable['output_type'] = 'display_data';\n",
              "          await google.colab.output.renderOutput(dataTable, element);\n",
              "          const docLink = document.createElement('div');\n",
              "          docLink.innerHTML = docLinkHtml;\n",
              "          element.appendChild(docLink);\n",
              "        }\n",
              "      </script>\n",
              "    </div>\n",
              "  </div>\n",
              "  "
            ]
          },
          "metadata": {},
          "execution_count": 15
        }
      ]
    },
    {
      "cell_type": "code",
      "source": [
        ""
      ],
      "metadata": {
        "id": "DFfWlaRKcChD"
      },
      "execution_count": null,
      "outputs": []
    },
    {
      "cell_type": "markdown",
      "source": [
        "### Using TF-IDF from Scikit Learn"
      ],
      "metadata": {
        "id": "BLJvnNutcDEp"
      }
    },
    {
      "cell_type": "code",
      "source": [
        "from sklearn.feature_extraction.text import TfidfVectorizer\n",
        "import pandas as pd\n",
        "\n",
        "tfidf_vectorizer = TfidfVectorizer()\n",
        "values = tfidf_vectorizer.fit_transform(documents)\n",
        "\n",
        "# Show the Model as a pandas DataFrame\n",
        "feature_names = tfidf_vectorizer.get_feature_names()\n",
        "pd.DataFrame(values.toarray(), columns = feature_names)"
      ],
      "metadata": {
        "colab": {
          "base_uri": "https://localhost:8080/",
          "height": 230
        },
        "id": "yhc0wMiRJsNs",
        "outputId": "6ce4e4ae-aae5-45c4-8719-027edb06ebde"
      },
      "execution_count": null,
      "outputs": [
        {
          "output_type": "stream",
          "name": "stderr",
          "text": [
            "/usr/local/lib/python3.7/dist-packages/sklearn/utils/deprecation.py:87: FutureWarning: Function get_feature_names is deprecated; get_feature_names is deprecated in 1.0 and will be removed in 1.2. Please use get_feature_names_out instead.\n",
            "  warnings.warn(msg, category=FutureWarning)\n"
          ]
        },
        {
          "output_type": "execute_result",
          "data": {
            "text/plain": [
              "    awesome     funny      hate        it      like      love     movie  \\\n",
              "0  0.000000  0.571848  0.000000  0.365003  0.450852  0.000000  0.450852   \n",
              "1  0.000000  0.000000  0.702035  0.000000  0.000000  0.000000  0.553492   \n",
              "2  0.539445  0.000000  0.000000  0.344321  0.425305  0.000000  0.000000   \n",
              "3  0.000000  0.000000  0.000000  0.345783  0.000000  0.541736  0.000000   \n",
              "\n",
              "       nice       one      this       was  \n",
              "0  0.000000  0.000000  0.365003  0.000000  \n",
              "1  0.000000  0.000000  0.448100  0.000000  \n",
              "2  0.000000  0.000000  0.344321  0.539445  \n",
              "3  0.541736  0.541736  0.000000  0.000000  "
            ],
            "text/html": [
              "\n",
              "  <div id=\"df-72531e17-6a1b-4b87-b35c-3c10a0bd67ed\">\n",
              "    <div class=\"colab-df-container\">\n",
              "      <div>\n",
              "<style scoped>\n",
              "    .dataframe tbody tr th:only-of-type {\n",
              "        vertical-align: middle;\n",
              "    }\n",
              "\n",
              "    .dataframe tbody tr th {\n",
              "        vertical-align: top;\n",
              "    }\n",
              "\n",
              "    .dataframe thead th {\n",
              "        text-align: right;\n",
              "    }\n",
              "</style>\n",
              "<table border=\"1\" class=\"dataframe\">\n",
              "  <thead>\n",
              "    <tr style=\"text-align: right;\">\n",
              "      <th></th>\n",
              "      <th>awesome</th>\n",
              "      <th>funny</th>\n",
              "      <th>hate</th>\n",
              "      <th>it</th>\n",
              "      <th>like</th>\n",
              "      <th>love</th>\n",
              "      <th>movie</th>\n",
              "      <th>nice</th>\n",
              "      <th>one</th>\n",
              "      <th>this</th>\n",
              "      <th>was</th>\n",
              "    </tr>\n",
              "  </thead>\n",
              "  <tbody>\n",
              "    <tr>\n",
              "      <th>0</th>\n",
              "      <td>0.000000</td>\n",
              "      <td>0.571848</td>\n",
              "      <td>0.000000</td>\n",
              "      <td>0.365003</td>\n",
              "      <td>0.450852</td>\n",
              "      <td>0.000000</td>\n",
              "      <td>0.450852</td>\n",
              "      <td>0.000000</td>\n",
              "      <td>0.000000</td>\n",
              "      <td>0.365003</td>\n",
              "      <td>0.000000</td>\n",
              "    </tr>\n",
              "    <tr>\n",
              "      <th>1</th>\n",
              "      <td>0.000000</td>\n",
              "      <td>0.000000</td>\n",
              "      <td>0.702035</td>\n",
              "      <td>0.000000</td>\n",
              "      <td>0.000000</td>\n",
              "      <td>0.000000</td>\n",
              "      <td>0.553492</td>\n",
              "      <td>0.000000</td>\n",
              "      <td>0.000000</td>\n",
              "      <td>0.448100</td>\n",
              "      <td>0.000000</td>\n",
              "    </tr>\n",
              "    <tr>\n",
              "      <th>2</th>\n",
              "      <td>0.539445</td>\n",
              "      <td>0.000000</td>\n",
              "      <td>0.000000</td>\n",
              "      <td>0.344321</td>\n",
              "      <td>0.425305</td>\n",
              "      <td>0.000000</td>\n",
              "      <td>0.000000</td>\n",
              "      <td>0.000000</td>\n",
              "      <td>0.000000</td>\n",
              "      <td>0.344321</td>\n",
              "      <td>0.539445</td>\n",
              "    </tr>\n",
              "    <tr>\n",
              "      <th>3</th>\n",
              "      <td>0.000000</td>\n",
              "      <td>0.000000</td>\n",
              "      <td>0.000000</td>\n",
              "      <td>0.345783</td>\n",
              "      <td>0.000000</td>\n",
              "      <td>0.541736</td>\n",
              "      <td>0.000000</td>\n",
              "      <td>0.541736</td>\n",
              "      <td>0.541736</td>\n",
              "      <td>0.000000</td>\n",
              "      <td>0.000000</td>\n",
              "    </tr>\n",
              "  </tbody>\n",
              "</table>\n",
              "</div>\n",
              "      <button class=\"colab-df-convert\" onclick=\"convertToInteractive('df-72531e17-6a1b-4b87-b35c-3c10a0bd67ed')\"\n",
              "              title=\"Convert this dataframe to an interactive table.\"\n",
              "              style=\"display:none;\">\n",
              "        \n",
              "  <svg xmlns=\"http://www.w3.org/2000/svg\" height=\"24px\"viewBox=\"0 0 24 24\"\n",
              "       width=\"24px\">\n",
              "    <path d=\"M0 0h24v24H0V0z\" fill=\"none\"/>\n",
              "    <path d=\"M18.56 5.44l.94 2.06.94-2.06 2.06-.94-2.06-.94-.94-2.06-.94 2.06-2.06.94zm-11 1L8.5 8.5l.94-2.06 2.06-.94-2.06-.94L8.5 2.5l-.94 2.06-2.06.94zm10 10l.94 2.06.94-2.06 2.06-.94-2.06-.94-.94-2.06-.94 2.06-2.06.94z\"/><path d=\"M17.41 7.96l-1.37-1.37c-.4-.4-.92-.59-1.43-.59-.52 0-1.04.2-1.43.59L10.3 9.45l-7.72 7.72c-.78.78-.78 2.05 0 2.83L4 21.41c.39.39.9.59 1.41.59.51 0 1.02-.2 1.41-.59l7.78-7.78 2.81-2.81c.8-.78.8-2.07 0-2.86zM5.41 20L4 18.59l7.72-7.72 1.47 1.35L5.41 20z\"/>\n",
              "  </svg>\n",
              "      </button>\n",
              "      \n",
              "  <style>\n",
              "    .colab-df-container {\n",
              "      display:flex;\n",
              "      flex-wrap:wrap;\n",
              "      gap: 12px;\n",
              "    }\n",
              "\n",
              "    .colab-df-convert {\n",
              "      background-color: #E8F0FE;\n",
              "      border: none;\n",
              "      border-radius: 50%;\n",
              "      cursor: pointer;\n",
              "      display: none;\n",
              "      fill: #1967D2;\n",
              "      height: 32px;\n",
              "      padding: 0 0 0 0;\n",
              "      width: 32px;\n",
              "    }\n",
              "\n",
              "    .colab-df-convert:hover {\n",
              "      background-color: #E2EBFA;\n",
              "      box-shadow: 0px 1px 2px rgba(60, 64, 67, 0.3), 0px 1px 3px 1px rgba(60, 64, 67, 0.15);\n",
              "      fill: #174EA6;\n",
              "    }\n",
              "\n",
              "    [theme=dark] .colab-df-convert {\n",
              "      background-color: #3B4455;\n",
              "      fill: #D2E3FC;\n",
              "    }\n",
              "\n",
              "    [theme=dark] .colab-df-convert:hover {\n",
              "      background-color: #434B5C;\n",
              "      box-shadow: 0px 1px 3px 1px rgba(0, 0, 0, 0.15);\n",
              "      filter: drop-shadow(0px 1px 2px rgba(0, 0, 0, 0.3));\n",
              "      fill: #FFFFFF;\n",
              "    }\n",
              "  </style>\n",
              "\n",
              "      <script>\n",
              "        const buttonEl =\n",
              "          document.querySelector('#df-72531e17-6a1b-4b87-b35c-3c10a0bd67ed button.colab-df-convert');\n",
              "        buttonEl.style.display =\n",
              "          google.colab.kernel.accessAllowed ? 'block' : 'none';\n",
              "\n",
              "        async function convertToInteractive(key) {\n",
              "          const element = document.querySelector('#df-72531e17-6a1b-4b87-b35c-3c10a0bd67ed');\n",
              "          const dataTable =\n",
              "            await google.colab.kernel.invokeFunction('convertToInteractive',\n",
              "                                                     [key], {});\n",
              "          if (!dataTable) return;\n",
              "\n",
              "          const docLinkHtml = 'Like what you see? Visit the ' +\n",
              "            '<a target=\"_blank\" href=https://colab.research.google.com/notebooks/data_table.ipynb>data table notebook</a>'\n",
              "            + ' to learn more about interactive tables.';\n",
              "          element.innerHTML = '';\n",
              "          dataTable['output_type'] = 'display_data';\n",
              "          await google.colab.output.renderOutput(dataTable, element);\n",
              "          const docLink = document.createElement('div');\n",
              "          docLink.innerHTML = docLinkHtml;\n",
              "          element.appendChild(docLink);\n",
              "        }\n",
              "      </script>\n",
              "    </div>\n",
              "  </div>\n",
              "  "
            ]
          },
          "metadata": {},
          "execution_count": 17
        }
      ]
    },
    {
      "cell_type": "markdown",
      "source": [
        "#Vectorization of Text data"
      ],
      "metadata": {
        "id": "FbycGFypaOzU"
      }
    },
    {
      "cell_type": "markdown",
      "source": [
        "### Word2Vec in Pytorch"
      ],
      "metadata": {
        "id": "NNK9ZfTxaG8U"
      }
    },
    {
      "cell_type": "markdown",
      "source": [
        "#### SkipGram in Pytorch Without Neural Network"
      ],
      "metadata": {
        "id": "-eScJfk-VYpW"
      }
    },
    {
      "cell_type": "code",
      "source": [
        "corpus = [\n",
        "    'he is a king',\n",
        "    'she is a queen',\n",
        "    'he is a man',\n",
        "    'she is a woman',\n",
        "    'warsaw is poland capital',\n",
        "    'berlin is germany capital',\n",
        "    'paris is france capital',\n",
        "]"
      ],
      "metadata": {
        "id": "txzu0L1-Vbg9"
      },
      "execution_count": null,
      "outputs": []
    },
    {
      "cell_type": "code",
      "source": [
        "tokenized_corpus = [x.split() for x in corpus]\n",
        "vocabulary = []\n",
        "\n",
        "for sentence in tokenized_corpus:\n",
        "    for token in sentence:\n",
        "        if token not in vocabulary:\n",
        "            vocabulary.append(token)\n",
        "\n",
        "word2idx = {w: idx for (idx, w) in enumerate(vocabulary)}\n",
        "idx2word = {idx: w for (idx, w) in enumerate(vocabulary)}\n",
        "\n",
        "vocabulary_size = len(vocabulary)\n",
        "\n",
        "print(word2idx)\n",
        "print(idx2word)\n",
        "print(vocabulary)"
      ],
      "metadata": {
        "colab": {
          "base_uri": "https://localhost:8080/"
        },
        "id": "nD4aCk9lVfpm",
        "outputId": "6aa2ed2a-6b5f-4bf5-8238-ffd0e31c4dc6"
      },
      "execution_count": null,
      "outputs": [
        {
          "output_type": "stream",
          "name": "stdout",
          "text": [
            "{'he': 0, 'is': 1, 'a': 2, 'king': 3, 'she': 4, 'queen': 5, 'man': 6, 'woman': 7, 'warsaw': 8, 'poland': 9, 'capital': 10, 'berlin': 11, 'germany': 12, 'paris': 13, 'france': 14}\n",
            "{0: 'he', 1: 'is', 2: 'a', 3: 'king', 4: 'she', 5: 'queen', 6: 'man', 7: 'woman', 8: 'warsaw', 9: 'poland', 10: 'capital', 11: 'berlin', 12: 'germany', 13: 'paris', 14: 'france'}\n",
            "['he', 'is', 'a', 'king', 'she', 'queen', 'man', 'woman', 'warsaw', 'poland', 'capital', 'berlin', 'germany', 'paris', 'france']\n"
          ]
        }
      ]
    },
    {
      "cell_type": "code",
      "source": [
        "import numpy as np\n",
        "\n",
        "window_size = 2\n",
        "idx_pairs = []\n",
        "\n",
        "for sentence in tokenized_corpus:                                                         # for each sentence\n",
        "    indices = [word2idx[word] for word in sentence]\n",
        "    for center_word_pos in range(len(indices)):                                           # for each word, threated as center word\n",
        "        for w in range(-window_size, window_size + 1):                                    # for each window position\n",
        "            context_word_pos = center_word_pos + w                                        # make sure not jump out sentence\n",
        "            if context_word_pos < 0 or context_word_pos >= len(indices) or center_word_pos == context_word_pos:\n",
        "                continue\n",
        "            context_word_idx = indices[context_word_pos]\n",
        "            idx_pairs.append((indices[center_word_pos], context_word_idx))\n",
        "    # print(indices)\n",
        "    break\n",
        "\n",
        "idx_pairs = np.array(idx_pairs)                                                           # it will be useful to have this as numpy array\n",
        "print(tokenized_corpus[0])\n",
        "for i in idx_pairs:\n",
        "  print(idx2word[i[0]],idx2word[i[1]])"
      ],
      "metadata": {
        "colab": {
          "base_uri": "https://localhost:8080/"
        },
        "id": "erOA_R59VgkB",
        "outputId": "4b16cf58-100b-4dcd-c080-e893d9ca8b9b"
      },
      "execution_count": null,
      "outputs": [
        {
          "output_type": "stream",
          "name": "stdout",
          "text": [
            "['he', 'is', 'a', 'king']\n",
            "he is\n",
            "he a\n",
            "is he\n",
            "is a\n",
            "is king\n",
            "a he\n",
            "a is\n",
            "a king\n",
            "king is\n",
            "king a\n"
          ]
        }
      ]
    },
    {
      "cell_type": "code",
      "source": [
        "import torch\n",
        "from torch.autograd import Variable\n",
        "import torch.nn.functional as F"
      ],
      "metadata": {
        "id": "N60zfm1vydjU"
      },
      "execution_count": null,
      "outputs": []
    },
    {
      "cell_type": "code",
      "source": [
        "def get_input_layer(word_idx):\n",
        "    x = torch.zeros(vocabulary_size).float()\n",
        "    x[word_idx] = 1.0\n",
        "    return x"
      ],
      "metadata": {
        "id": "5cikmr7uzEZV"
      },
      "execution_count": null,
      "outputs": []
    },
    {
      "cell_type": "code",
      "source": [
        "print(idx_pairs)"
      ],
      "metadata": {
        "colab": {
          "base_uri": "https://localhost:8080/"
        },
        "id": "MTBnzEn7KulH",
        "outputId": "30cc75fa-6b05-4fa6-fabe-36b67646e7b4"
      },
      "execution_count": null,
      "outputs": [
        {
          "output_type": "stream",
          "name": "stdout",
          "text": [
            "[[0 1]\n",
            " [0 2]\n",
            " [1 0]\n",
            " [1 2]\n",
            " [1 3]\n",
            " [2 0]\n",
            " [2 1]\n",
            " [2 3]\n",
            " [3 1]\n",
            " [3 2]]\n"
          ]
        }
      ]
    },
    {
      "cell_type": "code",
      "source": [
        "embedding_dims = 5\n",
        "W1 = Variable(torch.randn(embedding_dims, vocabulary_size).float(), requires_grad=True)\n",
        "W2 = Variable(torch.randn(vocabulary_size, embedding_dims).float(), requires_grad=True)\n",
        "num_epochs = 101\n",
        "learning_rate = 0.001\n",
        "\n",
        "\n",
        "for epo in range(num_epochs):\n",
        "    loss_val = 0\n",
        "    for data, target in idx_pairs:\n",
        "        x = Variable(get_input_layer(data)).float()\n",
        "        # print(x)\n",
        "        y_true = Variable(torch.from_numpy(np.array([target])).long())\n",
        "\n",
        "        z1 = torch.matmul(W1, x)\n",
        "        z2 = torch.matmul(W2, z1)\n",
        "    \n",
        "        log_softmax = F.log_softmax(z2, dim=0)\n",
        "\n",
        "        loss = F.nll_loss(log_softmax.view(1,-1), y_true)\n",
        "        loss_val += loss.item()\n",
        "        loss.backward()\n",
        "        \n",
        "        W1.data -= learning_rate * W1.grad.data\n",
        "        W2.data -= learning_rate * W2.grad.data\n",
        "\n",
        "        W1.grad.data.zero_()\n",
        "        W2.grad.data.zero_()\n",
        "    \n",
        "    if epo % 10 == 0:    \n",
        "        print(f'Loss at epo {epo}: {loss_val/len(idx_pairs)}')\n"
      ],
      "metadata": {
        "colab": {
          "base_uri": "https://localhost:8080/"
        },
        "id": "HMPxcVqSV9nz",
        "outputId": "101d0f5f-901c-4934-a8d2-c2e51e4d96c2"
      },
      "execution_count": null,
      "outputs": [
        {
          "output_type": "stream",
          "name": "stdout",
          "text": [
            "Loss at epo 0: 4.753465402126312\n",
            "Loss at epo 10: 4.581019544601441\n",
            "Loss at epo 20: 4.4241477966308596\n",
            "Loss at epo 30: 4.280653405189514\n",
            "Loss at epo 40: 4.148715305328369\n",
            "Loss at epo 50: 4.026818811893463\n",
            "Loss at epo 60: 3.9136996507644652\n",
            "Loss at epo 70: 3.8083030223846435\n",
            "Loss at epo 80: 3.7097453713417052\n",
            "Loss at epo 90: 3.617284893989563\n",
            "Loss at epo 100: 3.530297946929932\n"
          ]
        }
      ]
    },
    {
      "cell_type": "markdown",
      "source": [
        "#### CBOW"
      ],
      "metadata": {
        "id": "qtii_n_SBi85"
      }
    },
    {
      "cell_type": "code",
      "metadata": {
        "id": "hQyABfVXMyhA"
      },
      "source": [
        "import torch\n",
        "import torch.nn as nn\n",
        "import matplotlib.pyplot as plt\n"
      ],
      "execution_count": 125,
      "outputs": []
    },
    {
      "cell_type": "code",
      "metadata": {
        "id": "ti-UORytM39x"
      },
      "source": [
        "raw_text = \"\"\"According to consensus in modern genetics, anatomically modern humans first arrived on the Indian subcontinent from Africa between 73,000 and 55,000 years ago.[1] However, the earliest known human remains in South Asia date to 30,000 years ago. Settled life, which involves the transition from foraging to farming and pastoralism, began in South Asia around 7,000 BCE. At the site of Mehrgarh presence can be documented of the domestication of wheat and barley, rapidly followed by that of goats, sheep, and cattle.[2] By 4,500 BCE, settled life had spread more widely,[2] and began to gradually evolve into the Indus Valley Civilization, an early civilization of the Old world, which was contemporaneous with Ancient Egypt and Mesopotamia. This civilisation flourished between 2,500 BCE and 1900 BCE in what today is Pakistan and north-western India, and was noted for its urban planning, baked brick houses, elaborate drainage, and water supply.[3] In early second millennium BCE persistent drought caused the population of the Indus Valley to scatter from large urban centres to villages. Around the same time, Indo-Aryan tribes moved into the Punjab from Central Asia in several waves of migration. Their Vedic Period (1500-500 BCE) was marked by the composition of the Vedas, large collections of hymns of these tribes. Their varna system, which evolved into the caste system, consisted of a hierarchy of priests, warriors, and free peasants. The pastoral and nomadic Indo-Aryans spread from the Punjab into the Gangetic plain, large swaths of which they deforested for agriculture usage. The composition of Vedic texts ended around 600 BCE, when a new, interregional culture arose. Small chieftaincies, or janapadas, were consolidated into larger states, or mahajanapadas, and a second urbanisation took place. This urbanisation was accompanied by the rise of new ascetic movements in Greater Magadha, including Jainism and Buddhism, which opposed the growing influence of Brahmanism and the primacy of rituals, presided by Brahmin priests, that had come to be associated with Vedic religion,[4] and gave rise to new religious concepts.[5] In response to the success of these movements, Vedic Brahmanism was synthesised with the preexisting religious cultures of the subcontinent, giving rise to Hinduism. Indian Cultural Influence (Greater India) Most of the Indian subcontinent was conquered by the Maurya Empire during the 4th and 3rd centuries BCE. From the 3rd century BCE onwards Prakrit and Pali literature in the north and the Tamil Sangam literature in southern India started to flourish.[6][7] Wootz steel originated in south India in the 3rd century BCE and was exported to foreign countries.[8][9][10] During the Classical period, various parts of India were ruled by numerous dynasties for the next 1,500 years, among which the Gupta Empire stands out. This period, witnessing a Hindu religious and intellectual resurgence, is known as the classical or \"Golden Age of India\". During this period, aspects of Indian civilisation, administration, culture, and religion (Hinduism and Buddhism) spread to much of Asia, while kingdoms in southern India had maritime business links with the Middle East and the Mediterranean. Indian cultural influence spread over many parts of Southeast Asia, which led to the establishment of Indianised kingdoms in Southeast Asia (Greater India).[11][12] The most significant event between the 7th and 11th century was the Tripartite struggle centred on Kannauj that lasted for more than two centuries between the Pala Empire, Rashtrakuta Empire, and Gurjara-Pratihara Empire. Southern India saw the rise of multiple imperial powers from the middle of the fifth century, most notably the Chalukya, Chola, Pallava, Chera, Pandyan, and Western Chalukya Empires. The Chola dynasty conquered southern India and successfully invaded parts of Southeast Asia, Sri Lanka, the Maldives, and Bengal[13] in the 11th century.[14][15] In the early medieval period Indian mathematics, including Hindu numerals, influenced the development of mathematics and astronomy in the Arab world.[16] Islamic conquests made limited inroads into modern Afghanistan and Sindh as early as the 8th century,[17] followed by the invasions of Mahmud Ghazni.[18] The Delhi Sultanate was founded in 1206 CE by Central Asian Turks who ruled a major part of the northern Indian subcontinent in the early 14th century, but declined in the late 14th century,[19] and saw the advent of the Deccan sultanates.[20] The wealthy Bengal Sultanate also emerged as a major power, lasting over three centuries.[21] This period also saw the emergence of several powerful Hindu states, notably Vijayanagara and Rajput states, such as Mewar. The 15th century saw the advent of Sikhism. The early modern period began in the 16th century, when the Mughal Empire conquered most of the Indian subcontinent,[22] signalling the proto-industrialization, becoming the biggest global economy and manufacturing power,[23] with a nominal GDP that valued a quarter of world GDP, superior than the combination of Europe's GDP.[24][25] The Mughals suffered a gradual decline in the early 18th century, which provided opportunities for the Marathas, Sikhs, Mysoreans, Nizams, and Nawabs of Bengal to exercise control over large regions of the Indian subcontinent.[26][27] From the mid-18th century to the mid-19th century, large regions of India were gradually annexed by the East India Company, a chartered company acting as a sovereign power on behalf of the British government. Dissatisfaction with company rule in India led to the Indian Rebellion of 1857, which rocked parts of north and central India, and led to the dissolution of the company. India was afterwards ruled directly by the British Crown, in the British Raj. After World War I, a nationwide struggle for independence was launched by the Indian National Congress, led by Mahatma Gandhi, and noted for nonviolence. Later, the All-India Muslim League would advocate for a separate Muslim-majority nation state. The British Indian Empire was partitioned in August 1947 into the Dominion of India and Dominion of Pakistan, each gaining its independence.\"\"\".split()"
      ],
      "execution_count": 260,
      "outputs": []
    },
    {
      "cell_type": "code",
      "source": [
        "CONTEXT_SIZE = 2  \n",
        "EMDEDDING_DIM = 100\n",
        "\n",
        "vocab = set(raw_text)\n",
        "vocab_size = len(vocab)\n",
        "\n",
        "word_list = list(vocab)\n",
        "\n",
        "word_to_ix = {word:ix for ix, word in enumerate(vocab)}\n",
        "ix_to_word = {ix:word for ix, word in enumerate(vocab)}"
      ],
      "metadata": {
        "id": "pdVHfr9jp0IL"
      },
      "execution_count": 261,
      "outputs": []
    },
    {
      "cell_type": "code",
      "source": [
        "print(vocab)\n",
        "print(vocab_size)\n",
        "print(word_to_ix)\n",
        "print(ix_to_word)"
      ],
      "metadata": {
        "colab": {
          "base_uri": "https://localhost:8080/"
        },
        "id": "Brj4SR4xp68F",
        "outputId": "007fed38-3a55-4f72-de6d-32870b3f72a0"
      },
      "execution_count": 262,
      "outputs": [
        {
          "output_type": "stream",
          "name": "stdout",
          "text": [
            "{'Southeast', '\"Golden', 'Central', 'its', 'subcontinent,', \"Europe's\", 'years,', 'League', 'Civilization,', 'barley,', 'Hindu', 'they', 'goats,', 'Their', 'religion,[4]', 'farming', 'central', 'many', 'India).[11][12]', 'ruled', 'Magadha,', 'Brahmanism', 'Afghanistan', 'control', 'Arab', 'modern', 'was', 'rule', 'literature', 'into', 'gradually', 'Punjab', 'caste', 'primacy', 'world', 'spread', 'caused', 'Asia', 'giving', 'However,', 'regions', 'Chera,', '55,000', 'ago.[1]', 'contemporaneous', 'or', 'flourished', 'between', 'among', 'development', 'Vedas,', 'cattle.[2]', 'south', 'started', 'as', 'Tripartite', 'hierarchy', 'aspects', 'centred', 'more', 'Asian', 'links', 'numerous', 'invasions', 'Indus', 'separate', 'supply.[3]', 'mahajanapadas,', 'Age', 'Delhi', 'mid-18th', 'proto-industrialization,', 'Mughal', 'rise', 'opposed', '1947', 'subcontinent,[22]', 'site', 'Greater', 'sultanates.[20]', 'Brahmin', '14th', 'decline', 'by', 'drainage,', 'conquered', 'Empires.', 'British', 'is', 'also', 'date', 'In', 'saw', 'a', 'preexisting', 'India)', 'India,', 'centuries', 'remains', 'during', 'culture,', 'combination', 'At', 'humans', 'BCE.', 'houses,', 'World', 'advent', 'led', 'cultures', 'Mysoreans,', 'urban', 'ascetic', 'power,[23]', 'consolidated', 'had', 'widely,[2]', 'According', 'Kannauj', 'hymns', 'three', 'genetics,', 'fifth', 'witnessing', 'system,', 'Mahmud', 'Africa', 'This', 'kingdoms', 'rocked', 'rituals,', 'usage.', 'Raj.', 'century,', 'years', 'Most', 'economy', 'Egypt', 'century,[17]', 'migration.', 'Hinduism.', 'marked', 'annexed', 'Empire.', 'northern', 'East', 'than', '2,500', 'pastoral', 'tribes.', 'domestication', 'Rebellion', '4th', 'free', 'consensus', 'today', 'Turks', 'Mediterranean.', 'persistent', 'biggest', 'countries.[8][9][10]', 'major', 'rapidly', 'Later,', 'mid-19th', 'ago.', 'War', 'flourish.[6][7]', 'foreign', 'texts', '7th', 'cultural', 'middle', 'originated', 'Gupta', 'millennium', 'transition', 'dissolution', 'lasting', 'Muslim-majority', 'an', 'larger', 'Empire,', 'quarter', 'numerals,', 'janapadas,', 'villages.', 'world,', 'peasants.', 'Southern', 'South', 'Chalukya,', 'pastoralism,', 'The', 'in', 'evolved', 'Rashtrakuta', 'documented', 'notably', 'around', 'opportunities', 'Sangam', 'Sindh', 'powerful', 'Sikhism.', 'arrived', 'Tamil', 'century,[19]', 'much', 'when', 'associated', 'steel', 'Sultanate', 'Islamic', 'lasted', 'next', 'which', 'Buddhism)', 'classical', 'most', 'settled', 'to', 'subcontinent.[26][27]', 'Western', 'launched', 'varna', 'over', 'struggle', '(Greater', 'mathematics', 'earliest', '8th', 'imperial', 'late', 'Gurjara-Pratihara', 'chieftaincies,', 'gaining', 'Pala', 'onwards', 'acting', 'swaths', '1857,', 'human', 'synthesised', 'BCE)', 'company.', 'wealthy', 'Wootz', 'provided', 'government.', 'moved', 'nation', 'success', 'life', 'began', 'ended', 'founded', '16th', 'Dissatisfaction', 'baked', 'power,', 'Ancient', 'nationwide', 'Valley', 'drought', 'advocate', 'southern', 'first', 'Pali', 'time,', 'Indian', 'CE', 'India\".', 'independence', 'north', 'Mehrgarh', 'intellectual', 'two', 'of', '1206', 'life,', 'century.[14][15]', 'Cultural', 'Around', 'emerged', 'power', 'After', 'Jainism', 'Sri', 'National', 'movements,', 'second', 'this', 'successfully', '4,500', 'Indo-Aryan', 'what', 'out.', 'plain,', '11th', 'Mesopotamia.', 'Old', 'several', 'place.', 'centuries.[21]', 'and', 'followed', 'period', 'Ghazni.[18]', 'Crown,', 'same', 'Congress,', 'gave', '600', 'parts', 'afterwards', 'deforested', 'behalf', 'can', 'Chola,', 'civilisation', 'urbanisation', 'elaborate', 'foraging', 'religion', 'Indo-Aryans', '73,000', 'Empire', 'Marathas,', 'Pakistan', 'Period', 'states,', 'nomadic', 'Mahatma', 'stands', 'Influence', 'Nizams,', 'involves', 'waves', 'tribes', 'emergence', 'would', 'Chalukya', 'India', 'Mewar.', 'exported', 'including', 'limited', 'part', 'new,', 'I,', 'accompanied', 'medieval', '18th', 'By', 'invaded', 'civilization', 'made', 'partitioned', 'BCE,', 'Chola', 'new', 'brick', 'warriors,', 'water', 'powers', 'Muslim', 'Pandyan,', 'such', 'from', 'event', 'suffered', 'BCE', 'culture', '(Hinduism', 'significant', 'collections', 'wheat', 'Maurya', 'were', 'declined', 'that', 'north-western', 'Sikhs,', 'influenced', 'arose.', 'nominal', 'interregional', 'multiple', 'each', 'with', 'superior', '30,000', '1900', '7,000', 'Asia,', 'large', 'who', 'known', '3rd', 'establishment', 'manufacturing', 'centres', 'Maldives,', 'Dominion', 'Vijayanagara', 'composition', 'while', 'GDP.[24][25]', 'presence', '(1500-500', 'Settled', 'Mughals', 'scatter', 'Small', 'company', 'Vedic', 'maritime', 'becoming', 'growing', 'GDP,', 'early', 'on', 'sovereign', 'population', 'for', 'Prakrit', 'GDP', 'planning,', '1,500', 'All-India', 'agriculture', 'resurgence,', 'concepts.[5]', 'Indianised', 'sheep,', 'Company,', 'movements', 'inroads', 'period,', 'Pallava,', 'Classical', 'Gandhi,', 'response', 'Bengal[13]', 'civilisation,', 'Pakistan,', 'presided', 'come', 'dynasty', 'administration,', 'Lanka,', 'century', 'but', 'astronomy', 'signalling', 'Buddhism,', 'state.', 'Rajput', 'chartered', 'August', 'mathematics,', 'Gangetic', 'nonviolence.', 'subcontinent', 'evolve', 'conquests', 'global', 'the', 'directly', 'During', 'be', 'exercise', 'independence.', 'world.[16]', 'took', 'priests,', 'consisted', 'religious', 'business', 'influence', 'anatomically', 'Deccan', '15th', 'Middle', 'these', 'gradual', 'valued', 'various', 'dynasties', 'From', 'Nawabs', 'Bengal', 'noted'}\n",
            "494\n",
            "{'Southeast': 0, '\"Golden': 1, 'Central': 2, 'its': 3, 'subcontinent,': 4, \"Europe's\": 5, 'years,': 6, 'League': 7, 'Civilization,': 8, 'barley,': 9, 'Hindu': 10, 'they': 11, 'goats,': 12, 'Their': 13, 'religion,[4]': 14, 'farming': 15, 'central': 16, 'many': 17, 'India).[11][12]': 18, 'ruled': 19, 'Magadha,': 20, 'Brahmanism': 21, 'Afghanistan': 22, 'control': 23, 'Arab': 24, 'modern': 25, 'was': 26, 'rule': 27, 'literature': 28, 'into': 29, 'gradually': 30, 'Punjab': 31, 'caste': 32, 'primacy': 33, 'world': 34, 'spread': 35, 'caused': 36, 'Asia': 37, 'giving': 38, 'However,': 39, 'regions': 40, 'Chera,': 41, '55,000': 42, 'ago.[1]': 43, 'contemporaneous': 44, 'or': 45, 'flourished': 46, 'between': 47, 'among': 48, 'development': 49, 'Vedas,': 50, 'cattle.[2]': 51, 'south': 52, 'started': 53, 'as': 54, 'Tripartite': 55, 'hierarchy': 56, 'aspects': 57, 'centred': 58, 'more': 59, 'Asian': 60, 'links': 61, 'numerous': 62, 'invasions': 63, 'Indus': 64, 'separate': 65, 'supply.[3]': 66, 'mahajanapadas,': 67, 'Age': 68, 'Delhi': 69, 'mid-18th': 70, 'proto-industrialization,': 71, 'Mughal': 72, 'rise': 73, 'opposed': 74, '1947': 75, 'subcontinent,[22]': 76, 'site': 77, 'Greater': 78, 'sultanates.[20]': 79, 'Brahmin': 80, '14th': 81, 'decline': 82, 'by': 83, 'drainage,': 84, 'conquered': 85, 'Empires.': 86, 'British': 87, 'is': 88, 'also': 89, 'date': 90, 'In': 91, 'saw': 92, 'a': 93, 'preexisting': 94, 'India)': 95, 'India,': 96, 'centuries': 97, 'remains': 98, 'during': 99, 'culture,': 100, 'combination': 101, 'At': 102, 'humans': 103, 'BCE.': 104, 'houses,': 105, 'World': 106, 'advent': 107, 'led': 108, 'cultures': 109, 'Mysoreans,': 110, 'urban': 111, 'ascetic': 112, 'power,[23]': 113, 'consolidated': 114, 'had': 115, 'widely,[2]': 116, 'According': 117, 'Kannauj': 118, 'hymns': 119, 'three': 120, 'genetics,': 121, 'fifth': 122, 'witnessing': 123, 'system,': 124, 'Mahmud': 125, 'Africa': 126, 'This': 127, 'kingdoms': 128, 'rocked': 129, 'rituals,': 130, 'usage.': 131, 'Raj.': 132, 'century,': 133, 'years': 134, 'Most': 135, 'economy': 136, 'Egypt': 137, 'century,[17]': 138, 'migration.': 139, 'Hinduism.': 140, 'marked': 141, 'annexed': 142, 'Empire.': 143, 'northern': 144, 'East': 145, 'than': 146, '2,500': 147, 'pastoral': 148, 'tribes.': 149, 'domestication': 150, 'Rebellion': 151, '4th': 152, 'free': 153, 'consensus': 154, 'today': 155, 'Turks': 156, 'Mediterranean.': 157, 'persistent': 158, 'biggest': 159, 'countries.[8][9][10]': 160, 'major': 161, 'rapidly': 162, 'Later,': 163, 'mid-19th': 164, 'ago.': 165, 'War': 166, 'flourish.[6][7]': 167, 'foreign': 168, 'texts': 169, '7th': 170, 'cultural': 171, 'middle': 172, 'originated': 173, 'Gupta': 174, 'millennium': 175, 'transition': 176, 'dissolution': 177, 'lasting': 178, 'Muslim-majority': 179, 'an': 180, 'larger': 181, 'Empire,': 182, 'quarter': 183, 'numerals,': 184, 'janapadas,': 185, 'villages.': 186, 'world,': 187, 'peasants.': 188, 'Southern': 189, 'South': 190, 'Chalukya,': 191, 'pastoralism,': 192, 'The': 193, 'in': 194, 'evolved': 195, 'Rashtrakuta': 196, 'documented': 197, 'notably': 198, 'around': 199, 'opportunities': 200, 'Sangam': 201, 'Sindh': 202, 'powerful': 203, 'Sikhism.': 204, 'arrived': 205, 'Tamil': 206, 'century,[19]': 207, 'much': 208, 'when': 209, 'associated': 210, 'steel': 211, 'Sultanate': 212, 'Islamic': 213, 'lasted': 214, 'next': 215, 'which': 216, 'Buddhism)': 217, 'classical': 218, 'most': 219, 'settled': 220, 'to': 221, 'subcontinent.[26][27]': 222, 'Western': 223, 'launched': 224, 'varna': 225, 'over': 226, 'struggle': 227, '(Greater': 228, 'mathematics': 229, 'earliest': 230, '8th': 231, 'imperial': 232, 'late': 233, 'Gurjara-Pratihara': 234, 'chieftaincies,': 235, 'gaining': 236, 'Pala': 237, 'onwards': 238, 'acting': 239, 'swaths': 240, '1857,': 241, 'human': 242, 'synthesised': 243, 'BCE)': 244, 'company.': 245, 'wealthy': 246, 'Wootz': 247, 'provided': 248, 'government.': 249, 'moved': 250, 'nation': 251, 'success': 252, 'life': 253, 'began': 254, 'ended': 255, 'founded': 256, '16th': 257, 'Dissatisfaction': 258, 'baked': 259, 'power,': 260, 'Ancient': 261, 'nationwide': 262, 'Valley': 263, 'drought': 264, 'advocate': 265, 'southern': 266, 'first': 267, 'Pali': 268, 'time,': 269, 'Indian': 270, 'CE': 271, 'India\".': 272, 'independence': 273, 'north': 274, 'Mehrgarh': 275, 'intellectual': 276, 'two': 277, 'of': 278, '1206': 279, 'life,': 280, 'century.[14][15]': 281, 'Cultural': 282, 'Around': 283, 'emerged': 284, 'power': 285, 'After': 286, 'Jainism': 287, 'Sri': 288, 'National': 289, 'movements,': 290, 'second': 291, 'this': 292, 'successfully': 293, '4,500': 294, 'Indo-Aryan': 295, 'what': 296, 'out.': 297, 'plain,': 298, '11th': 299, 'Mesopotamia.': 300, 'Old': 301, 'several': 302, 'place.': 303, 'centuries.[21]': 304, 'and': 305, 'followed': 306, 'period': 307, 'Ghazni.[18]': 308, 'Crown,': 309, 'same': 310, 'Congress,': 311, 'gave': 312, '600': 313, 'parts': 314, 'afterwards': 315, 'deforested': 316, 'behalf': 317, 'can': 318, 'Chola,': 319, 'civilisation': 320, 'urbanisation': 321, 'elaborate': 322, 'foraging': 323, 'religion': 324, 'Indo-Aryans': 325, '73,000': 326, 'Empire': 327, 'Marathas,': 328, 'Pakistan': 329, 'Period': 330, 'states,': 331, 'nomadic': 332, 'Mahatma': 333, 'stands': 334, 'Influence': 335, 'Nizams,': 336, 'involves': 337, 'waves': 338, 'tribes': 339, 'emergence': 340, 'would': 341, 'Chalukya': 342, 'India': 343, 'Mewar.': 344, 'exported': 345, 'including': 346, 'limited': 347, 'part': 348, 'new,': 349, 'I,': 350, 'accompanied': 351, 'medieval': 352, '18th': 353, 'By': 354, 'invaded': 355, 'civilization': 356, 'made': 357, 'partitioned': 358, 'BCE,': 359, 'Chola': 360, 'new': 361, 'brick': 362, 'warriors,': 363, 'water': 364, 'powers': 365, 'Muslim': 366, 'Pandyan,': 367, 'such': 368, 'from': 369, 'event': 370, 'suffered': 371, 'BCE': 372, 'culture': 373, '(Hinduism': 374, 'significant': 375, 'collections': 376, 'wheat': 377, 'Maurya': 378, 'were': 379, 'declined': 380, 'that': 381, 'north-western': 382, 'Sikhs,': 383, 'influenced': 384, 'arose.': 385, 'nominal': 386, 'interregional': 387, 'multiple': 388, 'each': 389, 'with': 390, 'superior': 391, '30,000': 392, '1900': 393, '7,000': 394, 'Asia,': 395, 'large': 396, 'who': 397, 'known': 398, '3rd': 399, 'establishment': 400, 'manufacturing': 401, 'centres': 402, 'Maldives,': 403, 'Dominion': 404, 'Vijayanagara': 405, 'composition': 406, 'while': 407, 'GDP.[24][25]': 408, 'presence': 409, '(1500-500': 410, 'Settled': 411, 'Mughals': 412, 'scatter': 413, 'Small': 414, 'company': 415, 'Vedic': 416, 'maritime': 417, 'becoming': 418, 'growing': 419, 'GDP,': 420, 'early': 421, 'on': 422, 'sovereign': 423, 'population': 424, 'for': 425, 'Prakrit': 426, 'GDP': 427, 'planning,': 428, '1,500': 429, 'All-India': 430, 'agriculture': 431, 'resurgence,': 432, 'concepts.[5]': 433, 'Indianised': 434, 'sheep,': 435, 'Company,': 436, 'movements': 437, 'inroads': 438, 'period,': 439, 'Pallava,': 440, 'Classical': 441, 'Gandhi,': 442, 'response': 443, 'Bengal[13]': 444, 'civilisation,': 445, 'Pakistan,': 446, 'presided': 447, 'come': 448, 'dynasty': 449, 'administration,': 450, 'Lanka,': 451, 'century': 452, 'but': 453, 'astronomy': 454, 'signalling': 455, 'Buddhism,': 456, 'state.': 457, 'Rajput': 458, 'chartered': 459, 'August': 460, 'mathematics,': 461, 'Gangetic': 462, 'nonviolence.': 463, 'subcontinent': 464, 'evolve': 465, 'conquests': 466, 'global': 467, 'the': 468, 'directly': 469, 'During': 470, 'be': 471, 'exercise': 472, 'independence.': 473, 'world.[16]': 474, 'took': 475, 'priests,': 476, 'consisted': 477, 'religious': 478, 'business': 479, 'influence': 480, 'anatomically': 481, 'Deccan': 482, '15th': 483, 'Middle': 484, 'these': 485, 'gradual': 486, 'valued': 487, 'various': 488, 'dynasties': 489, 'From': 490, 'Nawabs': 491, 'Bengal': 492, 'noted': 493}\n",
            "{0: 'Southeast', 1: '\"Golden', 2: 'Central', 3: 'its', 4: 'subcontinent,', 5: \"Europe's\", 6: 'years,', 7: 'League', 8: 'Civilization,', 9: 'barley,', 10: 'Hindu', 11: 'they', 12: 'goats,', 13: 'Their', 14: 'religion,[4]', 15: 'farming', 16: 'central', 17: 'many', 18: 'India).[11][12]', 19: 'ruled', 20: 'Magadha,', 21: 'Brahmanism', 22: 'Afghanistan', 23: 'control', 24: 'Arab', 25: 'modern', 26: 'was', 27: 'rule', 28: 'literature', 29: 'into', 30: 'gradually', 31: 'Punjab', 32: 'caste', 33: 'primacy', 34: 'world', 35: 'spread', 36: 'caused', 37: 'Asia', 38: 'giving', 39: 'However,', 40: 'regions', 41: 'Chera,', 42: '55,000', 43: 'ago.[1]', 44: 'contemporaneous', 45: 'or', 46: 'flourished', 47: 'between', 48: 'among', 49: 'development', 50: 'Vedas,', 51: 'cattle.[2]', 52: 'south', 53: 'started', 54: 'as', 55: 'Tripartite', 56: 'hierarchy', 57: 'aspects', 58: 'centred', 59: 'more', 60: 'Asian', 61: 'links', 62: 'numerous', 63: 'invasions', 64: 'Indus', 65: 'separate', 66: 'supply.[3]', 67: 'mahajanapadas,', 68: 'Age', 69: 'Delhi', 70: 'mid-18th', 71: 'proto-industrialization,', 72: 'Mughal', 73: 'rise', 74: 'opposed', 75: '1947', 76: 'subcontinent,[22]', 77: 'site', 78: 'Greater', 79: 'sultanates.[20]', 80: 'Brahmin', 81: '14th', 82: 'decline', 83: 'by', 84: 'drainage,', 85: 'conquered', 86: 'Empires.', 87: 'British', 88: 'is', 89: 'also', 90: 'date', 91: 'In', 92: 'saw', 93: 'a', 94: 'preexisting', 95: 'India)', 96: 'India,', 97: 'centuries', 98: 'remains', 99: 'during', 100: 'culture,', 101: 'combination', 102: 'At', 103: 'humans', 104: 'BCE.', 105: 'houses,', 106: 'World', 107: 'advent', 108: 'led', 109: 'cultures', 110: 'Mysoreans,', 111: 'urban', 112: 'ascetic', 113: 'power,[23]', 114: 'consolidated', 115: 'had', 116: 'widely,[2]', 117: 'According', 118: 'Kannauj', 119: 'hymns', 120: 'three', 121: 'genetics,', 122: 'fifth', 123: 'witnessing', 124: 'system,', 125: 'Mahmud', 126: 'Africa', 127: 'This', 128: 'kingdoms', 129: 'rocked', 130: 'rituals,', 131: 'usage.', 132: 'Raj.', 133: 'century,', 134: 'years', 135: 'Most', 136: 'economy', 137: 'Egypt', 138: 'century,[17]', 139: 'migration.', 140: 'Hinduism.', 141: 'marked', 142: 'annexed', 143: 'Empire.', 144: 'northern', 145: 'East', 146: 'than', 147: '2,500', 148: 'pastoral', 149: 'tribes.', 150: 'domestication', 151: 'Rebellion', 152: '4th', 153: 'free', 154: 'consensus', 155: 'today', 156: 'Turks', 157: 'Mediterranean.', 158: 'persistent', 159: 'biggest', 160: 'countries.[8][9][10]', 161: 'major', 162: 'rapidly', 163: 'Later,', 164: 'mid-19th', 165: 'ago.', 166: 'War', 167: 'flourish.[6][7]', 168: 'foreign', 169: 'texts', 170: '7th', 171: 'cultural', 172: 'middle', 173: 'originated', 174: 'Gupta', 175: 'millennium', 176: 'transition', 177: 'dissolution', 178: 'lasting', 179: 'Muslim-majority', 180: 'an', 181: 'larger', 182: 'Empire,', 183: 'quarter', 184: 'numerals,', 185: 'janapadas,', 186: 'villages.', 187: 'world,', 188: 'peasants.', 189: 'Southern', 190: 'South', 191: 'Chalukya,', 192: 'pastoralism,', 193: 'The', 194: 'in', 195: 'evolved', 196: 'Rashtrakuta', 197: 'documented', 198: 'notably', 199: 'around', 200: 'opportunities', 201: 'Sangam', 202: 'Sindh', 203: 'powerful', 204: 'Sikhism.', 205: 'arrived', 206: 'Tamil', 207: 'century,[19]', 208: 'much', 209: 'when', 210: 'associated', 211: 'steel', 212: 'Sultanate', 213: 'Islamic', 214: 'lasted', 215: 'next', 216: 'which', 217: 'Buddhism)', 218: 'classical', 219: 'most', 220: 'settled', 221: 'to', 222: 'subcontinent.[26][27]', 223: 'Western', 224: 'launched', 225: 'varna', 226: 'over', 227: 'struggle', 228: '(Greater', 229: 'mathematics', 230: 'earliest', 231: '8th', 232: 'imperial', 233: 'late', 234: 'Gurjara-Pratihara', 235: 'chieftaincies,', 236: 'gaining', 237: 'Pala', 238: 'onwards', 239: 'acting', 240: 'swaths', 241: '1857,', 242: 'human', 243: 'synthesised', 244: 'BCE)', 245: 'company.', 246: 'wealthy', 247: 'Wootz', 248: 'provided', 249: 'government.', 250: 'moved', 251: 'nation', 252: 'success', 253: 'life', 254: 'began', 255: 'ended', 256: 'founded', 257: '16th', 258: 'Dissatisfaction', 259: 'baked', 260: 'power,', 261: 'Ancient', 262: 'nationwide', 263: 'Valley', 264: 'drought', 265: 'advocate', 266: 'southern', 267: 'first', 268: 'Pali', 269: 'time,', 270: 'Indian', 271: 'CE', 272: 'India\".', 273: 'independence', 274: 'north', 275: 'Mehrgarh', 276: 'intellectual', 277: 'two', 278: 'of', 279: '1206', 280: 'life,', 281: 'century.[14][15]', 282: 'Cultural', 283: 'Around', 284: 'emerged', 285: 'power', 286: 'After', 287: 'Jainism', 288: 'Sri', 289: 'National', 290: 'movements,', 291: 'second', 292: 'this', 293: 'successfully', 294: '4,500', 295: 'Indo-Aryan', 296: 'what', 297: 'out.', 298: 'plain,', 299: '11th', 300: 'Mesopotamia.', 301: 'Old', 302: 'several', 303: 'place.', 304: 'centuries.[21]', 305: 'and', 306: 'followed', 307: 'period', 308: 'Ghazni.[18]', 309: 'Crown,', 310: 'same', 311: 'Congress,', 312: 'gave', 313: '600', 314: 'parts', 315: 'afterwards', 316: 'deforested', 317: 'behalf', 318: 'can', 319: 'Chola,', 320: 'civilisation', 321: 'urbanisation', 322: 'elaborate', 323: 'foraging', 324: 'religion', 325: 'Indo-Aryans', 326: '73,000', 327: 'Empire', 328: 'Marathas,', 329: 'Pakistan', 330: 'Period', 331: 'states,', 332: 'nomadic', 333: 'Mahatma', 334: 'stands', 335: 'Influence', 336: 'Nizams,', 337: 'involves', 338: 'waves', 339: 'tribes', 340: 'emergence', 341: 'would', 342: 'Chalukya', 343: 'India', 344: 'Mewar.', 345: 'exported', 346: 'including', 347: 'limited', 348: 'part', 349: 'new,', 350: 'I,', 351: 'accompanied', 352: 'medieval', 353: '18th', 354: 'By', 355: 'invaded', 356: 'civilization', 357: 'made', 358: 'partitioned', 359: 'BCE,', 360: 'Chola', 361: 'new', 362: 'brick', 363: 'warriors,', 364: 'water', 365: 'powers', 366: 'Muslim', 367: 'Pandyan,', 368: 'such', 369: 'from', 370: 'event', 371: 'suffered', 372: 'BCE', 373: 'culture', 374: '(Hinduism', 375: 'significant', 376: 'collections', 377: 'wheat', 378: 'Maurya', 379: 'were', 380: 'declined', 381: 'that', 382: 'north-western', 383: 'Sikhs,', 384: 'influenced', 385: 'arose.', 386: 'nominal', 387: 'interregional', 388: 'multiple', 389: 'each', 390: 'with', 391: 'superior', 392: '30,000', 393: '1900', 394: '7,000', 395: 'Asia,', 396: 'large', 397: 'who', 398: 'known', 399: '3rd', 400: 'establishment', 401: 'manufacturing', 402: 'centres', 403: 'Maldives,', 404: 'Dominion', 405: 'Vijayanagara', 406: 'composition', 407: 'while', 408: 'GDP.[24][25]', 409: 'presence', 410: '(1500-500', 411: 'Settled', 412: 'Mughals', 413: 'scatter', 414: 'Small', 415: 'company', 416: 'Vedic', 417: 'maritime', 418: 'becoming', 419: 'growing', 420: 'GDP,', 421: 'early', 422: 'on', 423: 'sovereign', 424: 'population', 425: 'for', 426: 'Prakrit', 427: 'GDP', 428: 'planning,', 429: '1,500', 430: 'All-India', 431: 'agriculture', 432: 'resurgence,', 433: 'concepts.[5]', 434: 'Indianised', 435: 'sheep,', 436: 'Company,', 437: 'movements', 438: 'inroads', 439: 'period,', 440: 'Pallava,', 441: 'Classical', 442: 'Gandhi,', 443: 'response', 444: 'Bengal[13]', 445: 'civilisation,', 446: 'Pakistan,', 447: 'presided', 448: 'come', 449: 'dynasty', 450: 'administration,', 451: 'Lanka,', 452: 'century', 453: 'but', 454: 'astronomy', 455: 'signalling', 456: 'Buddhism,', 457: 'state.', 458: 'Rajput', 459: 'chartered', 460: 'August', 461: 'mathematics,', 462: 'Gangetic', 463: 'nonviolence.', 464: 'subcontinent', 465: 'evolve', 466: 'conquests', 467: 'global', 468: 'the', 469: 'directly', 470: 'During', 471: 'be', 472: 'exercise', 473: 'independence.', 474: 'world.[16]', 475: 'took', 476: 'priests,', 477: 'consisted', 478: 'religious', 479: 'business', 480: 'influence', 481: 'anatomically', 482: 'Deccan', 483: '15th', 484: 'Middle', 485: 'these', 486: 'gradual', 487: 'valued', 488: 'various', 489: 'dynasties', 490: 'From', 491: 'Nawabs', 492: 'Bengal', 493: 'noted'}\n"
          ]
        }
      ]
    },
    {
      "cell_type": "code",
      "source": [
        "\"\"\"During my second month of nursing school\"\"\"\n",
        "def CBOW(raw_text, window_size=2):\n",
        "    data = []\n",
        "    for i in range(window_size, len(raw_text) - window_size):\n",
        "        context = [raw_text[i - window_size], raw_text[i - (window_size - 1)], raw_text[i + (window_size - 1)], raw_text[i + window_size]]\n",
        "        \n",
        "        # context = raw_text[i - window_size:i + window_size+1]\n",
        "        # context.remove(raw_text[i])                                        //Alternate Way of finding Context Words\n",
        "        \n",
        "        target = raw_text[i]\n",
        "        data.append((context, target))\n",
        "\n",
        "    return data,target\n",
        "\n",
        "\n",
        "data,target = CBOW(raw_text)\n",
        "data[:10]"
      ],
      "metadata": {
        "colab": {
          "base_uri": "https://localhost:8080/"
        },
        "id": "cGmQwIB9qjWN",
        "outputId": "74300f94-6816-4136-c0dd-26e69d65c7cc"
      },
      "execution_count": 263,
      "outputs": [
        {
          "output_type": "execute_result",
          "data": {
            "text/plain": [
              "[(['According', 'to', 'in', 'modern'], 'consensus'),\n",
              " (['to', 'consensus', 'modern', 'genetics,'], 'in'),\n",
              " (['consensus', 'in', 'genetics,', 'anatomically'], 'modern'),\n",
              " (['in', 'modern', 'anatomically', 'modern'], 'genetics,'),\n",
              " (['modern', 'genetics,', 'modern', 'humans'], 'anatomically'),\n",
              " (['genetics,', 'anatomically', 'humans', 'first'], 'modern'),\n",
              " (['anatomically', 'modern', 'first', 'arrived'], 'humans'),\n",
              " (['modern', 'humans', 'arrived', 'on'], 'first'),\n",
              " (['humans', 'first', 'on', 'the'], 'arrived'),\n",
              " (['first', 'arrived', 'the', 'Indian'], 'on')]"
            ]
          },
          "metadata": {},
          "execution_count": 263
        }
      ]
    },
    {
      "cell_type": "code",
      "source": [
        "def make_context_vector(context, word_to_ix):\n",
        "    idxs = [word_to_ix[w] for w in context]\n",
        "    return torch.tensor(idxs, dtype=torch.long)"
      ],
      "metadata": {
        "id": "IzaND3dVm2qw"
      },
      "execution_count": 264,
      "outputs": []
    },
    {
      "cell_type": "code",
      "source": [
        "class CBOW_Model(torch.nn.Module):\n",
        "    def __init__(self, vocab_size, embedding_dim):\n",
        "        super(CBOW_Model, self).__init__()\n",
        "\n",
        "        #out: 1 x emdedding_dim\n",
        "        self.embeddings = nn.Embedding(vocab_size, embedding_dim)\n",
        "        self.linear1 = nn.Linear(embedding_dim, 128)\n",
        "        self.activation_function1 = nn.ReLU()\n",
        "        \n",
        "        #out: 1 x vocab_size\n",
        "        self.linear2 = nn.Linear(128, vocab_size)\n",
        "        \n",
        "\n",
        "    def forward(self, inputs):\n",
        "        # print(sum(self.embeddings(inputs)).view(1,-1))\n",
        "        embeds = sum(self.embeddings(inputs)).view(1,-1)\n",
        "        out = self.linear1(embeds)\n",
        "        out = self.activation_function1(out)\n",
        "        out = self.linear2(out)\n",
        "        # print(\"Output:\",out)\n",
        "        return out\n",
        "\n",
        "    def get_word_emdedding(self, word):\n",
        "        word = torch.tensor([word_to_ix[word]])\n",
        "        # print(word)\n",
        "        # print(self.embeddings(word).view(1,-1))\n",
        "        return self.embeddings(word).view(1,-1)"
      ],
      "metadata": {
        "id": "zjEvZC1etOny"
      },
      "execution_count": 265,
      "outputs": []
    },
    {
      "cell_type": "code",
      "source": [
        "model = CBOW_Model(vocab_size, EMDEDDING_DIM)\n",
        "\n",
        "loss_function = nn.CrossEntropyLoss()\n",
        "optimizer = torch.optim.SGD(model.parameters(), lr=0.01)"
      ],
      "metadata": {
        "id": "PRaigtZG0SDT"
      },
      "execution_count": 266,
      "outputs": []
    },
    {
      "cell_type": "code",
      "source": [
        ""
      ],
      "metadata": {
        "id": "Qm0NE5LCMnXd"
      },
      "execution_count": 266,
      "outputs": []
    },
    {
      "cell_type": "code",
      "source": [
        "#TRAINING\n",
        "for epoch in tqdm(range(100)):\n",
        "    total_loss = 0\n",
        "\n",
        "    for context, target in data:\n",
        "        c+=1\n",
        "        context_vector = make_context_vector(context, word_to_ix)  \n",
        "        \n",
        "        log_probs = model.forward(context_vector)\n",
        "\n",
        "        # print(\"Context: {}, Target: {}, Output: {}\".format(context,target,ix_to_word[torch.argmax(model(context_vector), 1).item()]))\n",
        "        \n",
        "        total_loss += loss_function(log_probs, torch.tensor([word_to_ix[target]]))\n",
        "\n",
        "        # break\n",
        "\n",
        "    if epoch%10==0:\n",
        "          print(\"Epoch {}: {}\".format(epoch,total_loss.data))\n",
        "        \n",
        "    optimizer.zero_grad()\n",
        "    total_loss.backward()\n",
        "    optimizer.step()\n",
        "print(c)"
      ],
      "metadata": {
        "colab": {
          "base_uri": "https://localhost:8080/"
        },
        "id": "PTHIvlVN0SG_",
        "outputId": "646f120e-7587-4721-a306-586669d174be"
      },
      "execution_count": 273,
      "outputs": [
        {
          "output_type": "stream",
          "name": "stderr",
          "text": [
            "\r  0%|          | 0/100 [00:00<?, ?it/s]"
          ]
        },
        {
          "output_type": "stream",
          "name": "stdout",
          "text": [
            "Epoch 0: 5108.63818359375\n"
          ]
        },
        {
          "output_type": "stream",
          "name": "stderr",
          "text": [
            " 10%|█         | 10/100 [00:06<00:46,  1.93it/s]"
          ]
        },
        {
          "output_type": "stream",
          "name": "stdout",
          "text": [
            "Epoch 10: 5095.18505859375\n"
          ]
        },
        {
          "output_type": "stream",
          "name": "stderr",
          "text": [
            " 20%|██        | 20/100 [00:11<00:40,  1.98it/s]"
          ]
        },
        {
          "output_type": "stream",
          "name": "stdout",
          "text": [
            "Epoch 20: 5085.59326171875\n"
          ]
        },
        {
          "output_type": "stream",
          "name": "stderr",
          "text": [
            " 30%|███       | 30/100 [00:16<00:34,  2.04it/s]"
          ]
        },
        {
          "output_type": "stream",
          "name": "stdout",
          "text": [
            "Epoch 30: 5079.90966796875\n"
          ]
        },
        {
          "output_type": "stream",
          "name": "stderr",
          "text": [
            " 40%|████      | 40/100 [00:21<00:29,  2.02it/s]"
          ]
        },
        {
          "output_type": "stream",
          "name": "stdout",
          "text": [
            "Epoch 40: 5073.02001953125\n"
          ]
        },
        {
          "output_type": "stream",
          "name": "stderr",
          "text": [
            " 50%|█████     | 50/100 [00:26<00:24,  2.02it/s]"
          ]
        },
        {
          "output_type": "stream",
          "name": "stdout",
          "text": [
            "Epoch 50: 5070.2724609375\n"
          ]
        },
        {
          "output_type": "stream",
          "name": "stderr",
          "text": [
            " 60%|██████    | 60/100 [00:31<00:19,  2.01it/s]"
          ]
        },
        {
          "output_type": "stream",
          "name": "stdout",
          "text": [
            "Epoch 60: 5069.91064453125\n"
          ]
        },
        {
          "output_type": "stream",
          "name": "stderr",
          "text": [
            " 70%|███████   | 70/100 [00:36<00:15,  1.99it/s]"
          ]
        },
        {
          "output_type": "stream",
          "name": "stdout",
          "text": [
            "Epoch 70: 5068.03076171875\n"
          ]
        },
        {
          "output_type": "stream",
          "name": "stderr",
          "text": [
            " 80%|████████  | 80/100 [00:41<00:10,  1.98it/s]"
          ]
        },
        {
          "output_type": "stream",
          "name": "stdout",
          "text": [
            "Epoch 80: 5065.7294921875\n"
          ]
        },
        {
          "output_type": "stream",
          "name": "stderr",
          "text": [
            " 90%|█████████ | 90/100 [00:46<00:05,  2.00it/s]"
          ]
        },
        {
          "output_type": "stream",
          "name": "stdout",
          "text": [
            "Epoch 90: 5065.68408203125\n"
          ]
        },
        {
          "output_type": "stream",
          "name": "stderr",
          "text": [
            "100%|██████████| 100/100 [00:51<00:00,  1.95it/s]"
          ]
        },
        {
          "output_type": "stream",
          "name": "stdout",
          "text": [
            "195080\n"
          ]
        },
        {
          "output_type": "stream",
          "name": "stderr",
          "text": [
            "\n"
          ]
        }
      ]
    },
    {
      "cell_type": "code",
      "source": [
        "plt.figure(figsize=(15,10))\n",
        "for w in word_list:\n",
        "    x = model.get_word_emdedding(w).detach().data.numpy()[0][0]\n",
        "    y = model.get_word_emdedding(w).detach().data.numpy()[0][1]\n",
        "    # print(x,y)\n",
        "    plt.scatter(x, y)\n",
        "    plt.annotate(w, xy=(x, y), xytext=(5, 2), textcoords='offset points', ha='right', va='bottom')\n",
        "plt.show()"
      ],
      "metadata": {
        "colab": {
          "base_uri": "https://localhost:8080/",
          "height": 592
        },
        "id": "I7LQByAJ0SKh",
        "outputId": "2d7aebbd-fff3-4bdf-eea1-92471504713c"
      },
      "execution_count": 274,
      "outputs": [
        {
          "output_type": "display_data",
          "data": {
            "text/plain": [
              "<Figure size 1080x720 with 1 Axes>"
            ],
            "image/png": "[encoded data removed]"
          },
          "metadata": {
            "needs_background": "light"
          }
        }
      ]
    },
    {
      "cell_type": "code",
      "source": [
        "data[0]"
      ],
      "metadata": {
        "colab": {
          "base_uri": "https://localhost:8080/"
        },
        "id": "XE7PYkpwrD6Y",
        "outputId": "04da92b6-7bd2-4cae-a166-e59c8c40d737"
      },
      "execution_count": 275,
      "outputs": [
        {
          "output_type": "execute_result",
          "data": {
            "text/plain": [
              "(['According', 'to', 'in', 'modern'], 'consensus')"
            ]
          },
          "metadata": {},
          "execution_count": 275
        }
      ]
    },
    {
      "cell_type": "code",
      "metadata": {
        "id": "9PcnGi4OWFmo"
      },
      "source": [
        "def CBOW_test(test_data, model):\n",
        "    correct_ct = 0\n",
        "\n",
        "    for context, target in data:\n",
        "        context_vector = make_context_vector(context, word_to_ix)  \n",
        "        model.zero_grad()\n",
        "        predicted = torch.argmax(model(context_vector), 1)\n",
        "        # print(model(context_vector),predicted)\n",
        "        if predicted[0] == torch.tensor([word_to_ix[target]]):\n",
        "                correct_ct += 1\n",
        "        \n",
        "    print('Accuracy: {:.1f}% ({:d}/{:d})'.format(correct_ct/len(test_data)*100, correct_ct, len(test_data)))"
      ],
      "execution_count": 276,
      "outputs": []
    },
    {
      "cell_type": "code",
      "metadata": {
        "colab": {
          "base_uri": "https://localhost:8080/"
        },
        "id": "rjhk0OK-WN7J",
        "outputId": "306d7ecb-30d5-4ef0-b44d-636065b7148d"
      },
      "source": [
        "CBOW_test(data, model)"
      ],
      "execution_count": 277,
      "outputs": [
        {
          "output_type": "stream",
          "name": "stdout",
          "text": [
            "Accuracy: 9.9% (93/944)\n"
          ]
        }
      ]
    },
    {
      "cell_type": "code",
      "metadata": {
        "id": "2TLJir1cT_Il"
      },
      "source": [
        "#TESTING\n",
        "context = [\"During\" ,\"my\",\"month\" ,'of']\n",
        "context_vector = make_context_vector(context, word_to_ix)\n",
        "a = model(context_vector)"
      ],
      "execution_count": 75,
      "outputs": []
    },
    {
      "cell_type": "code",
      "source": [
        "print(torch.argmax(a[0]))"
      ],
      "metadata": {
        "colab": {
          "base_uri": "https://localhost:8080/"
        },
        "id": "18ZO4XxTwv8D",
        "outputId": "1a68982d-c843-4cb1-d2ff-87815f21bc5e"
      },
      "execution_count": 76,
      "outputs": [
        {
          "output_type": "stream",
          "name": "stdout",
          "text": [
            "tensor(16)\n"
          ]
        }
      ]
    },
    {
      "cell_type": "code",
      "metadata": {
        "colab": {
          "base_uri": "https://localhost:8080/"
        },
        "id": "V7c2lYQyUBKt",
        "outputId": "2542c833-9ac4-4a24-d0c1-56df07d27c65"
      },
      "source": [
        "#Print result\n",
        "print(f'Raw text: {\" \".join(raw_text)}\\n')\n",
        "print(f'Context: {context}\\n')\n",
        "print(f'Prediction: {ix_to_word[torch.argmax(a[0]).item()]}')"
      ],
      "execution_count": 77,
      "outputs": [
        {
          "output_type": "stream",
          "name": "stdout",
          "text": [
            "Raw text: During my second month of nursing school, our professor gave us a pop quiz. I was a conscientious student and had breezed through the questions, until I read the last one: “What is the first name of the woman who cleans the school?” Surely this was some kind of joke. I had seen the cleaning woman several times. She was tall, dark-haired and in her 50s, but how would I know her name? I handed in my paper, leaving the last question blank. Before class ended, one student asked if the last question would count toward our quiz grade. “Absolutely,” said the professor. “In your careers you will meet many people. All are significant. They deserve your attention and care, even if all you do is smile and say ‘hello’. I’ve never forgotten that lesson. I also learned her name was Dorothy.\n",
            "\n",
            "Context: ['During', 'my', 'month', 'of']\n",
            "\n",
            "Prediction: second\n"
          ]
        }
      ]
    },
    {
      "cell_type": "markdown",
      "source": [
        "#### SkipGram for window size = 1"
      ],
      "metadata": {
        "id": "uOD5ZCMMBnHP"
      }
    },
    {
      "cell_type": "code",
      "metadata": {
        "id": "vdUehOjo00AQ"
      },
      "source": [
        "import numpy as np\n",
        "import torch\n",
        "import torch.nn as nn\n",
        "import torch.optim as optim\n",
        "import matplotlib.pyplot as plt\n",
        "from tqdm import tqdm"
      ],
      "execution_count": 78,
      "outputs": []
    },
    {
      "cell_type": "code",
      "metadata": {
        "id": "qIV70wWh0526"
      },
      "source": [
        "def random_batch(skip_grams):\n",
        "    random_inputs = []\n",
        "    random_labels = []\n",
        "    random_index = np.random.choice(range(len(skip_grams)), batch_size, replace=False)\n",
        "    # print(random_index)\n",
        "    for i in random_index:\n",
        "        random_inputs.append(skip_grams[i][0])  # target\n",
        "        random_labels.append(skip_grams[i][1])  # context word\n",
        "\n",
        "    return random_inputs, random_labels"
      ],
      "execution_count": 79,
      "outputs": []
    },
    {
      "cell_type": "code",
      "source": [
        "print(skipgram(word_sequence)[9])\n",
        "print(skipgram(word_sequence)[65])"
      ],
      "metadata": {
        "colab": {
          "base_uri": "https://localhost:8080/"
        },
        "id": "GRohoDndOnK4",
        "outputId": "fb4c1793-1bec-4686-b461-8e0b04f6ae1c"
      },
      "execution_count": 54,
      "outputs": [
        {
          "output_type": "stream",
          "name": "stdout",
          "text": [
            "['nursing', 'school,']\n",
            "['the', 'first']\n"
          ]
        }
      ]
    },
    {
      "cell_type": "code",
      "source": [
        "a = random_batch(skipgram(word_sequence))\n",
        "print(a)\n",
        "[word_dict[n1] for n1 in a[0]]"
      ],
      "metadata": {
        "colab": {
          "base_uri": "https://localhost:8080/"
        },
        "id": "K6tA78KJOi4H",
        "outputId": "242ebdea-a6a2-4e4a-b477-8a064cae543a"
      },
      "execution_count": 120,
      "outputs": [
        {
          "output_type": "stream",
          "name": "stdout",
          "text": [
            "(['my', 'woman'], ['During', 'who'])\n"
          ]
        },
        {
          "output_type": "execute_result",
          "data": {
            "text/plain": [
              "[18, 30]"
            ]
          },
          "metadata": {},
          "execution_count": 120
        }
      ]
    },
    {
      "cell_type": "code",
      "metadata": {
        "id": "FuoAoeyA4Vvr"
      },
      "source": [
        "sentences = \"\"\"During my second month of nursing school, our professor gave us a pop quiz.  \n",
        "I was a conscientious student and had breezed through the questions, until I read the last one: \n",
        "“What is the first name of the woman who cleans the school?”  Surely this was some kind of joke.\"\"\".split()"
      ],
      "execution_count": 80,
      "outputs": []
    },
    {
      "cell_type": "code",
      "metadata": {
        "id": "PWl8JRPy4KQg",
        "colab": {
          "base_uri": "https://localhost:8080/"
        },
        "outputId": "0e1c47c5-fe96-4ec1-d373-6d30815fe28f"
      },
      "source": [
        "embedding_size = 10 \n",
        "batch_size = 2\n",
        "\n",
        "word_sequence = \" \".join(sentences).split()\n",
        "word_list = \" \".join(sentences).split()\n",
        "word_list = list(set(word_list))\n",
        "word_dict = {w: i for i, w in enumerate(word_list)}\n",
        "voc_size = len(word_list)\n",
        "\n",
        "print(word_list)\n",
        "print(word_dict)\n",
        "print(voc_size)"
      ],
      "execution_count": 81,
      "outputs": [
        {
          "output_type": "stream",
          "name": "stdout",
          "text": [
            "['the', 'our', 'During', 'some', 'us', 'professor', 'pop', 'name', 'Surely', 'quiz.', 'my', 'questions,', 'and', 'I', 'conscientious', '“What', 'of', 'through', 'month', 'woman', 'gave', 'until', 'read', 'had', 'is', 'one:', 'breezed', 'student', 'who', 'a', 'kind', 'second', 'this', 'joke.', 'school,', 'cleans', 'was', 'nursing', 'first', 'last', 'school?”']\n",
            "{'the': 0, 'our': 1, 'During': 2, 'some': 3, 'us': 4, 'professor': 5, 'pop': 6, 'name': 7, 'Surely': 8, 'quiz.': 9, 'my': 10, 'questions,': 11, 'and': 12, 'I': 13, 'conscientious': 14, '“What': 15, 'of': 16, 'through': 17, 'month': 18, 'woman': 19, 'gave': 20, 'until': 21, 'read': 22, 'had': 23, 'is': 24, 'one:': 25, 'breezed': 26, 'student': 27, 'who': 28, 'a': 29, 'kind': 30, 'second': 31, 'this': 32, 'joke.': 33, 'school,': 34, 'cleans': 35, 'was': 36, 'nursing': 37, 'first': 38, 'last': 39, 'school?”': 40}\n",
            "41\n"
          ]
        }
      ]
    },
    {
      "cell_type": "code",
      "source": [
        "def skipgram(sentences, window_size=1):\n",
        "    skip_grams = []\n",
        "    for i in range(window_size, len(word_sequence) - window_size):\n",
        "        target = word_sequence[i]\n",
        "        context = [word_sequence[i - window_size], word_sequence[i + window_size]]\n",
        "        for w in context:\n",
        "            skip_grams.append([target, w])\n",
        "\n",
        "    return skip_grams"
      ],
      "metadata": {
        "id": "C9VuPv0PTphb"
      },
      "execution_count": 82,
      "outputs": []
    },
    {
      "cell_type": "code",
      "metadata": {
        "id": "_VIXjkfL4R3v",
        "colab": {
          "base_uri": "https://localhost:8080/"
        },
        "outputId": "3f2647ab-c9d3-4133-86d5-065f45278615"
      },
      "source": [
        "skipgram(word_sequence)[0]"
      ],
      "execution_count": 83,
      "outputs": [
        {
          "output_type": "execute_result",
          "data": {
            "text/plain": [
              "['my', 'During']"
            ]
          },
          "metadata": {},
          "execution_count": 83
        }
      ]
    },
    {
      "cell_type": "code",
      "metadata": {
        "id": "WiovprKK5T5_"
      },
      "source": [
        "class skipgramModel(nn.Module):\n",
        "    def __init__(self):\n",
        "        super(skipgramModel, self).__init__()\n",
        "        self.embedding = nn.Embedding(voc_size, embedding_size)\n",
        "        self.W = nn.Linear(embedding_size, 512, bias=False) \n",
        "        self.WT = nn.Linear(512, voc_size, bias=False)\n",
        "\n",
        "    def forward(self, X):\n",
        "        embeddings = self.embedding(X)\n",
        "        hidden_layer = nn.functional.relu(self.W(embeddings))\n",
        "        output_layer = self.WT(hidden_layer)\n",
        "        return output_layer\n",
        "\n",
        "    def get_word_emdedding(self, word):\n",
        "        word = torch.tensor([word_dict[word]])\n",
        "        return self.embedding(word).view(1,-1)"
      ],
      "execution_count": 84,
      "outputs": []
    },
    {
      "cell_type": "code",
      "metadata": {
        "id": "n_I8SgqQ7iQ6"
      },
      "source": [
        "model = skipgramModel()\n",
        "\n",
        "criterion = nn.CrossEntropyLoss()\n",
        "optimizer = optim.Adam(model.parameters(), lr=0.01)"
      ],
      "execution_count": 85,
      "outputs": []
    },
    {
      "cell_type": "code",
      "source": [
        "model"
      ],
      "metadata": {
        "colab": {
          "base_uri": "https://localhost:8080/"
        },
        "id": "gbYRO9FbyHSj",
        "outputId": "b54cb0cc-518a-4630-b3d0-b1e8496ce636"
      },
      "execution_count": 86,
      "outputs": [
        {
          "output_type": "execute_result",
          "data": {
            "text/plain": [
              "skipgramModel(\n",
              "  (embedding): Embedding(41, 10)\n",
              "  (W): Linear(in_features=10, out_features=512, bias=False)\n",
              "  (WT): Linear(in_features=512, out_features=41, bias=False)\n",
              ")"
            ]
          },
          "metadata": {},
          "execution_count": 86
        }
      ]
    },
    {
      "cell_type": "code",
      "source": [
        "\"\"\"During my second month of nursing school, our professor gave us a pop quiz.  \n",
        "I was a conscientious student and had breezed through the questions, until I read the last one: \n",
        "“What is the first name of the woman who cleans the school?”  Surely this was some kind of joke.\"\"\""
      ],
      "metadata": {
        "colab": {
          "base_uri": "https://localhost:8080/",
          "height": 0
        },
        "id": "IZGT2JVXRs4P",
        "outputId": "00a6d739-e620-4bab-8d20-53a9f69a49a6"
      },
      "execution_count": 87,
      "outputs": [
        {
          "output_type": "execute_result",
          "data": {
            "text/plain": [
              "'During my second month of nursing school, our professor gave us a pop quiz.  \\nI was a conscientious student and had breezed through the questions, until I read the last one: \\n“What is the first name of the woman who cleans the school?”  Surely this was some kind of joke.'"
            ],
            "application/vnd.google.colaboratory.intrinsic+json": {
              "type": "string"
            }
          },
          "metadata": {},
          "execution_count": 87
        }
      ]
    },
    {
      "cell_type": "code",
      "source": [
        "for epoch in range(10):\n",
        "    input_batch, target_batch = random_batch(skipgram(word_sequence))\n",
        "    input_batch1 = [word_dict[n1] for n1 in input_batch]\n",
        "    input_batch1 = torch.LongTensor(input_batch1)\n",
        "    target_batch = [word_dict[n1] for n1 in target_batch]\n",
        "    target_batch = torch.LongTensor(target_batch)\n",
        "    optimizer.zero_grad()\n",
        "    output = model(input_batch1)\n",
        "\n",
        "    print(\"Epoch\",epoch,\":\",\"Input: \",input_batch,\",\",input_batch1,\"Target: \",target_batch,\"Output: \",torch.argmax(model(input_batch1), 1))\n",
        "    \n",
        "\n",
        "    # output : [batch_size, voc_size], target_batch : [batch_size] (LongTensor, not one-hot)\n",
        "    loss = criterion(output, target_batch)\n",
        "    if (epoch + 1) % 10000 == 0:\n",
        "        print('Epoch:', '%04d' % (epoch + 1), 'cost =', '{:.6f}'.format(loss))\n",
        "\n",
        "    loss.backward(retain_graph=True)\n",
        "    optimizer.step()"
      ],
      "metadata": {
        "colab": {
          "base_uri": "https://localhost:8080/"
        },
        "id": "eFJTVXh9I___",
        "outputId": "834b4670-fb4f-4a90-910e-bd831ec2e217"
      },
      "execution_count": 90,
      "outputs": [
        {
          "output_type": "stream",
          "name": "stdout",
          "text": [
            "Epoch 0 : Input:  ['“What', 'I'] , tensor([15, 13]) Target:  tensor([24,  9]) Output:  tensor([24, 22])\n",
            "Epoch 1 : Input:  ['the', 'the'] , tensor([0, 0]) Target:  tensor([40, 24]) Output:  tensor([17, 17])\n",
            "Epoch 2 : Input:  ['read', 'us'] , tensor([22,  4]) Target:  tensor([ 0, 29]) Output:  tensor([ 0, 20])\n",
            "Epoch 3 : Input:  ['first', 'the'] , tensor([38,  0]) Target:  tensor([ 0, 17]) Output:  tensor([ 7, 17])\n",
            "Epoch 4 : Input:  ['is', 'gave'] , tensor([24, 20]) Target:  tensor([15,  4]) Output:  tensor([15,  5])\n",
            "Epoch 5 : Input:  ['is', 'I'] , tensor([24, 13]) Target:  tensor([15, 21]) Output:  tensor([15,  9])\n",
            "Epoch 6 : Input:  ['the', 'kind'] , tensor([ 0, 30]) Target:  tensor([19, 16]) Output:  tensor([17,  3])\n",
            "Epoch 7 : Input:  ['nursing', 'until'] , tensor([37, 21]) Target:  tensor([34, 13]) Output:  tensor([16, 11])\n",
            "Epoch 8 : Input:  ['nursing', 'breezed'] , tensor([37, 26]) Target:  tensor([34, 23]) Output:  tensor([16, 23])\n",
            "Epoch 9 : Input:  ['of', 'through'] , tensor([16, 17]) Target:  tensor([7, 0]) Output:  tensor([7, 0])\n"
          ]
        }
      ]
    },
    {
      "cell_type": "markdown",
      "source": [
        "In the above code .... The input in the 1st is the word form which we are converting to number using to word_dict dictionary. The 1st element of the input_batch1 is the center word and the 1st element of the target_batch is the context word. The 1st element of the prediction is the context word output of the neural network. "
      ],
      "metadata": {
        "id": "qHcYenDgUxk1"
      }
    },
    {
      "cell_type": "code",
      "metadata": {
        "id": "2elp_bzW8B0M"
      },
      "source": [
        "def Skipgram_test(test_data, model):\n",
        "    correct_ct = 0\n",
        "\n",
        "    for i in range(len(test_data)):\n",
        "        input_batch, target_batch = random_batch(test_data)\n",
        "        input_batch = [word_dict[n1] for n1 in input_batch]\n",
        "        input_batch = torch.LongTensor(input_batch)\n",
        "        target_batch = [word_dict[n1] for n1 in target_batch]\n",
        "        target_batch = torch.LongTensor(target_batch)\n",
        "\n",
        "        model.zero_grad()\n",
        "        predicted = torch.argmax(model(input_batch), 1)\n",
        "\n",
        "        # print(predicted)\n",
        "\n",
        "        if predicted[0] == target_batch[0]:\n",
        "                correct_ct += 1\n",
        "\n",
        "    print('Accuracy: {:.1f}% ({:d}/{:d})'.format(correct_ct/len(test_data)*100, correct_ct, len(test_data)))"
      ],
      "execution_count": 98,
      "outputs": []
    },
    {
      "cell_type": "code",
      "metadata": {
        "colab": {
          "base_uri": "https://localhost:8080/"
        },
        "id": "UOV3AC018Squ",
        "outputId": "ec5242ee-4002-46c1-8bb5-cd00785db5b3"
      },
      "source": [
        "Skipgram_test(skipgram(word_sequence), model)"
      ],
      "execution_count": 99,
      "outputs": [
        {
          "output_type": "stream",
          "name": "stdout",
          "text": [
            "Accuracy: 40.6% (39/96)\n"
          ]
        }
      ]
    },
    {
      "cell_type": "code",
      "metadata": {
        "colab": {
          "base_uri": "https://localhost:8080/",
          "height": 0
        },
        "id": "1HYIy_AM8gRj",
        "outputId": "105f88f7-af0b-408c-cc3b-6a72be0ccc7f"
      },
      "source": [
        "plt.figure(figsize=(15,10))\n",
        "for w in word_list:\n",
        "    x = model.get_word_emdedding(w).detach().data.numpy()[0][0]\n",
        "    y = model.get_word_emdedding(w).detach().data.numpy()[0][1]\n",
        "    plt.scatter(x, y)\n",
        "    plt.annotate(w, xy=(x, y), xytext=(5, 2), textcoords='offset points', ha='right', va='bottom')\n",
        "plt.show()"
      ],
      "execution_count": 100,
      "outputs": [
        {
          "output_type": "display_data",
          "data": {
            "text/plain": [
              "<Figure size 1080x720 with 1 Axes>"
            ],
            "image/png": "[encoded data removed]"
          },
          "metadata": {
            "needs_background": "light"
          }
        }
      ]
    },
    {
      "cell_type": "code",
      "metadata": {
        "id": "a5G2HLktB_1k"
      },
      "source": [
        "pred = \"professor\".split()"
      ],
      "execution_count": 101,
      "outputs": []
    },
    {
      "cell_type": "code",
      "metadata": {
        "id": "KvbtE_tJDmkB"
      },
      "source": [
        "word_dict_inverse = {i:w for w, i in word_dict.items()}"
      ],
      "execution_count": 102,
      "outputs": []
    },
    {
      "cell_type": "code",
      "metadata": {
        "colab": {
          "base_uri": "https://localhost:8080/"
        },
        "id": "f865TE5WEUS6",
        "outputId": "0e9769a6-fa3b-4f0a-c403-9ba87833a3ff"
      },
      "source": [
        "model_pred = []\n",
        "model_pred.append(pred[0])\n",
        "\n",
        "word = word_dict_inverse[torch.argmax(model(torch.LongTensor([word_dict[model_pred[-1]]]))).item()]\n",
        "model_pred.append(word)\n",
        "\n",
        "print(\"Center Word: \\033[1m {} \\033[0;0m , Context Word: \\033[1m {} \\033[0;0m\".format(model_pred[0],model_pred[1]))"
      ],
      "execution_count": 123,
      "outputs": [
        {
          "output_type": "stream",
          "name": "stdout",
          "text": [
            "Center Word: \u001b[1mprofessor\u001b[0;0m, Context Word: \u001b[1mour\u001b[0;0m\n"
          ]
        }
      ]
    },
    {
      "cell_type": "code",
      "source": [
        ""
      ],
      "metadata": {
        "id": "RMc5BtUVRcDQ"
      },
      "execution_count": null,
      "outputs": []
    },
    {
      "cell_type": "markdown",
      "source": [
        "#### Skipgram for window size = 2"
      ],
      "metadata": {
        "id": "UE5IvNcOZ2jb"
      }
    },
    {
      "cell_type": "code",
      "metadata": {
        "id": "3R4W9lCLZ5HA"
      },
      "source": [
        "import numpy as np\n",
        "import torch\n",
        "import torch.nn as nn\n",
        "import torch.optim as optim\n",
        "import matplotlib.pyplot as plt\n",
        "from tqdm import tqdm"
      ],
      "execution_count": 127,
      "outputs": []
    },
    {
      "cell_type": "code",
      "metadata": {
        "id": "yvd7VtFqZ5HA"
      },
      "source": [
        "def random_batch(skip_grams):\n",
        "    random_inputs = []\n",
        "    random_labels = []\n",
        "    random_index = np.random.choice(range(len(skip_grams)), batch_size, replace=False)\n",
        "    # print(random_index)\n",
        "    for i in random_index:\n",
        "        random_inputs.append(skip_grams[i][0])  # target\n",
        "        random_labels.append(skip_grams[i][1])  # context word\n",
        "\n",
        "    return random_inputs, random_labels"
      ],
      "execution_count": 128,
      "outputs": []
    },
    {
      "cell_type": "code",
      "source": [
        "print(skipgram(word_sequence)[9])\n",
        "print(skipgram(word_sequence)[65])"
      ],
      "metadata": {
        "colab": {
          "base_uri": "https://localhost:8080/"
        },
        "outputId": "fb4c1793-1bec-4686-b461-8e0b04f6ae1c",
        "id": "zQnx7Mb_Z5HB"
      },
      "execution_count": null,
      "outputs": [
        {
          "output_type": "stream",
          "name": "stdout",
          "text": [
            "['nursing', 'school,']\n",
            "['the', 'first']\n"
          ]
        }
      ]
    },
    {
      "cell_type": "code",
      "source": [
        "a = random_batch(skipgram(word_sequence))\n",
        "print(a)\n",
        "[word_dict[n1] for n1 in a[0]]"
      ],
      "metadata": {
        "colab": {
          "base_uri": "https://localhost:8080/"
        },
        "outputId": "242ebdea-a6a2-4e4a-b477-8a064cae543a",
        "id": "rNZsjp0FZ5HB"
      },
      "execution_count": null,
      "outputs": [
        {
          "output_type": "stream",
          "name": "stdout",
          "text": [
            "(['my', 'woman'], ['During', 'who'])\n"
          ]
        },
        {
          "output_type": "execute_result",
          "data": {
            "text/plain": [
              "[18, 30]"
            ]
          },
          "metadata": {},
          "execution_count": 120
        }
      ]
    },
    {
      "cell_type": "code",
      "metadata": {
        "id": "NgYNVnVdZ5HB"
      },
      "source": [
        "sentences = \"\"\"During my second month of nursing school, our professor gave us a pop quiz.  \n",
        "I was a conscientious student and had breezed through the questions, until I read the last one: \n",
        "“What is the first name of the woman who cleans the school?”  Surely this was some kind of joke.\"\"\".split()"
      ],
      "execution_count": 129,
      "outputs": []
    },
    {
      "cell_type": "code",
      "metadata": {
        "colab": {
          "base_uri": "https://localhost:8080/"
        },
        "outputId": "90eab325-8ab1-4651-ad70-736680d279d9",
        "id": "NqPhg_RPZ5HC"
      },
      "source": [
        "embedding_size = 10 \n",
        "batch_size = 2\n",
        "\n",
        "word_sequence = \" \".join(sentences).split()\n",
        "word_list = \" \".join(sentences).split()\n",
        "word_list = list(set(word_list))\n",
        "word_dict = {w: i for i, w in enumerate(word_list)}\n",
        "voc_size = len(word_list)\n",
        "\n",
        "print(word_list)\n",
        "print(word_dict)\n",
        "print(voc_size)"
      ],
      "execution_count": 130,
      "outputs": [
        {
          "output_type": "stream",
          "name": "stdout",
          "text": [
            "['our', 'of', 'had', 'questions,', 'the', 'first', 'quiz.', 'student', 'until', 'joke.', 'cleans', 'pop', 'nursing', 'was', 'us', 'professor', 'Surely', 'some', 'my', 'who', 'through', 'name', 'second', 'school,', 'month', 'I', 'one:', 'school?”', 'gave', 'kind', 'woman', 'this', 'and', '“What', 'last', 'conscientious', 'During', 'a', 'is', 'breezed', 'read']\n",
            "{'our': 0, 'of': 1, 'had': 2, 'questions,': 3, 'the': 4, 'first': 5, 'quiz.': 6, 'student': 7, 'until': 8, 'joke.': 9, 'cleans': 10, 'pop': 11, 'nursing': 12, 'was': 13, 'us': 14, 'professor': 15, 'Surely': 16, 'some': 17, 'my': 18, 'who': 19, 'through': 20, 'name': 21, 'second': 22, 'school,': 23, 'month': 24, 'I': 25, 'one:': 26, 'school?”': 27, 'gave': 28, 'kind': 29, 'woman': 30, 'this': 31, 'and': 32, '“What': 33, 'last': 34, 'conscientious': 35, 'During': 36, 'a': 37, 'is': 38, 'breezed': 39, 'read': 40}\n",
            "41\n"
          ]
        }
      ]
    },
    {
      "cell_type": "code",
      "source": [
        "\"\"\"During my second month of nursing school, our professor gave us a pop quiz.  \n",
        "I was a conscientious student and had breezed through the questions, until I read the last one: \n",
        "“What is the first name of the woman who cleans the school?”  Surely this was some kind of joke.\"\"\""
      ],
      "metadata": {
        "id": "DUDxzwA4agq-"
      },
      "execution_count": null,
      "outputs": []
    },
    {
      "cell_type": "code",
      "source": [
        "def skipgram(sentences, window_size=2):\n",
        "    skip_grams = []\n",
        "    for i in range(window_size, len(word_sequence) - window_size):\n",
        "        target = word_sequence[i]\n",
        "        context = [word_sequence[i - window_size],word_sequence[i - window_size+1], word_sequence[i + window_size-1],word_sequence[i + window_size]]\n",
        "        for w in context:\n",
        "            skip_grams.append([target, w])\n",
        "\n",
        "    return skip_grams"
      ],
      "metadata": {
        "id": "aG__fr4-Z5HC"
      },
      "execution_count": 144,
      "outputs": []
    },
    {
      "cell_type": "code",
      "metadata": {
        "colab": {
          "base_uri": "https://localhost:8080/"
        },
        "outputId": "9e1e3e34-e3e4-4432-850f-cee1f164f175",
        "id": "5Xc0NujfZ5HC"
      },
      "source": [
        "skipgram(word_sequence)[0]"
      ],
      "execution_count": 145,
      "outputs": [
        {
          "output_type": "execute_result",
          "data": {
            "text/plain": [
              "['second', 'During']"
            ]
          },
          "metadata": {},
          "execution_count": 145
        }
      ]
    },
    {
      "cell_type": "code",
      "metadata": {
        "id": "FlI-dMjqZ5HC"
      },
      "source": [
        "class skipgramModel(nn.Module):\n",
        "    def __init__(self):\n",
        "        super(skipgramModel, self).__init__()\n",
        "        self.embedding = nn.Embedding(voc_size, embedding_size)\n",
        "        self.W = nn.Linear(embedding_size, 512, bias=False) \n",
        "        self.WT = nn.Linear(512, voc_size, bias=False)\n",
        "\n",
        "    def forward(self, X):\n",
        "        embeddings = self.embedding(X)\n",
        "        hidden_layer = nn.functional.relu(self.W(embeddings))\n",
        "        output_layer = self.WT(hidden_layer)\n",
        "        return output_layer\n",
        "\n",
        "    def get_word_emdedding(self, word):\n",
        "        word = torch.tensor([word_dict[word]])\n",
        "        return self.embedding(word).view(1,-1)"
      ],
      "execution_count": 146,
      "outputs": []
    },
    {
      "cell_type": "code",
      "metadata": {
        "id": "NBVTUGYnZ5HD"
      },
      "source": [
        "model = skipgramModel()\n",
        "\n",
        "criterion = nn.CrossEntropyLoss()\n",
        "optimizer = optim.Adam(model.parameters(), lr=0.01)"
      ],
      "execution_count": 147,
      "outputs": []
    },
    {
      "cell_type": "code",
      "source": [
        "model"
      ],
      "metadata": {
        "colab": {
          "base_uri": "https://localhost:8080/"
        },
        "outputId": "7a10de80-affa-4b91-ce7c-16d72b41c74e",
        "id": "H0hBI63fZ5HD"
      },
      "execution_count": 148,
      "outputs": [
        {
          "output_type": "execute_result",
          "data": {
            "text/plain": [
              "skipgramModel(\n",
              "  (embedding): Embedding(41, 10)\n",
              "  (W): Linear(in_features=10, out_features=512, bias=False)\n",
              "  (WT): Linear(in_features=512, out_features=41, bias=False)\n",
              ")"
            ]
          },
          "metadata": {},
          "execution_count": 148
        }
      ]
    },
    {
      "cell_type": "code",
      "source": [
        "\"\"\"During my second month of nursing school, our professor gave us a pop quiz.  \n",
        "I was a conscientious student and had breezed through the questions, until I read the last one: \n",
        "“What is the first name of the woman who cleans the school?”  Surely this was some kind of joke.\"\"\""
      ],
      "metadata": {
        "colab": {
          "base_uri": "https://localhost:8080/",
          "height": 53
        },
        "id": "OYd3ZZ7MZ5HE",
        "outputId": "cce55793-00b7-40ea-8f1e-488aecb27866"
      },
      "execution_count": 149,
      "outputs": [
        {
          "output_type": "execute_result",
          "data": {
            "text/plain": [
              "'During my second month of nursing school, our professor gave us a pop quiz.  \\nI was a conscientious student and had breezed through the questions, until I read the last one: \\n“What is the first name of the woman who cleans the school?”  Surely this was some kind of joke.'"
            ],
            "application/vnd.google.colaboratory.intrinsic+json": {
              "type": "string"
            }
          },
          "metadata": {},
          "execution_count": 149
        }
      ]
    },
    {
      "cell_type": "code",
      "source": [
        "for epoch in range(100000):\n",
        "    input_batch, target_batch = random_batch(skipgram(word_sequence))\n",
        "    \n",
        "    input_batch1 = [word_dict[n1] for n1 in input_batch]\n",
        "    input_batch1 = torch.LongTensor(input_batch1)\n",
        "    target_batch = [word_dict[n1] for n1 in target_batch]\n",
        "    target_batch = torch.LongTensor(target_batch)\n",
        "    optimizer.zero_grad()\n",
        "    output = model(input_batch1)\n",
        "    # print(epoch,input_batch,target_batch)\n",
        "    # print(\"Epoch\",epoch,\":\",\"Input: \",input_batch,\",\",input_batch1,\"Target: \",target_batch,\"Output: \",torch.argmax(model(input_batch1), 1))\n",
        "\n",
        "    # output : [batch_size, voc_size], target_batch : [batch_size] (LongTensor, not one-hot)\n",
        "    loss = criterion(output, target_batch)\n",
        "    if (epoch + 1) % 10000 == 0:\n",
        "        print('Epoch:', '%04d' % (epoch + 1), 'cost =', '{:.6f}'.format(loss))\n",
        "\n",
        "    loss.backward(retain_graph=True)\n",
        "    optimizer.step()"
      ],
      "metadata": {
        "colab": {
          "base_uri": "https://localhost:8080/"
        },
        "outputId": "017ec5d1-da98-46dc-c08d-05e6b3dc072c",
        "id": "TIMdijWeZ5HE"
      },
      "execution_count": 163,
      "outputs": [
        {
          "output_type": "stream",
          "name": "stdout",
          "text": [
            "Epoch: 10000 cost = 1.446190\n",
            "Epoch: 20000 cost = 0.564801\n",
            "Epoch: 30000 cost = 2.530826\n",
            "Epoch: 40000 cost = 2.725854\n",
            "Epoch: 50000 cost = 1.710129\n",
            "Epoch: 60000 cost = 2.989322\n",
            "Epoch: 70000 cost = 1.748922\n",
            "Epoch: 80000 cost = 2.416938\n",
            "Epoch: 90000 cost = 2.527160\n",
            "Epoch: 100000 cost = 1.390604\n"
          ]
        }
      ]
    },
    {
      "cell_type": "code",
      "source": [
        "print(word_dict)"
      ],
      "metadata": {
        "colab": {
          "base_uri": "https://localhost:8080/"
        },
        "id": "fE7ms9ijbbFS",
        "outputId": "474f372e-35f2-4b29-b513-8451ddb5f143"
      },
      "execution_count": 164,
      "outputs": [
        {
          "output_type": "stream",
          "name": "stdout",
          "text": [
            "{'our': 0, 'of': 1, 'had': 2, 'questions,': 3, 'the': 4, 'first': 5, 'quiz.': 6, 'student': 7, 'until': 8, 'joke.': 9, 'cleans': 10, 'pop': 11, 'nursing': 12, 'was': 13, 'us': 14, 'professor': 15, 'Surely': 16, 'some': 17, 'my': 18, 'who': 19, 'through': 20, 'name': 21, 'second': 22, 'school,': 23, 'month': 24, 'I': 25, 'one:': 26, 'school?”': 27, 'gave': 28, 'kind': 29, 'woman': 30, 'this': 31, 'and': 32, '“What': 33, 'last': 34, 'conscientious': 35, 'During': 36, 'a': 37, 'is': 38, 'breezed': 39, 'read': 40}\n"
          ]
        }
      ]
    },
    {
      "cell_type": "code",
      "metadata": {
        "id": "YFJr9YfQZ5HE"
      },
      "source": [
        "def Skipgram_test(test_data, model):\n",
        "    correct_ct = 0\n",
        "\n",
        "    for i in range(len(test_data)):\n",
        "        input_batch, target_batch = random_batch(test_data)\n",
        "        input_batch = [word_dict[n1] for n1 in input_batch]\n",
        "        input_batch = torch.LongTensor(input_batch)\n",
        "        target_batch = [word_dict[n1] for n1 in target_batch]\n",
        "        target_batch = torch.LongTensor(target_batch)\n",
        "\n",
        "        model.zero_grad()\n",
        "        predicted = torch.argmax(model(input_batch), 1)\n",
        "\n",
        "        if predicted[0] == target_batch[0]:\n",
        "                correct_ct += 1\n",
        "\n",
        "    print('Accuracy: {:.1f}% ({:d}/{:d})'.format(correct_ct/len(test_data)*100, correct_ct, len(test_data)))"
      ],
      "execution_count": 165,
      "outputs": []
    },
    {
      "cell_type": "code",
      "metadata": {
        "colab": {
          "base_uri": "https://localhost:8080/"
        },
        "outputId": "40ec4f14-6145-4770-f405-96098bde83f9",
        "id": "DnNsO2VWZ5HE"
      },
      "source": [
        "Skipgram_test(skipgram(word_sequence), model)"
      ],
      "execution_count": 166,
      "outputs": [
        {
          "output_type": "stream",
          "name": "stdout",
          "text": [
            "Accuracy: 11.4% (21/184)\n"
          ]
        }
      ]
    },
    {
      "cell_type": "code",
      "source": [
        "w"
      ],
      "metadata": {
        "colab": {
          "base_uri": "https://localhost:8080/",
          "height": 35
        },
        "id": "9_VuSJekiX1c",
        "outputId": "5c8517ea-b999-47c7-f321-4bea1c6847a3"
      },
      "execution_count": 180,
      "outputs": [
        {
          "output_type": "execute_result",
          "data": {
            "text/plain": [
              "'read'"
            ],
            "application/vnd.google.colaboratory.intrinsic+json": {
              "type": "string"
            }
          },
          "metadata": {},
          "execution_count": 180
        }
      ]
    },
    {
      "cell_type": "code",
      "source": [
        "model.get_word_emdedding(w).detach().data.numpy()[0][0]"
      ],
      "metadata": {
        "colab": {
          "base_uri": "https://localhost:8080/"
        },
        "id": "oaBqjFYaiVP8",
        "outputId": "e364a43e-7d78-4df9-a28b-b4e900fdec86"
      },
      "execution_count": 185,
      "outputs": [
        {
          "output_type": "execute_result",
          "data": {
            "text/plain": [
              "-2.0611196"
            ]
          },
          "metadata": {},
          "execution_count": 185
        }
      ]
    },
    {
      "cell_type": "code",
      "source": [
        "plt.figure(figsize=(15,10))\n",
        "\n",
        "x = model.get_word_emdedding(w).detach().data.numpy()[0][0]\n",
        "y = model.get_word_emdedding(w).detach().data.numpy()[0][1]\n",
        "plt.scatter(x, y)\n",
        "plt.annotate(w, xy=(x, y), xytext=(5, 2), textcoords='offset points', ha='right', va='bottom')\n",
        "\n",
        "plt.show()"
      ],
      "metadata": {
        "colab": {
          "base_uri": "https://localhost:8080/",
          "height": 592
        },
        "id": "mzfSrOr4i3f5",
        "outputId": "e10da8c6-e32a-4ae6-e00b-1459f9d1ca0e"
      },
      "execution_count": 186,
      "outputs": [
        {
          "output_type": "display_data",
          "data": {
            "text/plain": [
              "<Figure size 1080x720 with 1 Axes>"
            ],
            "image/png": "[encoded data removed]"
          },
          "metadata": {
            "needs_background": "light"
          }
        }
      ]
    },
    {
      "cell_type": "code",
      "metadata": {
        "colab": {
          "base_uri": "https://localhost:8080/",
          "height": 592
        },
        "outputId": "76f6ce12-e87d-42ed-c19e-4ccf940c525e",
        "id": "U28o9xnKZ5HF"
      },
      "source": [
        "plt.figure(figsize=(15,10))\n",
        "for w in word_list:\n",
        "    x = model.get_word_emdedding(w).detach().data.numpy()[0][0]\n",
        "    y = model.get_word_emdedding(w).detach().data.numpy()[0][1]\n",
        "    plt.scatter(x, y)\n",
        "    plt.annotate(w, xy=(x, y), xytext=(5, 2), textcoords='offset points', ha='right', va='bottom')\n",
        "plt.show()"
      ],
      "execution_count": 167,
      "outputs": [
        {
          "output_type": "display_data",
          "data": {
            "text/plain": [
              "<Figure size 1080x720 with 1 Axes>"
            ],
            "image/png": "[encoded data removed]"
          },
          "metadata": {
            "needs_background": "light"
          }
        }
      ]
    },
    {
      "cell_type": "code",
      "metadata": {
        "id": "rBCC6SckZ5HF"
      },
      "source": [
        "pred = \"professor\".split()\n",
        "# nursing school"
      ],
      "execution_count": 168,
      "outputs": []
    },
    {
      "cell_type": "code",
      "metadata": {
        "id": "8PI0d6z2Z5HF"
      },
      "source": [
        "word_dict_inverse = {i:w for w, i in word_dict.items()}\n"
      ],
      "execution_count": 169,
      "outputs": []
    },
    {
      "cell_type": "code",
      "metadata": {
        "colab": {
          "base_uri": "https://localhost:8080/",
          "height": 35
        },
        "outputId": "3a9f7003-ac38-4147-9a37-783ec178b775",
        "id": "r0iNA_hnZ5HF"
      },
      "source": [
        "model_pred = []\n",
        "e = 0\n",
        "model_pred.append(pred[0])\n",
        "\n",
        "word = word_dict_inverse[torch.argmax(model(torch.LongTensor([word_dict[model_pred[-1]]]))).item()]\n",
        "model_pred.append(word)\n",
        "\n",
        "' '.join(model_pred)"
      ],
      "execution_count": 170,
      "outputs": [
        {
          "output_type": "execute_result",
          "data": {
            "text/plain": [
              "'professor our'"
            ],
            "application/vnd.google.colaboratory.intrinsic+json": {
              "type": "string"
            }
          },
          "metadata": {},
          "execution_count": 170
        }
      ]
    },
    {
      "cell_type": "code",
      "source": [
        ""
      ],
      "metadata": {
        "id": "CEFM5ku3dzZF"
      },
      "execution_count": null,
      "outputs": []
    },
    {
      "cell_type": "code",
      "source": [
        ""
      ],
      "metadata": {
        "id": "w_9Lf6HuL14a"
      },
      "execution_count": null,
      "outputs": []
    },
    {
      "cell_type": "code",
      "source": [
        ""
      ],
      "metadata": {
        "id": "6On802cIL2Ab"
      },
      "execution_count": null,
      "outputs": []
    },
    {
      "cell_type": "code",
      "source": [
        "import gensim\n",
        "from gensim.models import Word2Vec\n",
        "from nltk import tokenize\n",
        "sen = \"\"\"A recurrent neural network (RNN) is a class of artificial neural networks where connections between nodes form a directed or undirected graph along a temporal sequence. This allows it to exhibit temporal dynamic behavior. Derived from feedforward neural networks,RNNs can use their internal state (memory) to process variable length sequences of inputs.\"\"\"\n",
        "\n",
        "sen = tokenize.sent_tokenize(sen)\n",
        "l2 = []\n",
        "for i in sen:\n",
        "  l1 = []\n",
        "  for j in i.split():\n",
        "    l1.append(j)\n",
        "  l2.append(l1)"
      ],
      "metadata": {
        "id": "1U7smuJXL2Eq"
      },
      "execution_count": 314,
      "outputs": []
    },
    {
      "cell_type": "code",
      "source": [
        "model = Word2Vec(l2, min_count=1, window=1,size=100,sg=1)\n",
        "words = list(model.wv.vocab)\n",
        "a = model.similar_by_vector(model[\"artificial\"])\n",
        "\n",
        "max = a[0][1]\n",
        "c = 0\n",
        "a.sort(key = lambda x: x[1]) \n",
        "print(a)   \n",
        "# print(c)\n",
        "\n",
        "print(model[\"artificial\"])"
      ],
      "metadata": {
        "colab": {
          "base_uri": "https://localhost:8080/"
        },
        "id": "57ZCW3XhibaF",
        "outputId": "69013c7a-f3da-4244-a117-4636c0cb8a72"
      },
      "execution_count": 357,
      "outputs": [
        {
          "output_type": "stream",
          "name": "stdout",
          "text": [
            "[('internal', 0.09047636389732361), ('is', 0.09048963338136673), ('of', 0.1044875830411911), ('between', 0.10469523072242737), ('behavior.', 0.10541510581970215), ('(memory)', 0.10626307129859924), ('it', 0.13104388117790222), ('temporal', 0.18223702907562256), ('class', 0.1826116442680359), ('artificial', 1.0)]\n",
            "[ 1.0810290e-03  4.0936982e-03  2.1918870e-03 -1.0174013e-03\n",
            " -2.8375802e-03  4.7938260e-03  1.9269662e-03  1.7564942e-07\n",
            "  1.5148775e-03  3.5269582e-04  2.5599184e-03  1.1295858e-03\n",
            "  3.3150549e-04  3.8464826e-03  1.0402461e-03 -4.4105371e-05\n",
            " -4.8817284e-03 -2.7084104e-03 -3.1642539e-03 -2.6776171e-03\n",
            " -4.8911264e-03  4.0653381e-03 -4.5130444e-03 -9.8235963e-05\n",
            " -1.9711964e-03 -3.6742373e-03 -4.5576622e-03 -1.0649351e-03\n",
            "  2.9421889e-03  2.5586034e-03 -4.5217229e-03 -4.6066451e-03\n",
            "  4.2183441e-03  4.7154012e-03  4.3740540e-04  1.1298073e-03\n",
            " -4.9807765e-03 -5.4344628e-04  4.8435614e-03  4.0725800e-03\n",
            " -3.0404618e-03  3.5645540e-03 -3.8129420e-03 -9.1997773e-04\n",
            "  1.9034578e-03 -2.1317671e-03  2.3684690e-03 -2.2554544e-03\n",
            " -4.4661728e-03 -4.0536840e-03  5.6368107e-04 -7.2907319e-04\n",
            "  4.0682679e-04 -1.5676073e-03  4.2430093e-03  1.9826840e-03\n",
            " -1.3599027e-03  2.4751965e-03 -3.3658529e-03 -3.1032413e-03\n",
            "  9.1070106e-05 -1.1800949e-03  3.5168587e-03 -2.7024664e-03\n",
            "  3.1771977e-03 -4.4682971e-03 -2.9882677e-03 -4.5007649e-03\n",
            " -3.6686761e-03  1.6692481e-03  4.9634082e-03 -2.1978715e-03\n",
            " -9.7293156e-04  1.7363536e-04  1.9826787e-03  2.6401813e-04\n",
            " -2.9566479e-04 -3.0269481e-03  2.4676451e-03  2.6821005e-03\n",
            "  3.7994300e-04  8.8777269e-05  2.7277502e-03 -4.7714729e-03\n",
            "  1.9902419e-03  9.6128427e-04  1.2656561e-03 -3.3762231e-03\n",
            "  1.2858082e-04 -2.2028794e-03 -1.0123359e-03  4.4402839e-03\n",
            "  4.7825654e-03  1.1527531e-03  2.9767875e-03 -1.8288468e-03\n",
            " -3.5842345e-03  1.7655257e-03 -3.5988840e-03  8.0095086e-04]\n"
          ]
        },
        {
          "output_type": "stream",
          "name": "stderr",
          "text": [
            "/usr/local/lib/python3.7/dist-packages/ipykernel_launcher.py:3: DeprecationWarning: Call to deprecated `__getitem__` (Method will be removed in 4.0.0, use self.wv.__getitem__() instead).\n",
            "  This is separate from the ipykernel package so we can avoid doing imports until\n",
            "/usr/local/lib/python3.7/dist-packages/ipykernel_launcher.py:3: DeprecationWarning: Call to deprecated `similar_by_vector` (Method will be removed in 4.0.0, use self.wv.similar_by_vector() instead).\n",
            "  This is separate from the ipykernel package so we can avoid doing imports until\n",
            "/usr/local/lib/python3.7/dist-packages/ipykernel_launcher.py:11: DeprecationWarning: Call to deprecated `__getitem__` (Method will be removed in 4.0.0, use self.wv.__getitem__() instead).\n",
            "  # This is added back by InteractiveShellApp.init_path()\n"
          ]
        }
      ]
    },
    {
      "cell_type": "code",
      "source": [
        ""
      ],
      "metadata": {
        "id": "0aGFNeiemuBC"
      },
      "execution_count": null,
      "outputs": []
    }
  ]
}